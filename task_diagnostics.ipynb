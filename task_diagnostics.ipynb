{
 "cells": [
  {
   "cell_type": "code",
   "execution_count": 1,
   "metadata": {},
   "outputs": [
    {
     "name": "stderr",
     "output_type": "stream",
     "text": [
      "BokehDeprecationWarning: \"Use of 'Figure' as a key in Theme attributes\" was deprecated in Bokeh 3.0.0 and will be removed, use \"'figure' (lower-case) as a key\" instead.\n",
      "BokehDeprecationWarning: \"Use of 'Figure' as a key in Theme attributes\" was deprecated in Bokeh 3.0.0 and will be removed, use \"'figure' (lower-case) as a key\" instead.\n"
     ]
    },
    {
     "name": "stdout",
     "output_type": "stream",
     "text": [
      "No module named 'phonopy'\n"
     ]
    }
   ],
   "source": [
    "import pandas as pd\n",
    "import seaborn as sns\n",
    "import rho_plus as rp\n",
    "from baysic.utils import quick_view, json_to_df\n",
    "IS_DARK = False\n",
    "theme, cs = rp.mpl_setup(IS_DARK)\n",
    "rp.plotly_setup(IS_DARK)"
   ]
  },
  {
   "cell_type": "code",
   "execution_count": 4,
   "metadata": {},
   "outputs": [
    {
     "data": {
      "text/html": [
       "<div>\n",
       "<style scoped>\n",
       "    .dataframe tbody tr th:only-of-type {\n",
       "        vertical-align: middle;\n",
       "    }\n",
       "\n",
       "    .dataframe tbody tr th {\n",
       "        vertical-align: top;\n",
       "    }\n",
       "\n",
       "    .dataframe thead th {\n",
       "        text-align: right;\n",
       "    }\n",
       "</style>\n",
       "<table border=\"1\" class=\"dataframe\">\n",
       "  <thead>\n",
       "    <tr style=\"text-align: right;\">\n",
       "      <th></th>\n",
       "      <th>sg_symbol</th>\n",
       "      <th>symm</th>\n",
       "      <th>conv</th>\n",
       "      <th>scale</th>\n",
       "      <th>wyckoffs</th>\n",
       "      <th>prop_generated</th>\n",
       "      <th>avg_num_successful</th>\n",
       "      <th>prop_actual_success</th>\n",
       "      <th>best_struct</th>\n",
       "      <th>best_relaxed</th>\n",
       "      <th>...</th>\n",
       "      <th>material_id</th>\n",
       "      <th>formula_pretty</th>\n",
       "      <th>nsites</th>\n",
       "      <th>spacegroup</th>\n",
       "      <th>nelements</th>\n",
       "      <th>elements_list</th>\n",
       "      <th>CrystalSystem</th>\n",
       "      <th>category</th>\n",
       "      <th>nontrivial_coordinates</th>\n",
       "      <th>struct</th>\n",
       "    </tr>\n",
       "  </thead>\n",
       "  <tbody>\n",
       "    <tr>\n",
       "      <th>0</th>\n",
       "      <td>Pm-3m</td>\n",
       "      <td>[[1.42361461 1.42361461 1.42361461] Ga, [0. 0....</td>\n",
       "      <td>[[1.42361461 1.42361461 1.42361461] Ga, [0. 0....</td>\n",
       "      <td>1.0</td>\n",
       "      <td>1b_1a</td>\n",
       "      <td>0.729927</td>\n",
       "      <td>0.729927</td>\n",
       "      <td>1.0</td>\n",
       "      <td>[[0. 0. 0.] Ga, [1.38645637 1.38645637 1.38645...</td>\n",
       "      <td>[[-2.01615549e-09 -2.30417772e-09 -2.01615550e...</td>\n",
       "      <td>...</td>\n",
       "      <td>mp-1121</td>\n",
       "      <td>GaCo</td>\n",
       "      <td>2</td>\n",
       "      <td>221</td>\n",
       "      <td>2</td>\n",
       "      <td>Co Ga</td>\n",
       "      <td>Cubic</td>\n",
       "      <td>binary_easy</td>\n",
       "      <td>0</td>\n",
       "      <td>[[1.42361461 1.42361461 1.42361461] Ga, [0. 0....</td>\n",
       "    </tr>\n",
       "    <tr>\n",
       "      <th>1</th>\n",
       "      <td>Pm-3m</td>\n",
       "      <td>[[1.62043406 1.62043406 1.62043406] Sc, [0. 0....</td>\n",
       "      <td>[[1.62043406 1.62043406 1.62043407] Sc, [0. 0....</td>\n",
       "      <td>1.0</td>\n",
       "      <td>1b_1a</td>\n",
       "      <td>0.803213</td>\n",
       "      <td>0.803213</td>\n",
       "      <td>1.0</td>\n",
       "      <td>[[1.54106545 1.54106545 1.54106545] Sc, [0. 0....</td>\n",
       "      <td>[[1.63126762 1.63126763 1.63126763] Sc, [-9.78...</td>\n",
       "      <td>...</td>\n",
       "      <td>mp-1169</td>\n",
       "      <td>ScCu</td>\n",
       "      <td>2</td>\n",
       "      <td>221</td>\n",
       "      <td>2</td>\n",
       "      <td>Cu Sc</td>\n",
       "      <td>Cubic</td>\n",
       "      <td>binary_easy</td>\n",
       "      <td>0</td>\n",
       "      <td>[[1.62043406 1.62043406 1.62043406] Sc, [0. 0....</td>\n",
       "    </tr>\n",
       "    <tr>\n",
       "      <th>2</th>\n",
       "      <td>Pm-3m</td>\n",
       "      <td>[[1.708167 1.708167 1.708167] Y, [0. 0. 0.] Ir]</td>\n",
       "      <td>[[1.708167 1.708167 1.708167] Y, [0. 0. 0.] Ir]</td>\n",
       "      <td>1.0</td>\n",
       "      <td>1b_1a</td>\n",
       "      <td>0.806452</td>\n",
       "      <td>0.806452</td>\n",
       "      <td>1.0</td>\n",
       "      <td>[[0. 0. 0.] Y, [1.66537166 1.66537166 1.665371...</td>\n",
       "      <td>[[ 3.44021638e-10 -1.03206490e-09  4.53000000e...</td>\n",
       "      <td>...</td>\n",
       "      <td>mp-30746</td>\n",
       "      <td>YIr</td>\n",
       "      <td>2</td>\n",
       "      <td>221</td>\n",
       "      <td>2</td>\n",
       "      <td>Ir Y</td>\n",
       "      <td>Cubic</td>\n",
       "      <td>binary_easy</td>\n",
       "      <td>0</td>\n",
       "      <td>[[1.708167 1.708167 1.708167] Y, [0. 0. 0.] Ir]</td>\n",
       "    </tr>\n",
       "    <tr>\n",
       "      <th>3</th>\n",
       "      <td>F-43m</td>\n",
       "      <td>[[0. 0. 0.] Li, [-4.4150055 -4.4150055 -4.4150...</td>\n",
       "      <td>[[0. 0. 0.] Li, [-1.80227412e-16  2.94333700e+...</td>\n",
       "      <td>4.0</td>\n",
       "      <td>1a_1c_1b</td>\n",
       "      <td>0.458621</td>\n",
       "      <td>0.696552</td>\n",
       "      <td>1.0</td>\n",
       "      <td>[[0. 0. 0.] Li, [0.         2.24761391 2.24761...</td>\n",
       "      <td>[[-1.17601735e-09  1.17601737e-09  1.17601735e...</td>\n",
       "      <td>...</td>\n",
       "      <td>mp-11390</td>\n",
       "      <td>LiGaSi</td>\n",
       "      <td>3</td>\n",
       "      <td>216</td>\n",
       "      <td>3</td>\n",
       "      <td>Ga Li Si</td>\n",
       "      <td>Cubic</td>\n",
       "      <td>ternary_easy</td>\n",
       "      <td>0</td>\n",
       "      <td>[[0. 0. 0.] Li, [-4.4150055 -4.4150055 -4.4150...</td>\n",
       "    </tr>\n",
       "    <tr>\n",
       "      <th>4</th>\n",
       "      <td>Fm-3m</td>\n",
       "      <td>[[3.339564 3.339564 3.339564] Li, [5.009346 5....</td>\n",
       "      <td>[[3.33956400e+00 0.00000000e+00 2.04489318e-16...</td>\n",
       "      <td>4.0</td>\n",
       "      <td>1b_2c_1a</td>\n",
       "      <td>0.375587</td>\n",
       "      <td>0.469484</td>\n",
       "      <td>1.0</td>\n",
       "      <td>[[1.24695289 1.24695289 1.24695289] Mg, [1.246...</td>\n",
       "      <td>[[1.67505576 1.67505585 1.67505581] Mg, [1.675...</td>\n",
       "      <td>...</td>\n",
       "      <td>mp-30648</td>\n",
       "      <td>LiMg2Ga</td>\n",
       "      <td>4</td>\n",
       "      <td>225</td>\n",
       "      <td>3</td>\n",
       "      <td>Ga Li Mg</td>\n",
       "      <td>Cubic</td>\n",
       "      <td>ternary_easy</td>\n",
       "      <td>0</td>\n",
       "      <td>[[3.339564 3.339564 3.339564] Li, [5.009346 5....</td>\n",
       "    </tr>\n",
       "  </tbody>\n",
       "</table>\n",
       "<p>5 rows × 23 columns</p>\n",
       "</div>"
      ],
      "text/plain": [
       "  sg_symbol                                               symm  \\\n",
       "0     Pm-3m  [[1.42361461 1.42361461 1.42361461] Ga, [0. 0....   \n",
       "1     Pm-3m  [[1.62043406 1.62043406 1.62043406] Sc, [0. 0....   \n",
       "2     Pm-3m    [[1.708167 1.708167 1.708167] Y, [0. 0. 0.] Ir]   \n",
       "3     F-43m  [[0. 0. 0.] Li, [-4.4150055 -4.4150055 -4.4150...   \n",
       "4     Fm-3m  [[3.339564 3.339564 3.339564] Li, [5.009346 5....   \n",
       "\n",
       "                                                conv  scale  wyckoffs  \\\n",
       "0  [[1.42361461 1.42361461 1.42361461] Ga, [0. 0....    1.0     1b_1a   \n",
       "1  [[1.62043406 1.62043406 1.62043407] Sc, [0. 0....    1.0     1b_1a   \n",
       "2    [[1.708167 1.708167 1.708167] Y, [0. 0. 0.] Ir]    1.0     1b_1a   \n",
       "3  [[0. 0. 0.] Li, [-1.80227412e-16  2.94333700e+...    4.0  1a_1c_1b   \n",
       "4  [[3.33956400e+00 0.00000000e+00 2.04489318e-16...    4.0  1b_2c_1a   \n",
       "\n",
       "   prop_generated  avg_num_successful  prop_actual_success  \\\n",
       "0        0.729927            0.729927                  1.0   \n",
       "1        0.803213            0.803213                  1.0   \n",
       "2        0.806452            0.806452                  1.0   \n",
       "3        0.458621            0.696552                  1.0   \n",
       "4        0.375587            0.469484                  1.0   \n",
       "\n",
       "                                         best_struct  \\\n",
       "0  [[0. 0. 0.] Ga, [1.38645637 1.38645637 1.38645...   \n",
       "1  [[1.54106545 1.54106545 1.54106545] Sc, [0. 0....   \n",
       "2  [[0. 0. 0.] Y, [1.66537166 1.66537166 1.665371...   \n",
       "3  [[0. 0. 0.] Li, [0.         2.24761391 2.24761...   \n",
       "4  [[1.24695289 1.24695289 1.24695289] Mg, [1.246...   \n",
       "\n",
       "                                        best_relaxed  ...  material_id  \\\n",
       "0  [[-2.01615549e-09 -2.30417772e-09 -2.01615550e...  ...      mp-1121   \n",
       "1  [[1.63126762 1.63126763 1.63126763] Sc, [-9.78...  ...      mp-1169   \n",
       "2  [[ 3.44021638e-10 -1.03206490e-09  4.53000000e...  ...     mp-30746   \n",
       "3  [[-1.17601735e-09  1.17601737e-09  1.17601735e...  ...     mp-11390   \n",
       "4  [[1.67505576 1.67505585 1.67505581] Mg, [1.675...  ...     mp-30648   \n",
       "\n",
       "   formula_pretty  nsites spacegroup nelements  elements_list  CrystalSystem  \\\n",
       "0            GaCo       2        221         2          Co Ga          Cubic   \n",
       "1            ScCu       2        221         2          Cu Sc          Cubic   \n",
       "2             YIr       2        221         2           Ir Y          Cubic   \n",
       "3          LiGaSi       3        216         3       Ga Li Si          Cubic   \n",
       "4         LiMg2Ga       4        225         3       Ga Li Mg          Cubic   \n",
       "\n",
       "       category nontrivial_coordinates  \\\n",
       "0   binary_easy                      0   \n",
       "1   binary_easy                      0   \n",
       "2   binary_easy                      0   \n",
       "3  ternary_easy                      0   \n",
       "4  ternary_easy                      0   \n",
       "\n",
       "                                              struct  \n",
       "0  [[1.42361461 1.42361461 1.42361461] Ga, [0. 0....  \n",
       "1  [[1.62043406 1.62043406 1.62043406] Sc, [0. 0....  \n",
       "2    [[1.708167 1.708167 1.708167] Y, [0. 0. 0.] Ir]  \n",
       "3  [[0. 0. 0.] Li, [-4.4150055 -4.4150055 -4.4150...  \n",
       "4  [[3.339564 3.339564 3.339564] Li, [5.009346 5....  \n",
       "\n",
       "[5 rows x 23 columns]"
      ]
     },
     "execution_count": 4,
     "metadata": {},
     "output_type": "execute_result"
    }
   ],
   "source": [
    "from pathlib import Path\n",
    "run_id = Path('logs') / '10-02' / '2'\n",
    "\n",
    "df = json_to_df(run_id / 'total.json')\n",
    "df.head()"
   ]
  },
  {
   "cell_type": "code",
   "execution_count": 5,
   "metadata": {},
   "outputs": [],
   "source": [
    "df['matches'] = [int(row['conv'].matches(row['best_relaxed'])) for i, row in df.iterrows()]"
   ]
  },
  {
   "cell_type": "code",
   "execution_count": 6,
   "metadata": {},
   "outputs": [
    {
     "data": {
      "text/plain": [
       "0.71875"
      ]
     },
     "execution_count": 6,
     "metadata": {},
     "output_type": "execute_result"
    }
   ],
   "source": [
    "df['matches'].mean()"
   ]
  },
  {
   "cell_type": "code",
   "execution_count": 7,
   "metadata": {},
   "outputs": [
    {
     "name": "stderr",
     "output_type": "stream",
     "text": [
      "/home/nicholas/anaconda3/envs/baysic/lib/python3.10/site-packages/seaborn/_oldcore.py:1498: FutureWarning: is_categorical_dtype is deprecated and will be removed in a future version. Use isinstance(dtype, CategoricalDtype) instead\n",
      "  if pd.api.types.is_categorical_dtype(vector):\n",
      "/home/nicholas/anaconda3/envs/baysic/lib/python3.10/site-packages/seaborn/_oldcore.py:1119: FutureWarning: use_inf_as_na option is deprecated and will be removed in a future version. Convert inf values to NaN before operating instead.\n",
      "  with pd.option_context('mode.use_inf_as_na', True):\n"
     ]
    },
    {
     "data": {
      "text/plain": [
       "<Axes: xlabel='prop_generated', ylabel='Proportion'>"
      ]
     },
     "execution_count": 7,
     "metadata": {},
     "output_type": "execute_result"
    },
    {
     "data": {
      "image/png": "[encoded data removed]",
      "text/plain": [
       "<Figure size 800x600 with 1 Axes>"
      ]
     },
     "metadata": {},
     "output_type": "display_data"
    }
   ],
   "source": [
    "import numpy as np\n",
    "\n",
    "\n",
    "sns.ecdfplot(df, x='prop_generated')"
   ]
  },
  {
   "cell_type": "code",
   "execution_count": 12,
   "metadata": {},
   "outputs": [
    {
     "data": {},
     "metadata": {},
     "output_type": "display_data"
    },
    {
     "data": {
      "application/vnd.holoviews_exec.v0+json": "",
      "text/html": [
       "<div id='p1170'>\n",
       "  <div id=\"ea18ff06-ca86-4318-95cd-8e3910f6ea0c\" data-root-id=\"p1170\" style=\"display: contents;\"></div>\n",
       "</div>\n",
       "<script type=\"application/javascript\">(function(root) {\n",
       "  var docs_json = {\"6651263d-3c32-4463-b7f7-33ac2beafa45\":{\"version\":\"3.2.2\",\"title\":\"Bokeh Application\",\"roots\":[{\"type\":\"object\",\"name\":\"Row\",\"id\":\"p1170\",\"attributes\":{\"name\":\"Row01416\",\"tags\":[\"embedded\"],\"stylesheets\":[\"\\n:host(.pn-loading.pn-arc):before, .pn-loading.pn-arc:before {\\n  background-image: url(\\\"data:image/svg+xml;base64,PHN2ZyB4bWxucz0iaHR0cDovL3d3dy53My5vcmcvMjAwMC9zdmciIHN0eWxlPSJtYXJnaW46IGF1dG87IGJhY2tncm91bmQ6IG5vbmU7IGRpc3BsYXk6IGJsb2NrOyBzaGFwZS1yZW5kZXJpbmc6IGF1dG87IiB2aWV3Qm94PSIwIDAgMTAwIDEwMCIgcHJlc2VydmVBc3BlY3RSYXRpbz0ieE1pZFlNaWQiPiAgPGNpcmNsZSBjeD0iNTAiIGN5PSI1MCIgZmlsbD0ibm9uZSIgc3Ryb2tlPSIjYzNjM2MzIiBzdHJva2Utd2lkdGg9IjEwIiByPSIzNSIgc3Ryb2tlLWRhc2hhcnJheT0iMTY0LjkzMzYxNDMxMzQ2NDE1IDU2Ljk3Nzg3MTQzNzgyMTM4Ij4gICAgPGFuaW1hdGVUcmFuc2Zvcm0gYXR0cmlidXRlTmFtZT0idHJhbnNmb3JtIiB0eXBlPSJyb3RhdGUiIHJlcGVhdENvdW50PSJpbmRlZmluaXRlIiBkdXI9IjFzIiB2YWx1ZXM9IjAgNTAgNTA7MzYwIDUwIDUwIiBrZXlUaW1lcz0iMDsxIj48L2FuaW1hdGVUcmFuc2Zvcm0+ICA8L2NpcmNsZT48L3N2Zz4=\\\");\\n  background-size: auto calc(min(50%, 400px));\\n}\",{\"type\":\"object\",\"name\":\"ImportedStyleSheet\",\"id\":\"p1173\",\"attributes\":{\"url\":\"https://cdn.holoviz.org/panel/1.2.3/dist/css/loading.css\"}},{\"type\":\"object\",\"name\":\"ImportedStyleSheet\",\"id\":\"p1244\",\"attributes\":{\"url\":\"https://cdn.holoviz.org/panel/1.2.3/dist/css/listpanel.css\"}},{\"type\":\"object\",\"name\":\"ImportedStyleSheet\",\"id\":\"p1171\",\"attributes\":{\"url\":\"https://cdn.holoviz.org/panel/1.2.3/dist/bundled/theme/default.css\"}},{\"type\":\"object\",\"name\":\"ImportedStyleSheet\",\"id\":\"p1172\",\"attributes\":{\"url\":\"https://cdn.holoviz.org/panel/1.2.3/dist/bundled/theme/native.css\"}}],\"margin\":0,\"sizing_mode\":\"stretch_width\",\"align\":\"start\",\"children\":[{\"type\":\"object\",\"name\":\"Spacer\",\"id\":\"p1174\",\"attributes\":{\"name\":\"HSpacer01427\",\"stylesheets\":[\"\\n:host(.pn-loading.pn-arc):before, .pn-loading.pn-arc:before {\\n  background-image: url(\\\"data:image/svg+xml;base64,PHN2ZyB4bWxucz0iaHR0cDovL3d3dy53My5vcmcvMjAwMC9zdmciIHN0eWxlPSJtYXJnaW46IGF1dG87IGJhY2tncm91bmQ6IG5vbmU7IGRpc3BsYXk6IGJsb2NrOyBzaGFwZS1yZW5kZXJpbmc6IGF1dG87IiB2aWV3Qm94PSIwIDAgMTAwIDEwMCIgcHJlc2VydmVBc3BlY3RSYXRpbz0ieE1pZFlNaWQiPiAgPGNpcmNsZSBjeD0iNTAiIGN5PSI1MCIgZmlsbD0ibm9uZSIgc3Ryb2tlPSIjYzNjM2MzIiBzdHJva2Utd2lkdGg9IjEwIiByPSIzNSIgc3Ryb2tlLWRhc2hhcnJheT0iMTY0LjkzMzYxNDMxMzQ2NDE1IDU2Ljk3Nzg3MTQzNzgyMTM4Ij4gICAgPGFuaW1hdGVUcmFuc2Zvcm0gYXR0cmlidXRlTmFtZT0idHJhbnNmb3JtIiB0eXBlPSJyb3RhdGUiIHJlcGVhdENvdW50PSJpbmRlZmluaXRlIiBkdXI9IjFzIiB2YWx1ZXM9IjAgNTAgNTA7MzYwIDUwIDUwIiBrZXlUaW1lcz0iMDsxIj48L2FuaW1hdGVUcmFuc2Zvcm0+ICA8L2NpcmNsZT48L3N2Zz4=\\\");\\n  background-size: auto calc(min(50%, 400px));\\n}\",{\"id\":\"p1173\"},{\"id\":\"p1171\"},{\"id\":\"p1172\"}],\"margin\":0,\"sizing_mode\":\"stretch_width\",\"align\":\"start\"}},{\"type\":\"object\",\"name\":\"Figure\",\"id\":\"p1185\",\"attributes\":{\"width\":null,\"height\":null,\"margin\":[5,10],\"sizing_mode\":\"fixed\",\"align\":\"start\",\"x_range\":{\"type\":\"object\",\"name\":\"Range1d\",\"id\":\"p1175\",\"attributes\":{\"tags\":[[[\"best_gen_e_form\",\"best_gen_e_form\",null]],[]],\"start\":-9.07636623382,\"end\":-1.61792201998,\"reset_start\":-9.07636623382,\"reset_end\":-1.61792201998}},\"y_range\":{\"type\":\"object\",\"name\":\"Range1d\",\"id\":\"p1176\",\"attributes\":{\"tags\":[[[\"true_e_form\",\"true_e_form\",null]],{\"type\":\"map\",\"entries\":[[\"invert_yaxis\",false],[\"autorange\",false]]}],\"start\":-9.03651151657,\"end\":-1.62152853013,\"reset_start\":-9.03651151657,\"reset_end\":-1.62152853013}},\"x_scale\":{\"type\":\"object\",\"name\":\"LinearScale\",\"id\":\"p1195\"},\"y_scale\":{\"type\":\"object\",\"name\":\"LinearScale\",\"id\":\"p1196\"},\"title\":{\"type\":\"object\",\"name\":\"Title\",\"id\":\"p1188\",\"attributes\":{\"text_color\":\"black\",\"text_font_size\":\"12pt\"}},\"renderers\":[{\"type\":\"object\",\"name\":\"GlyphRenderer\",\"id\":\"p1221\",\"attributes\":{\"name\":\"0\",\"data_source\":{\"type\":\"object\",\"name\":\"ColumnDataSource\",\"id\":\"p1212\",\"attributes\":{\"selected\":{\"type\":\"object\",\"name\":\"Selection\",\"id\":\"p1213\",\"attributes\":{\"indices\":[],\"line_indices\":[]}},\"selection_policy\":{\"type\":\"object\",\"name\":\"UnionRenderers\",\"id\":\"p1214\"},\"data\":{\"type\":\"map\",\"entries\":[[\"best_gen_e_form\",{\"type\":\"ndarray\",\"array\":{\"type\":\"bytes\",\"data\":\"iiOpqutrDcAx1P9/xZIawFlwmpn0KBTAYmX//6ndE8AnuSd2EuQZwNqptm3xSBvAm2KamTy2G8DddWZm1RoXwD+TzEzawhLA\"},\"shape\":[9],\"dtype\":\"float64\",\"order\":\"little\"}],[\"true_e_form\",{\"type\":\"ndarray\",\"array\":{\"type\":\"bytes\",\"data\":\"jOhTVYxDDcBnFAAgfWsawESkZWafJRTAw+wyM+R4E8BYG2MnvAobwG+KJElynhrAGg7MzHP1G8DULGfm9hsXwGVbzcwhuxPA\"},\"shape\":[9],\"dtype\":\"float64\",\"order\":\"little\"}],[\"formula_pretty\",[\"LiGaSi\",\"LaF3\",\"K2NaAlF6\",\"NaPb2IO6\",\"YbB2\",\"Ge3N4\",\"LaCr4Cu3O2\",\"CaCu3Pt4O2\",\"La3Cu3Bi4\"]],[\"index\",{\"type\":\"ndarray\",\"array\":{\"type\":\"bytes\",\"data\":\"AwAAAAkAAAATAAAAFQAAABgAAAAZAAAAHAAAAB0AAAAeAAAA\"},\"shape\":[9],\"dtype\":\"int32\",\"order\":\"little\"}],[\"category\",[\"ternary_easy\",\"polymorph_binary\",\"quartenary_medium\",\"polymorph_quartenary\",\"template-based_binary\",\"polymorph_binary\",\"template-based_quartenary\",\"template-based_quartenary\",\"template-based_ternary\"]],[\"nsites\",{\"type\":\"ndarray\",\"array\":{\"type\":\"bytes\",\"data\":\"AwAAAAQAAAAKAAAACgAAAA0AAAAOAAAAFAAAABQAAAAUAAAA\"},\"shape\":[9],\"dtype\":\"int32\",\"order\":\"little\"}],[\"matches\",[0,0,0,0,0,0,0,0,0]]]}}},\"view\":{\"type\":\"object\",\"name\":\"CDSView\",\"id\":\"p1222\",\"attributes\":{\"filter\":{\"type\":\"object\",\"name\":\"AllIndices\",\"id\":\"p1223\"}}},\"glyph\":{\"type\":\"object\",\"name\":\"Scatter\",\"id\":\"p1218\",\"attributes\":{\"tags\":[\"apply_ranges\"],\"x\":{\"type\":\"field\",\"field\":\"best_gen_e_form\"},\"y\":{\"type\":\"field\",\"field\":\"true_e_form\"},\"size\":{\"type\":\"value\",\"value\":5.477225575051661},\"line_color\":{\"type\":\"value\",\"value\":\"#30a2da\"},\"fill_color\":{\"type\":\"value\",\"value\":\"#30a2da\"},\"hatch_color\":{\"type\":\"value\",\"value\":\"#30a2da\"}}},\"selection_glyph\":{\"type\":\"object\",\"name\":\"Scatter\",\"id\":\"p1226\",\"attributes\":{\"tags\":[\"apply_ranges\"],\"x\":{\"type\":\"field\",\"field\":\"best_gen_e_form\"},\"y\":{\"type\":\"field\",\"field\":\"true_e_form\"},\"size\":{\"type\":\"value\",\"value\":5.477225575051661},\"angle\":{\"type\":\"value\",\"value\":0.0},\"line_color\":{\"type\":\"value\",\"value\":\"#30a2da\"},\"line_alpha\":{\"type\":\"value\",\"value\":1.0},\"line_width\":{\"type\":\"value\",\"value\":1},\"line_join\":{\"type\":\"value\",\"value\":\"bevel\"},\"line_cap\":{\"type\":\"value\",\"value\":\"butt\"},\"line_dash\":{\"type\":\"value\",\"value\":[]},\"line_dash_offset\":{\"type\":\"value\",\"value\":0},\"fill_color\":{\"type\":\"value\",\"value\":\"#30a2da\"},\"fill_alpha\":{\"type\":\"value\",\"value\":1.0},\"hatch_color\":{\"type\":\"value\",\"value\":\"#30a2da\"},\"hatch_alpha\":{\"type\":\"value\",\"value\":1.0},\"hatch_scale\":{\"type\":\"value\",\"value\":12.0},\"hatch_pattern\":{\"type\":\"value\",\"value\":null},\"hatch_weight\":{\"type\":\"value\",\"value\":1.0},\"marker\":{\"type\":\"value\",\"value\":\"circle\"}}},\"nonselection_glyph\":{\"type\":\"object\",\"name\":\"Scatter\",\"id\":\"p1219\",\"attributes\":{\"tags\":[\"apply_ranges\"],\"x\":{\"type\":\"field\",\"field\":\"best_gen_e_form\"},\"y\":{\"type\":\"field\",\"field\":\"true_e_form\"},\"size\":{\"type\":\"value\",\"value\":5.477225575051661},\"line_color\":{\"type\":\"value\",\"value\":\"#30a2da\"},\"line_alpha\":{\"type\":\"value\",\"value\":0.1},\"fill_color\":{\"type\":\"value\",\"value\":\"#30a2da\"},\"fill_alpha\":{\"type\":\"value\",\"value\":0.1},\"hatch_color\":{\"type\":\"value\",\"value\":\"#30a2da\"},\"hatch_alpha\":{\"type\":\"value\",\"value\":0.1}}},\"muted_glyph\":{\"type\":\"object\",\"name\":\"Scatter\",\"id\":\"p1220\",\"attributes\":{\"tags\":[\"apply_ranges\"],\"x\":{\"type\":\"field\",\"field\":\"best_gen_e_form\"},\"y\":{\"type\":\"field\",\"field\":\"true_e_form\"},\"size\":{\"type\":\"value\",\"value\":5.477225575051661},\"line_color\":{\"type\":\"value\",\"value\":\"#30a2da\"},\"line_alpha\":{\"type\":\"value\",\"value\":0.2},\"fill_color\":{\"type\":\"value\",\"value\":\"#30a2da\"},\"fill_alpha\":{\"type\":\"value\",\"value\":0.2},\"hatch_color\":{\"type\":\"value\",\"value\":\"#30a2da\"},\"hatch_alpha\":{\"type\":\"value\",\"value\":0.2}}}}},{\"type\":\"object\",\"name\":\"GlyphRenderer\",\"id\":\"p1236\",\"attributes\":{\"name\":\"1\",\"data_source\":{\"type\":\"object\",\"name\":\"ColumnDataSource\",\"id\":\"p1227\",\"attributes\":{\"selected\":{\"type\":\"object\",\"name\":\"Selection\",\"id\":\"p1228\",\"attributes\":{\"indices\":[],\"line_indices\":[]}},\"selection_policy\":{\"type\":\"object\",\"name\":\"UnionRenderers\",\"id\":\"p1229\"},\"data\":{\"type\":\"map\",\"entries\":[[\"best_gen_e_form\",{\"type\":\"ndarray\",\"array\":{\"type\":\"bytes\",\"data\":\"/HP/f714FcAOMv/fTgAWwHz4/1/f6CDAOakAgGnqAcCaJf8fIKUQwI5z/7+PhB7Aq28AAHcNGcDWLv+/90oQwIVB/9+9SgnAZEj/35nrEMCL62bmzHMSwD2rqqrnjxfAmOj/n8IYIMBAKf//pLAUwCzlmpmQhw/ASA+aGZFxEsBpGMzMvcgZwPjoZma6/xzAOPAxM8/kB8CABOzEGEMawGHps7SwfBDAHRQtLWXmE8CTSpmZt1ggwA==\"},\"shape\":[23],\"dtype\":\"float64\",\"order\":\"little\"}],[\"true_e_form\",{\"type\":\"ndarray\",\"array\":{\"type\":\"bytes\",\"data\":\"J8sAwId0FcBVeQBgfP0VwJL//z9S1iDABEkAgGHqAcCCfv9fHqUQwIdn/7+OhB7A9Kf/P10NGcD1h//fDEUQwNZo/v+URgnAwvP/H+jUEMDSzTMziXISwGx3/38rjxfACzUAIBIPIMCnBTSzxKoUwHPXmZlVhw/Ad2Iys1g6EsDHRs3MjcIZwNYmZmbzqBzAeCrLTLziB8CKm0/sTD0awCbBWVrmdxDA/xNqaZGDE8D9+f9/f1AgwA==\"},\"shape\":[23],\"dtype\":\"float64\",\"order\":\"little\"}],[\"formula_pretty\",[\"GaCo\",\"ScCu\",\"YIr\",\"LiMg2Ga\",\"LuInCu2\",\"TaGaCo2\",\"InFeCo2\",\"LiMgSnPt\",\"LiMgSnAu\",\"DyPb3\",\"Ca3SnO\",\"ZrZnNi4\",\"Cr3Ga\",\"K2LiCrF6\",\"Rb3PrCl6\",\"K2LiInF6\",\"Sr2MgIrO6\",\"Ba2YIrO6\",\"K2NaAlH6\",\"Al4Cu2O7\",\"Ho4Ga2Ni\",\"Co4NiSb2\",\"U3Sb4Ir3\"]],[\"index\",{\"type\":\"ndarray\",\"array\":{\"type\":\"bytes\",\"data\":\"AAAAAAEAAAACAAAABAAAAAUAAAAGAAAABwAAAAgAAAAKAAAACwAAAAwAAAANAAAADgAAAA8AAAAQAAAAEQAAABIAAAAUAAAAFgAAABcAAAAaAAAAGwAAAB8AAAA=\"},\"shape\":[23],\"dtype\":\"int32\",\"order\":\"little\"}],[\"category\",[\"binary_easy\",\"binary_easy\",\"binary_easy\",\"ternary_easy\",\"ternary_easy\",\"ternary_easy\",\"ternary_easy\",\"quaternary_easy\",\"quaternary_easy\",\"binary_easy\",\"ternary_easy\",\"ternary_hard\",\"binary_easy\",\"template-based_quartenary\",\"template-based_ternary\",\"quaternary_easy\",\"quaternary_easy\",\"quartenary_medium\",\"quartenary_medium\",\"ternary_hard\",\"template-based_ternary\",\"template-based_ternary\",\"template-based_ternary\"]],[\"nsites\",{\"type\":\"ndarray\",\"array\":{\"type\":\"bytes\",\"data\":\"AgAAAAIAAAACAAAABAAAAAQAAAAEAAAABAAAAAQAAAAEAAAABAAAAAUAAAAGAAAACAAAAAoAAAAKAAAACgAAAAoAAAAKAAAACgAAAA0AAAARAAAAEQAAABQAAAA=\"},\"shape\":[23],\"dtype\":\"int32\",\"order\":\"little\"}],[\"matches\",[1,1,1,1,1,1,1,1,1,1,1,1,1,1,1,1,1,1,1,1,1,1,1]]]}}},\"view\":{\"type\":\"object\",\"name\":\"CDSView\",\"id\":\"p1237\",\"attributes\":{\"filter\":{\"type\":\"object\",\"name\":\"AllIndices\",\"id\":\"p1238\"}}},\"glyph\":{\"type\":\"object\",\"name\":\"Scatter\",\"id\":\"p1233\",\"attributes\":{\"tags\":[\"apply_ranges\"],\"x\":{\"type\":\"field\",\"field\":\"best_gen_e_form\"},\"y\":{\"type\":\"field\",\"field\":\"true_e_form\"},\"size\":{\"type\":\"value\",\"value\":5.477225575051661},\"line_color\":{\"type\":\"value\",\"value\":\"#fc4f30\"},\"fill_color\":{\"type\":\"value\",\"value\":\"#fc4f30\"},\"hatch_color\":{\"type\":\"value\",\"value\":\"#fc4f30\"}}},\"selection_glyph\":{\"type\":\"object\",\"name\":\"Scatter\",\"id\":\"p1240\",\"attributes\":{\"tags\":[\"apply_ranges\"],\"x\":{\"type\":\"field\",\"field\":\"best_gen_e_form\"},\"y\":{\"type\":\"field\",\"field\":\"true_e_form\"},\"size\":{\"type\":\"value\",\"value\":5.477225575051661},\"angle\":{\"type\":\"value\",\"value\":0.0},\"line_color\":{\"type\":\"value\",\"value\":\"#fc4f30\"},\"line_alpha\":{\"type\":\"value\",\"value\":1.0},\"line_width\":{\"type\":\"value\",\"value\":1},\"line_join\":{\"type\":\"value\",\"value\":\"bevel\"},\"line_cap\":{\"type\":\"value\",\"value\":\"butt\"},\"line_dash\":{\"type\":\"value\",\"value\":[]},\"line_dash_offset\":{\"type\":\"value\",\"value\":0},\"fill_color\":{\"type\":\"value\",\"value\":\"#fc4f30\"},\"fill_alpha\":{\"type\":\"value\",\"value\":1.0},\"hatch_color\":{\"type\":\"value\",\"value\":\"#fc4f30\"},\"hatch_alpha\":{\"type\":\"value\",\"value\":1.0},\"hatch_scale\":{\"type\":\"value\",\"value\":12.0},\"hatch_pattern\":{\"type\":\"value\",\"value\":null},\"hatch_weight\":{\"type\":\"value\",\"value\":1.0},\"marker\":{\"type\":\"value\",\"value\":\"circle\"}}},\"nonselection_glyph\":{\"type\":\"object\",\"name\":\"Scatter\",\"id\":\"p1234\",\"attributes\":{\"tags\":[\"apply_ranges\"],\"x\":{\"type\":\"field\",\"field\":\"best_gen_e_form\"},\"y\":{\"type\":\"field\",\"field\":\"true_e_form\"},\"size\":{\"type\":\"value\",\"value\":5.477225575051661},\"line_color\":{\"type\":\"value\",\"value\":\"#fc4f30\"},\"line_alpha\":{\"type\":\"value\",\"value\":0.1},\"fill_color\":{\"type\":\"value\",\"value\":\"#fc4f30\"},\"fill_alpha\":{\"type\":\"value\",\"value\":0.1},\"hatch_color\":{\"type\":\"value\",\"value\":\"#fc4f30\"},\"hatch_alpha\":{\"type\":\"value\",\"value\":0.1}}},\"muted_glyph\":{\"type\":\"object\",\"name\":\"Scatter\",\"id\":\"p1235\",\"attributes\":{\"tags\":[\"apply_ranges\"],\"x\":{\"type\":\"field\",\"field\":\"best_gen_e_form\"},\"y\":{\"type\":\"field\",\"field\":\"true_e_form\"},\"size\":{\"type\":\"value\",\"value\":5.477225575051661},\"line_color\":{\"type\":\"value\",\"value\":\"#fc4f30\"},\"line_alpha\":{\"type\":\"value\",\"value\":0.2},\"fill_color\":{\"type\":\"value\",\"value\":\"#fc4f30\"},\"fill_alpha\":{\"type\":\"value\",\"value\":0.2},\"hatch_color\":{\"type\":\"value\",\"value\":\"#fc4f30\"},\"hatch_alpha\":{\"type\":\"value\",\"value\":0.2}}}}}],\"toolbar\":{\"type\":\"object\",\"name\":\"Toolbar\",\"id\":\"p1194\",\"attributes\":{\"tools\":[{\"type\":\"object\",\"name\":\"WheelZoomTool\",\"id\":\"p1180\",\"attributes\":{\"tags\":[\"hv_created\"],\"zoom_together\":\"none\"}},{\"type\":\"object\",\"name\":\"HoverTool\",\"id\":\"p1181\",\"attributes\":{\"tags\":[\"hv_created\"],\"renderers\":[{\"id\":\"p1221\"},{\"id\":\"p1236\"}],\"tooltips\":[[\"matches\",\"@{matches}\"],[\"best_gen_e_form\",\"@{best_gen_e_form}\"],[\"true_e_form\",\"@{true_e_form}\"],[\"formula_pretty\",\"@{formula_pretty}\"],[\"index\",\"@{index}\"],[\"category\",\"@{category}\"],[\"nsites\",\"@{nsites}\"]]}},{\"type\":\"object\",\"name\":\"SaveTool\",\"id\":\"p1207\"},{\"type\":\"object\",\"name\":\"PanTool\",\"id\":\"p1208\"},{\"type\":\"object\",\"name\":\"BoxZoomTool\",\"id\":\"p1209\",\"attributes\":{\"overlay\":{\"type\":\"object\",\"name\":\"BoxAnnotation\",\"id\":\"p1210\",\"attributes\":{\"syncable\":false,\"level\":\"overlay\",\"visible\":false,\"left_units\":\"canvas\",\"right_units\":\"canvas\",\"bottom_units\":\"canvas\",\"top_units\":\"canvas\",\"line_color\":\"black\",\"line_alpha\":1.0,\"line_width\":2,\"line_dash\":[4,4],\"fill_color\":\"lightgrey\",\"fill_alpha\":0.5}}}},{\"type\":\"object\",\"name\":\"ResetTool\",\"id\":\"p1211\"}],\"active_drag\":{\"id\":\"p1208\"},\"active_scroll\":{\"id\":\"p1180\"}}},\"left\":[{\"type\":\"object\",\"name\":\"LinearAxis\",\"id\":\"p1202\",\"attributes\":{\"ticker\":{\"type\":\"object\",\"name\":\"BasicTicker\",\"id\":\"p1203\",\"attributes\":{\"mantissas\":[1,2,5]}},\"formatter\":{\"type\":\"object\",\"name\":\"BasicTickFormatter\",\"id\":\"p1204\"},\"axis_label\":\"true_e_form\",\"major_label_policy\":{\"type\":\"object\",\"name\":\"AllLabels\",\"id\":\"p1205\"}}}],\"right\":[{\"type\":\"object\",\"name\":\"Legend\",\"id\":\"p1224\",\"attributes\":{\"location\":[0,0],\"title\":\"matches\",\"click_policy\":\"mute\",\"items\":[{\"type\":\"object\",\"name\":\"LegendItem\",\"id\":\"p1225\",\"attributes\":{\"label\":{\"type\":\"value\",\"value\":\"0\"},\"renderers\":[{\"id\":\"p1221\"}]}},{\"type\":\"object\",\"name\":\"LegendItem\",\"id\":\"p1239\",\"attributes\":{\"label\":{\"type\":\"value\",\"value\":\"1\"},\"renderers\":[{\"id\":\"p1236\"}]}}]}}],\"below\":[{\"type\":\"object\",\"name\":\"LinearAxis\",\"id\":\"p1197\",\"attributes\":{\"ticker\":{\"type\":\"object\",\"name\":\"BasicTicker\",\"id\":\"p1198\",\"attributes\":{\"mantissas\":[1,2,5]}},\"formatter\":{\"type\":\"object\",\"name\":\"BasicTickFormatter\",\"id\":\"p1199\"},\"axis_label\":\"best_gen_e_form\",\"major_label_policy\":{\"type\":\"object\",\"name\":\"AllLabels\",\"id\":\"p1200\"}}}],\"center\":[{\"type\":\"object\",\"name\":\"Grid\",\"id\":\"p1201\",\"attributes\":{\"axis\":{\"id\":\"p1197\"},\"grid_line_color\":null}},{\"type\":\"object\",\"name\":\"Grid\",\"id\":\"p1206\",\"attributes\":{\"dimension\":1,\"axis\":{\"id\":\"p1202\"},\"grid_line_color\":null}}],\"frame_width\":300,\"frame_height\":300,\"min_border_top\":10,\"min_border_bottom\":10,\"min_border_left\":10,\"min_border_right\":10,\"output_backend\":\"webgl\"}},{\"type\":\"object\",\"name\":\"Spacer\",\"id\":\"p1242\",\"attributes\":{\"name\":\"HSpacer01430\",\"stylesheets\":[\"\\n:host(.pn-loading.pn-arc):before, .pn-loading.pn-arc:before {\\n  background-image: url(\\\"data:image/svg+xml;base64,PHN2ZyB4bWxucz0iaHR0cDovL3d3dy53My5vcmcvMjAwMC9zdmciIHN0eWxlPSJtYXJnaW46IGF1dG87IGJhY2tncm91bmQ6IG5vbmU7IGRpc3BsYXk6IGJsb2NrOyBzaGFwZS1yZW5kZXJpbmc6IGF1dG87IiB2aWV3Qm94PSIwIDAgMTAwIDEwMCIgcHJlc2VydmVBc3BlY3RSYXRpbz0ieE1pZFlNaWQiPiAgPGNpcmNsZSBjeD0iNTAiIGN5PSI1MCIgZmlsbD0ibm9uZSIgc3Ryb2tlPSIjYzNjM2MzIiBzdHJva2Utd2lkdGg9IjEwIiByPSIzNSIgc3Ryb2tlLWRhc2hhcnJheT0iMTY0LjkzMzYxNDMxMzQ2NDE1IDU2Ljk3Nzg3MTQzNzgyMTM4Ij4gICAgPGFuaW1hdGVUcmFuc2Zvcm0gYXR0cmlidXRlTmFtZT0idHJhbnNmb3JtIiB0eXBlPSJyb3RhdGUiIHJlcGVhdENvdW50PSJpbmRlZmluaXRlIiBkdXI9IjFzIiB2YWx1ZXM9IjAgNTAgNTA7MzYwIDUwIDUwIiBrZXlUaW1lcz0iMDsxIj48L2FuaW1hdGVUcmFuc2Zvcm0+ICA8L2NpcmNsZT48L3N2Zz4=\\\");\\n  background-size: auto calc(min(50%, 400px));\\n}\",{\"id\":\"p1173\"},{\"id\":\"p1171\"},{\"id\":\"p1172\"}],\"margin\":0,\"sizing_mode\":\"stretch_width\",\"align\":\"start\"}}]}}],\"defs\":[{\"type\":\"model\",\"name\":\"ReactiveHTML1\"},{\"type\":\"model\",\"name\":\"FlexBox1\",\"properties\":[{\"name\":\"align_content\",\"kind\":\"Any\",\"default\":\"flex-start\"},{\"name\":\"align_items\",\"kind\":\"Any\",\"default\":\"flex-start\"},{\"name\":\"flex_direction\",\"kind\":\"Any\",\"default\":\"row\"},{\"name\":\"flex_wrap\",\"kind\":\"Any\",\"default\":\"wrap\"},{\"name\":\"justify_content\",\"kind\":\"Any\",\"default\":\"flex-start\"}]},{\"type\":\"model\",\"name\":\"FloatPanel1\",\"properties\":[{\"name\":\"config\",\"kind\":\"Any\",\"default\":{\"type\":\"map\"}},{\"name\":\"contained\",\"kind\":\"Any\",\"default\":true},{\"name\":\"position\",\"kind\":\"Any\",\"default\":\"right-top\"},{\"name\":\"offsetx\",\"kind\":\"Any\",\"default\":null},{\"name\":\"offsety\",\"kind\":\"Any\",\"default\":null},{\"name\":\"theme\",\"kind\":\"Any\",\"default\":\"primary\"},{\"name\":\"status\",\"kind\":\"Any\",\"default\":\"normalized\"}]},{\"type\":\"model\",\"name\":\"GridStack1\",\"properties\":[{\"name\":\"mode\",\"kind\":\"Any\",\"default\":\"warn\"},{\"name\":\"ncols\",\"kind\":\"Any\",\"default\":null},{\"name\":\"nrows\",\"kind\":\"Any\",\"default\":null},{\"name\":\"allow_resize\",\"kind\":\"Any\",\"default\":true},{\"name\":\"allow_drag\",\"kind\":\"Any\",\"default\":true},{\"name\":\"state\",\"kind\":\"Any\",\"default\":[]}]},{\"type\":\"model\",\"name\":\"drag1\",\"properties\":[{\"name\":\"slider_width\",\"kind\":\"Any\",\"default\":5},{\"name\":\"slider_color\",\"kind\":\"Any\",\"default\":\"black\"},{\"name\":\"value\",\"kind\":\"Any\",\"default\":50}]},{\"type\":\"model\",\"name\":\"click1\",\"properties\":[{\"name\":\"terminal_output\",\"kind\":\"Any\",\"default\":\"\"},{\"name\":\"debug_name\",\"kind\":\"Any\",\"default\":\"\"},{\"name\":\"clears\",\"kind\":\"Any\",\"default\":0}]},{\"type\":\"model\",\"name\":\"FastWrapper1\",\"properties\":[{\"name\":\"object\",\"kind\":\"Any\",\"default\":null},{\"name\":\"style\",\"kind\":\"Any\",\"default\":null}]},{\"type\":\"model\",\"name\":\"NotificationAreaBase1\",\"properties\":[{\"name\":\"js_events\",\"kind\":\"Any\",\"default\":{\"type\":\"map\"}},{\"name\":\"position\",\"kind\":\"Any\",\"default\":\"bottom-right\"},{\"name\":\"_clear\",\"kind\":\"Any\",\"default\":0}]},{\"type\":\"model\",\"name\":\"NotificationArea1\",\"properties\":[{\"name\":\"js_events\",\"kind\":\"Any\",\"default\":{\"type\":\"map\"}},{\"name\":\"notifications\",\"kind\":\"Any\",\"default\":[]},{\"name\":\"position\",\"kind\":\"Any\",\"default\":\"bottom-right\"},{\"name\":\"_clear\",\"kind\":\"Any\",\"default\":0},{\"name\":\"types\",\"kind\":\"Any\",\"default\":[{\"type\":\"map\",\"entries\":[[\"type\",\"warning\"],[\"background\",\"#ffc107\"],[\"icon\",{\"type\":\"map\",\"entries\":[[\"className\",\"fas fa-exclamation-triangle\"],[\"tagName\",\"i\"],[\"color\",\"white\"]]}]]},{\"type\":\"map\",\"entries\":[[\"type\",\"info\"],[\"background\",\"#007bff\"],[\"icon\",{\"type\":\"map\",\"entries\":[[\"className\",\"fas fa-info-circle\"],[\"tagName\",\"i\"],[\"color\",\"white\"]]}]]}]}]},{\"type\":\"model\",\"name\":\"Notification\",\"properties\":[{\"name\":\"background\",\"kind\":\"Any\",\"default\":null},{\"name\":\"duration\",\"kind\":\"Any\",\"default\":3000},{\"name\":\"icon\",\"kind\":\"Any\",\"default\":null},{\"name\":\"message\",\"kind\":\"Any\",\"default\":\"\"},{\"name\":\"notification_type\",\"kind\":\"Any\",\"default\":null},{\"name\":\"_destroyed\",\"kind\":\"Any\",\"default\":false}]},{\"type\":\"model\",\"name\":\"TemplateActions1\",\"properties\":[{\"name\":\"open_modal\",\"kind\":\"Any\",\"default\":0},{\"name\":\"close_modal\",\"kind\":\"Any\",\"default\":0}]},{\"type\":\"model\",\"name\":\"BootstrapTemplateActions1\",\"properties\":[{\"name\":\"open_modal\",\"kind\":\"Any\",\"default\":0},{\"name\":\"close_modal\",\"kind\":\"Any\",\"default\":0}]},{\"type\":\"model\",\"name\":\"MaterialTemplateActions1\",\"properties\":[{\"name\":\"open_modal\",\"kind\":\"Any\",\"default\":0},{\"name\":\"close_modal\",\"kind\":\"Any\",\"default\":0}]}]}};\n",
       "  var render_items = [{\"docid\":\"6651263d-3c32-4463-b7f7-33ac2beafa45\",\"roots\":{\"p1170\":\"ea18ff06-ca86-4318-95cd-8e3910f6ea0c\"},\"root_ids\":[\"p1170\"]}];\n",
       "  var docs = Object.values(docs_json)\n",
       "  if (!docs) {\n",
       "    return\n",
       "  }\n",
       "  const py_version = docs[0].version.replace('rc', '-rc.').replace('.dev', '-dev.')\n",
       "  const is_dev = py_version.indexOf(\"+\") !== -1 || py_version.indexOf(\"-\") !== -1\n",
       "  function embed_document(root) {\n",
       "    var Bokeh = get_bokeh(root)\n",
       "    Bokeh.embed.embed_items_notebook(docs_json, render_items);\n",
       "    for (const render_item of render_items) {\n",
       "      for (const root_id of render_item.root_ids) {\n",
       "\tconst id_el = document.getElementById(root_id)\n",
       "\tif (id_el.children.length && (id_el.children[0].className === 'bk-root')) {\n",
       "\t  const root_el = id_el.children[0]\n",
       "\t  root_el.id = root_el.id + '-rendered'\n",
       "\t}\n",
       "      }\n",
       "    }\n",
       "  }\n",
       "  function get_bokeh(root) {\n",
       "    if (root.Bokeh === undefined) {\n",
       "      return null\n",
       "    } else if (root.Bokeh.version !== py_version && !is_dev) {\n",
       "      if (root.Bokeh.versions === undefined || !root.Bokeh.versions.has(py_version)) {\n",
       "\treturn null\n",
       "      }\n",
       "      return root.Bokeh.versions.get(py_version);\n",
       "    } else if (root.Bokeh.version === py_version) {\n",
       "      return root.Bokeh\n",
       "    }\n",
       "    return null\n",
       "  }\n",
       "  function is_loaded(root) {\n",
       "    var Bokeh = get_bokeh(root)\n",
       "    return (Bokeh != null && Bokeh.Panel !== undefined)\n",
       "  }\n",
       "  if (is_loaded(root)) {\n",
       "    embed_document(root);\n",
       "  } else {\n",
       "    var attempts = 0;\n",
       "    var timer = setInterval(function(root) {\n",
       "      if (is_loaded(root)) {\n",
       "        clearInterval(timer);\n",
       "        embed_document(root);\n",
       "      } else if (document.readyState == \"complete\") {\n",
       "        attempts++;\n",
       "        if (attempts > 200) {\n",
       "          clearInterval(timer);\n",
       "\t  var Bokeh = get_bokeh(root)\n",
       "\t  if (Bokeh == null || Bokeh.Panel == null) {\n",
       "            console.warn(\"Panel: ERROR: Unable to run Panel code because Bokeh or Panel library is missing\");\n",
       "\t  } else {\n",
       "\t    console.warn(\"Panel: WARNING: Attempting to render but not all required libraries could be resolved.\")\n",
       "\t    embed_document(root)\n",
       "\t  }\n",
       "        }\n",
       "      }\n",
       "    }, 25, root)\n",
       "  }\n",
       "})(window);</script>"
      ],
      "text/plain": [
       ":NdOverlay   [matches]\n",
       "   :Scatter   [best_gen_e_form]   (true_e_form,formula_pretty,index,category,nsites)"
      ]
     },
     "execution_count": 12,
     "metadata": {
      "application/vnd.holoviews_exec.v0+json": {
       "id": "p1170"
      }
     },
     "output_type": "execute_result"
    }
   ],
   "source": [
    "import warnings\n",
    "warnings.filterwarnings('ignore', category=FutureWarning)\n",
    "import hvplot.pandas\n",
    "\n",
    "df.hvplot.scatter(\n",
    "    x='best_gen_e_form', y='true_e_form', hover_cols=['formula_pretty', 'index', 'category', 'nsites'],\n",
    "    aspect=1, by='matches')"
   ]
  },
  {
   "cell_type": "code",
   "execution_count": 14,
   "metadata": {},
   "outputs": [
    {
     "data": {
      "text/html": [
       "<div>\n",
       "<style scoped>\n",
       "    .dataframe tbody tr th:only-of-type {\n",
       "        vertical-align: middle;\n",
       "    }\n",
       "\n",
       "    .dataframe tbody tr th {\n",
       "        vertical-align: top;\n",
       "    }\n",
       "\n",
       "    .dataframe thead th {\n",
       "        text-align: right;\n",
       "    }\n",
       "</style>\n",
       "<table border=\"1\" class=\"dataframe\">\n",
       "  <thead>\n",
       "    <tr style=\"text-align: right;\">\n",
       "      <th></th>\n",
       "      <th>sg_symbol</th>\n",
       "      <th>symm</th>\n",
       "      <th>conv</th>\n",
       "      <th>scale</th>\n",
       "      <th>wyckoffs</th>\n",
       "      <th>prop_generated</th>\n",
       "      <th>avg_num_successful</th>\n",
       "      <th>prop_actual_success</th>\n",
       "      <th>best_struct</th>\n",
       "      <th>best_relaxed</th>\n",
       "      <th>...</th>\n",
       "      <th>nsites</th>\n",
       "      <th>spacegroup</th>\n",
       "      <th>nelements</th>\n",
       "      <th>elements_list</th>\n",
       "      <th>CrystalSystem</th>\n",
       "      <th>category</th>\n",
       "      <th>nontrivial_coordinates</th>\n",
       "      <th>struct</th>\n",
       "      <th>matches</th>\n",
       "      <th>best_e_form</th>\n",
       "    </tr>\n",
       "  </thead>\n",
       "  <tbody>\n",
       "    <tr>\n",
       "      <th>28</th>\n",
       "      <td>Im-3</td>\n",
       "      <td>[[0. 0. 0.] La, [ 1.8600665 -1.8637325 -1.8631...</td>\n",
       "      <td>[[0. 0. 0.] La, [3.72461283 3.72461283 3.72461...</td>\n",
       "      <td>2.0</td>\n",
       "      <td>1a_4c_3b_12g</td>\n",
       "      <td>0.106762</td>\n",
       "      <td>0.718861</td>\n",
       "      <td>1.0</td>\n",
       "      <td>[[0.         3.52488041 3.52488041] Cu, [3.524...</td>\n",
       "      <td>[[1.16242215e-07 3.77422160e+00 3.77422132e+00...</td>\n",
       "      <td>...</td>\n",
       "      <td>20</td>\n",
       "      <td>204</td>\n",
       "      <td>4</td>\n",
       "      <td>Cr Cu La O</td>\n",
       "      <td>Cubic</td>\n",
       "      <td>template-based_quartenary</td>\n",
       "      <td>1</td>\n",
       "      <td>[[0. 0. 0.] La, [ 1.8600665 -1.8637325 -1.8631...</td>\n",
       "      <td>0</td>\n",
       "      <td>-13.855931</td>\n",
       "    </tr>\n",
       "  </tbody>\n",
       "</table>\n",
       "<p>1 rows × 25 columns</p>\n",
       "</div>"
      ],
      "text/plain": [
       "   sg_symbol                                               symm  \\\n",
       "28      Im-3  [[0. 0. 0.] La, [ 1.8600665 -1.8637325 -1.8631...   \n",
       "\n",
       "                                                 conv  scale      wyckoffs  \\\n",
       "28  [[0. 0. 0.] La, [3.72461283 3.72461283 3.72461...    2.0  1a_4c_3b_12g   \n",
       "\n",
       "    prop_generated  avg_num_successful  prop_actual_success  \\\n",
       "28        0.106762            0.718861                  1.0   \n",
       "\n",
       "                                          best_struct  \\\n",
       "28  [[0.         3.52488041 3.52488041] Cu, [3.524...   \n",
       "\n",
       "                                         best_relaxed  ...  nsites  \\\n",
       "28  [[1.16242215e-07 3.77422160e+00 3.77422132e+00...  ...      20   \n",
       "\n",
       "    spacegroup  nelements elements_list CrystalSystem  \\\n",
       "28         204          4    Cr Cu La O         Cubic   \n",
       "\n",
       "                     category  nontrivial_coordinates  \\\n",
       "28  template-based_quartenary                       1   \n",
       "\n",
       "                                               struct matches best_e_form  \n",
       "28  [[0. 0. 0.] La, [ 1.8600665 -1.8637325 -1.8631...       0  -13.855931  \n",
       "\n",
       "[1 rows x 25 columns]"
      ]
     },
     "execution_count": 14,
     "metadata": {},
     "output_type": "execute_result"
    }
   ],
   "source": [
    "df.loc[[28]]"
   ]
  },
  {
   "cell_type": "code",
   "execution_count": 19,
   "metadata": {},
   "outputs": [
    {
     "data": {
      "text/html": [
       "\n",
       "        <iframe\n",
       "            width=\"100%\"\n",
       "            height=\"650\"\n",
       "            src=\"http://127.0.0.1:8051/\"\n",
       "            frameborder=\"0\"\n",
       "            allowfullscreen\n",
       "            \n",
       "        ></iframe>\n",
       "        "
      ],
      "text/plain": [
       "<IPython.lib.display.IFrame at 0x7fb55a96e710>"
      ]
     },
     "metadata": {},
     "output_type": "display_data"
    }
   ],
   "source": [
    "quick_view(df.loc[10, 'best_struct'])"
   ]
  },
  {
   "cell_type": "code",
   "execution_count": 20,
   "metadata": {},
   "outputs": [
    {
     "data": {
      "text/html": [
       "\n",
       "        <iframe\n",
       "            width=\"100%\"\n",
       "            height=\"650\"\n",
       "            src=\"http://127.0.0.1:8051/\"\n",
       "            frameborder=\"0\"\n",
       "            allowfullscreen\n",
       "            \n",
       "        ></iframe>\n",
       "        "
      ],
      "text/plain": [
       "<IPython.lib.display.IFrame at 0x7fb445379b10>"
      ]
     },
     "metadata": {},
     "output_type": "display_data"
    }
   ],
   "source": [
    "quick_view(df.loc[10, 'conv'])"
   ]
  },
  {
   "cell_type": "code",
   "execution_count": 148,
   "metadata": {},
   "outputs": [
    {
     "data": {
      "text/html": [
       "<div>\n",
       "<style scoped>\n",
       "    .dataframe tbody tr th:only-of-type {\n",
       "        vertical-align: middle;\n",
       "    }\n",
       "\n",
       "    .dataframe tbody tr th {\n",
       "        vertical-align: top;\n",
       "    }\n",
       "\n",
       "    .dataframe thead th {\n",
       "        text-align: right;\n",
       "    }\n",
       "</style>\n",
       "<table border=\"1\" class=\"dataframe\">\n",
       "  <thead>\n",
       "    <tr style=\"text-align: right;\">\n",
       "      <th></th>\n",
       "      <th>sg_symbol</th>\n",
       "      <th>symm</th>\n",
       "      <th>conv</th>\n",
       "      <th>scale</th>\n",
       "      <th>wyckoffs</th>\n",
       "      <th>prop_generated</th>\n",
       "      <th>avg_num_successful</th>\n",
       "      <th>prop_actual_success</th>\n",
       "      <th>best_struct</th>\n",
       "      <th>best_relaxed</th>\n",
       "      <th>...</th>\n",
       "      <th>nsites</th>\n",
       "      <th>spacegroup</th>\n",
       "      <th>nelements</th>\n",
       "      <th>elements_list</th>\n",
       "      <th>CrystalSystem</th>\n",
       "      <th>category</th>\n",
       "      <th>nontrivial_coordinates</th>\n",
       "      <th>struct</th>\n",
       "      <th>matches</th>\n",
       "      <th>best_e_form</th>\n",
       "    </tr>\n",
       "  </thead>\n",
       "  <tbody>\n",
       "    <tr>\n",
       "      <th>0</th>\n",
       "      <td>Pm-3m</td>\n",
       "      <td>[[1.42361461 1.42361461 1.42361461] Ga, [0. 0....</td>\n",
       "      <td>[[1.42361461 1.42361461 1.42361461] Ga, [0. 0....</td>\n",
       "      <td>1.0</td>\n",
       "      <td>1b_1a</td>\n",
       "      <td>0.714286</td>\n",
       "      <td>0.714286</td>\n",
       "      <td>1.0</td>\n",
       "      <td>[[0. 0. 0.] Ga, [1.38645637 1.38645637 1.38645...</td>\n",
       "      <td>[[-8.64066621e-10 -2.59219987e-09 -1.44011106e...</td>\n",
       "      <td>...</td>\n",
       "      <td>2</td>\n",
       "      <td>221</td>\n",
       "      <td>2</td>\n",
       "      <td>Co Ga</td>\n",
       "      <td>Cubic</td>\n",
       "      <td>binary_easy</td>\n",
       "      <td>0</td>\n",
       "      <td>[[1.42361461 1.42361461 1.42361461] Ga, [0. 0....</td>\n",
       "      <td>1</td>\n",
       "      <td>-0.335494</td>\n",
       "    </tr>\n",
       "    <tr>\n",
       "      <th>1</th>\n",
       "      <td>Pm-3m</td>\n",
       "      <td>[[1.62043406 1.62043406 1.62043406] Sc, [0. 0....</td>\n",
       "      <td>[[1.62043406 1.62043406 1.62043407] Sc, [0. 0....</td>\n",
       "      <td>1.0</td>\n",
       "      <td>1b_1a</td>\n",
       "      <td>0.769231</td>\n",
       "      <td>0.769231</td>\n",
       "      <td>1.0</td>\n",
       "      <td>[[0. 0. 0.] Sc, [1.54828346 1.54828346 1.54828...</td>\n",
       "      <td>[[-1.63124838e-09 -6.52499343e-10 -3.26249673e...</td>\n",
       "      <td>...</td>\n",
       "      <td>2</td>\n",
       "      <td>221</td>\n",
       "      <td>2</td>\n",
       "      <td>Cu Sc</td>\n",
       "      <td>Cubic</td>\n",
       "      <td>binary_easy</td>\n",
       "      <td>0</td>\n",
       "      <td>[[1.62043406 1.62043406 1.62043406] Sc, [0. 0....</td>\n",
       "      <td>1</td>\n",
       "      <td>-0.343769</td>\n",
       "    </tr>\n",
       "    <tr>\n",
       "      <th>2</th>\n",
       "      <td>Pm-3m</td>\n",
       "      <td>[[1.708167 1.708167 1.708167] Y, [0. 0. 0.] Ir]</td>\n",
       "      <td>[[1.708167 1.708167 1.708167] Y, [0. 0. 0.] Ir]</td>\n",
       "      <td>1.0</td>\n",
       "      <td>1b_1a</td>\n",
       "      <td>0.909091</td>\n",
       "      <td>0.909091</td>\n",
       "      <td>1.0</td>\n",
       "      <td>[[1.66624594 1.66624594 1.66624594] Y, [0. 0. ...</td>\n",
       "      <td>[[1.72011021 1.72011019 1.72011019] Y, [-6.880...</td>\n",
       "      <td>...</td>\n",
       "      <td>2</td>\n",
       "      <td>221</td>\n",
       "      <td>2</td>\n",
       "      <td>Ir Y</td>\n",
       "      <td>Cubic</td>\n",
       "      <td>binary_easy</td>\n",
       "      <td>0</td>\n",
       "      <td>[[1.708167 1.708167 1.708167] Y, [0. 0. 0.] Ir]</td>\n",
       "      <td>1</td>\n",
       "      <td>-0.528427</td>\n",
       "    </tr>\n",
       "    <tr>\n",
       "      <th>3</th>\n",
       "      <td>F-43m</td>\n",
       "      <td>[[0. 0. 0.] Li, [-4.4150055 -4.4150055 -4.4150...</td>\n",
       "      <td>[[0. 0. 0.] Li, [-1.80227412e-16  2.94333700e+...</td>\n",
       "      <td>4.0</td>\n",
       "      <td>1a_1c_1b</td>\n",
       "      <td>0.421687</td>\n",
       "      <td>0.680723</td>\n",
       "      <td>1.0</td>\n",
       "      <td>[[0. 0. 0.] Li, [0.         2.34920311 2.34920...</td>\n",
       "      <td>[[-8.57000000e-18 -1.76401546e-09 -5.88005165e...</td>\n",
       "      <td>...</td>\n",
       "      <td>3</td>\n",
       "      <td>216</td>\n",
       "      <td>3</td>\n",
       "      <td>Ga Li Si</td>\n",
       "      <td>Cubic</td>\n",
       "      <td>ternary_easy</td>\n",
       "      <td>0</td>\n",
       "      <td>[[0. 0. 0.] Li, [-4.4150055 -4.4150055 -4.4150...</td>\n",
       "      <td>0</td>\n",
       "      <td>-0.153237</td>\n",
       "    </tr>\n",
       "    <tr>\n",
       "      <th>4</th>\n",
       "      <td>Fm-3m</td>\n",
       "      <td>[[3.339564 3.339564 3.339564] Li, [5.009346 5....</td>\n",
       "      <td>[[3.33956400e+00 0.00000000e+00 2.04489318e-16...</td>\n",
       "      <td>4.0</td>\n",
       "      <td>1b_2c_1a</td>\n",
       "      <td>0.431034</td>\n",
       "      <td>0.574713</td>\n",
       "      <td>1.0</td>\n",
       "      <td>[[2.48980379 2.48980379 2.48980379] Li, [0.   ...</td>\n",
       "      <td>[[3.35011374 3.35011378 3.35011393] Li, [ 1.20...</td>\n",
       "      <td>...</td>\n",
       "      <td>4</td>\n",
       "      <td>225</td>\n",
       "      <td>3</td>\n",
       "      <td>Ga Li Mg</td>\n",
       "      <td>Cubic</td>\n",
       "      <td>ternary_easy</td>\n",
       "      <td>0</td>\n",
       "      <td>[[3.339564 3.339564 3.339564] Li, [5.009346 5....</td>\n",
       "      <td>1</td>\n",
       "      <td>-0.069983</td>\n",
       "    </tr>\n",
       "  </tbody>\n",
       "</table>\n",
       "<p>5 rows × 25 columns</p>\n",
       "</div>"
      ],
      "text/plain": [
       "  sg_symbol                                               symm  \\\n",
       "0     Pm-3m  [[1.42361461 1.42361461 1.42361461] Ga, [0. 0....   \n",
       "1     Pm-3m  [[1.62043406 1.62043406 1.62043406] Sc, [0. 0....   \n",
       "2     Pm-3m    [[1.708167 1.708167 1.708167] Y, [0. 0. 0.] Ir]   \n",
       "3     F-43m  [[0. 0. 0.] Li, [-4.4150055 -4.4150055 -4.4150...   \n",
       "4     Fm-3m  [[3.339564 3.339564 3.339564] Li, [5.009346 5....   \n",
       "\n",
       "                                                conv  scale  wyckoffs  \\\n",
       "0  [[1.42361461 1.42361461 1.42361461] Ga, [0. 0....    1.0     1b_1a   \n",
       "1  [[1.62043406 1.62043406 1.62043407] Sc, [0. 0....    1.0     1b_1a   \n",
       "2    [[1.708167 1.708167 1.708167] Y, [0. 0. 0.] Ir]    1.0     1b_1a   \n",
       "3  [[0. 0. 0.] Li, [-1.80227412e-16  2.94333700e+...    4.0  1a_1c_1b   \n",
       "4  [[3.33956400e+00 0.00000000e+00 2.04489318e-16...    4.0  1b_2c_1a   \n",
       "\n",
       "   prop_generated  avg_num_successful  prop_actual_success  \\\n",
       "0        0.714286            0.714286                  1.0   \n",
       "1        0.769231            0.769231                  1.0   \n",
       "2        0.909091            0.909091                  1.0   \n",
       "3        0.421687            0.680723                  1.0   \n",
       "4        0.431034            0.574713                  1.0   \n",
       "\n",
       "                                         best_struct  \\\n",
       "0  [[0. 0. 0.] Ga, [1.38645637 1.38645637 1.38645...   \n",
       "1  [[0. 0. 0.] Sc, [1.54828346 1.54828346 1.54828...   \n",
       "2  [[1.66624594 1.66624594 1.66624594] Y, [0. 0. ...   \n",
       "3  [[0. 0. 0.] Li, [0.         2.34920311 2.34920...   \n",
       "4  [[2.48980379 2.48980379 2.48980379] Li, [0.   ...   \n",
       "\n",
       "                                        best_relaxed  ...  nsites  spacegroup  \\\n",
       "0  [[-8.64066621e-10 -2.59219987e-09 -1.44011106e...  ...       2         221   \n",
       "1  [[-1.63124838e-09 -6.52499343e-10 -3.26249673e...  ...       2         221   \n",
       "2  [[1.72011021 1.72011019 1.72011019] Y, [-6.880...  ...       2         221   \n",
       "3  [[-8.57000000e-18 -1.76401546e-09 -5.88005165e...  ...       3         216   \n",
       "4  [[3.35011374 3.35011378 3.35011393] Li, [ 1.20...  ...       4         225   \n",
       "\n",
       "   nelements elements_list CrystalSystem      category  \\\n",
       "0          2         Co Ga         Cubic   binary_easy   \n",
       "1          2         Cu Sc         Cubic   binary_easy   \n",
       "2          2          Ir Y         Cubic   binary_easy   \n",
       "3          3      Ga Li Si         Cubic  ternary_easy   \n",
       "4          3      Ga Li Mg         Cubic  ternary_easy   \n",
       "\n",
       "   nontrivial_coordinates                                             struct  \\\n",
       "0                       0  [[1.42361461 1.42361461 1.42361461] Ga, [0. 0....   \n",
       "1                       0  [[1.62043406 1.62043406 1.62043406] Sc, [0. 0....   \n",
       "2                       0    [[1.708167 1.708167 1.708167] Y, [0. 0. 0.] Ir]   \n",
       "3                       0  [[0. 0. 0.] Li, [-4.4150055 -4.4150055 -4.4150...   \n",
       "4                       0  [[3.339564 3.339564 3.339564] Li, [5.009346 5....   \n",
       "\n",
       "  matches best_e_form  \n",
       "0       1   -0.335494  \n",
       "1       1   -0.343769  \n",
       "2       1   -0.528427  \n",
       "3       0   -0.153237  \n",
       "4       1   -0.069983  \n",
       "\n",
       "[5 rows x 25 columns]"
      ]
     },
     "execution_count": 148,
     "metadata": {},
     "output_type": "execute_result"
    }
   ],
   "source": [
    "df.head()"
   ]
  },
  {
   "cell_type": "code",
   "execution_count": 152,
   "metadata": {},
   "outputs": [
    {
     "data": {},
     "metadata": {},
     "output_type": "display_data"
    },
    {
     "data": {
      "application/vnd.holoviews_exec.v0+json": "",
      "text/html": [
       "<div id='p3894'>\n",
       "  <div id=\"e0e62339-bdce-4895-b64c-56343c708f44\" data-root-id=\"p3894\" style=\"display: contents;\"></div>\n",
       "</div>\n",
       "<script type=\"application/javascript\">(function(root) {\n",
       "  var docs_json = {\"2c2ee75f-01db-4348-a4be-fde3b89ad617\":{\"version\":\"3.2.2\",\"title\":\"Bokeh Application\",\"roots\":[{\"type\":\"object\",\"name\":\"Row\",\"id\":\"p3894\",\"attributes\":{\"name\":\"Row09340\",\"tags\":[\"embedded\"],\"stylesheets\":[\"\\n:host(.pn-loading.pn-arc):before, .pn-loading.pn-arc:before {\\n  background-image: url(\\\"data:image/svg+xml;base64,PHN2ZyB4bWxucz0iaHR0cDovL3d3dy53My5vcmcvMjAwMC9zdmciIHN0eWxlPSJtYXJnaW46IGF1dG87IGJhY2tncm91bmQ6IG5vbmU7IGRpc3BsYXk6IGJsb2NrOyBzaGFwZS1yZW5kZXJpbmc6IGF1dG87IiB2aWV3Qm94PSIwIDAgMTAwIDEwMCIgcHJlc2VydmVBc3BlY3RSYXRpbz0ieE1pZFlNaWQiPiAgPGNpcmNsZSBjeD0iNTAiIGN5PSI1MCIgZmlsbD0ibm9uZSIgc3Ryb2tlPSIjYzNjM2MzIiBzdHJva2Utd2lkdGg9IjEwIiByPSIzNSIgc3Ryb2tlLWRhc2hhcnJheT0iMTY0LjkzMzYxNDMxMzQ2NDE1IDU2Ljk3Nzg3MTQzNzgyMTM4Ij4gICAgPGFuaW1hdGVUcmFuc2Zvcm0gYXR0cmlidXRlTmFtZT0idHJhbnNmb3JtIiB0eXBlPSJyb3RhdGUiIHJlcGVhdENvdW50PSJpbmRlZmluaXRlIiBkdXI9IjFzIiB2YWx1ZXM9IjAgNTAgNTA7MzYwIDUwIDUwIiBrZXlUaW1lcz0iMDsxIj48L2FuaW1hdGVUcmFuc2Zvcm0+ICA8L2NpcmNsZT48L3N2Zz4=\\\");\\n  background-size: auto calc(min(50%, 400px));\\n}\",{\"type\":\"object\",\"name\":\"ImportedStyleSheet\",\"id\":\"p3897\",\"attributes\":{\"url\":\"https://cdn.holoviz.org/panel/1.2.3/dist/css/loading.css\"}},{\"type\":\"object\",\"name\":\"ImportedStyleSheet\",\"id\":\"p3949\",\"attributes\":{\"url\":\"https://cdn.holoviz.org/panel/1.2.3/dist/css/listpanel.css\"}},{\"type\":\"object\",\"name\":\"ImportedStyleSheet\",\"id\":\"p3895\",\"attributes\":{\"url\":\"https://cdn.holoviz.org/panel/1.2.3/dist/bundled/theme/default.css\"}},{\"type\":\"object\",\"name\":\"ImportedStyleSheet\",\"id\":\"p3896\",\"attributes\":{\"url\":\"https://cdn.holoviz.org/panel/1.2.3/dist/bundled/theme/native.css\"}}],\"min_width\":700,\"margin\":0,\"sizing_mode\":\"stretch_width\",\"align\":\"start\",\"children\":[{\"type\":\"object\",\"name\":\"Spacer\",\"id\":\"p3898\",\"attributes\":{\"name\":\"HSpacer09351\",\"stylesheets\":[\"\\n:host(.pn-loading.pn-arc):before, .pn-loading.pn-arc:before {\\n  background-image: url(\\\"data:image/svg+xml;base64,PHN2ZyB4bWxucz0iaHR0cDovL3d3dy53My5vcmcvMjAwMC9zdmciIHN0eWxlPSJtYXJnaW46IGF1dG87IGJhY2tncm91bmQ6IG5vbmU7IGRpc3BsYXk6IGJsb2NrOyBzaGFwZS1yZW5kZXJpbmc6IGF1dG87IiB2aWV3Qm94PSIwIDAgMTAwIDEwMCIgcHJlc2VydmVBc3BlY3RSYXRpbz0ieE1pZFlNaWQiPiAgPGNpcmNsZSBjeD0iNTAiIGN5PSI1MCIgZmlsbD0ibm9uZSIgc3Ryb2tlPSIjYzNjM2MzIiBzdHJva2Utd2lkdGg9IjEwIiByPSIzNSIgc3Ryb2tlLWRhc2hhcnJheT0iMTY0LjkzMzYxNDMxMzQ2NDE1IDU2Ljk3Nzg3MTQzNzgyMTM4Ij4gICAgPGFuaW1hdGVUcmFuc2Zvcm0gYXR0cmlidXRlTmFtZT0idHJhbnNmb3JtIiB0eXBlPSJyb3RhdGUiIHJlcGVhdENvdW50PSJpbmRlZmluaXRlIiBkdXI9IjFzIiB2YWx1ZXM9IjAgNTAgNTA7MzYwIDUwIDUwIiBrZXlUaW1lcz0iMDsxIj48L2FuaW1hdGVUcmFuc2Zvcm0+ICA8L2NpcmNsZT48L3N2Zz4=\\\");\\n  background-size: auto calc(min(50%, 400px));\\n}\",{\"id\":\"p3897\"},{\"id\":\"p3895\"},{\"id\":\"p3896\"}],\"margin\":0,\"sizing_mode\":\"stretch_width\",\"align\":\"start\"}},{\"type\":\"object\",\"name\":\"Figure\",\"id\":\"p3906\",\"attributes\":{\"width\":700,\"height\":300,\"margin\":[5,10],\"sizing_mode\":\"fixed\",\"align\":\"start\",\"x_range\":{\"type\":\"object\",\"name\":\"FactorRange\",\"id\":\"p3899\",\"attributes\":{\"tags\":[[[\"sg_symbol\",\"sg_symbol\",null]],[]],\"factors\":[\"F-43m\",\"Fd-3m\",\"Fm-3m\",\"I-43d\",\"Im-3\",\"Im-3m\",\"Pm-3m\",\"Pm-3n\"]}},\"y_range\":{\"type\":\"object\",\"name\":\"Range1d\",\"id\":\"p3900\",\"attributes\":{\"tags\":[[[\"matches\",\"matches\",null]],{\"type\":\"map\",\"entries\":[[\"invert_yaxis\",false],[\"autorange\",false]]}],\"end\":1.1,\"reset_start\":0.0,\"reset_end\":1.1}},\"x_scale\":{\"type\":\"object\",\"name\":\"CategoricalScale\",\"id\":\"p3916\"},\"y_scale\":{\"type\":\"object\",\"name\":\"LinearScale\",\"id\":\"p3917\"},\"title\":{\"type\":\"object\",\"name\":\"Title\",\"id\":\"p3909\",\"attributes\":{\"text_color\":\"black\",\"text_font_size\":\"12pt\"}},\"renderers\":[{\"type\":\"object\",\"name\":\"GlyphRenderer\",\"id\":\"p3942\",\"attributes\":{\"data_source\":{\"type\":\"object\",\"name\":\"ColumnDataSource\",\"id\":\"p3933\",\"attributes\":{\"selected\":{\"type\":\"object\",\"name\":\"Selection\",\"id\":\"p3934\",\"attributes\":{\"indices\":[],\"line_indices\":[]}},\"selection_policy\":{\"type\":\"object\",\"name\":\"UnionRenderers\",\"id\":\"p3935\"},\"data\":{\"type\":\"map\",\"entries\":[[\"sg_symbol\",[\"F-43m\",\"Fd-3m\",\"Fm-3m\",\"I-43d\",\"Im-3\",\"Im-3m\",\"Pm-3m\",\"Pm-3n\"]],[\"matches\",{\"type\":\"ndarray\",\"array\":{\"type\":\"bytes\",\"data\":\"MzMzMzMz4z8AAAAAAAAAALdt27Zt2+Y/AAAAAAAA4D9VVVVVVVXVPwAAAAAAAPA/AAAAAAAA8D8AAAAAAADwPw==\"},\"shape\":[8],\"dtype\":\"float64\",\"order\":\"little\"}]]}}},\"view\":{\"type\":\"object\",\"name\":\"CDSView\",\"id\":\"p3943\",\"attributes\":{\"filter\":{\"type\":\"object\",\"name\":\"AllIndices\",\"id\":\"p3944\"}}},\"glyph\":{\"type\":\"object\",\"name\":\"VBar\",\"id\":\"p3939\",\"attributes\":{\"tags\":[\"apply_ranges\"],\"x\":{\"type\":\"field\",\"field\":\"sg_symbol\"},\"width\":{\"type\":\"value\",\"value\":0.8},\"top\":{\"type\":\"field\",\"field\":\"matches\"},\"fill_color\":{\"type\":\"value\",\"value\":\"#30a2da\"},\"hatch_color\":{\"type\":\"value\",\"value\":\"#30a2da\"}}},\"selection_glyph\":{\"type\":\"object\",\"name\":\"VBar\",\"id\":\"p3945\",\"attributes\":{\"tags\":[\"apply_ranges\"],\"x\":{\"type\":\"field\",\"field\":\"sg_symbol\"},\"width\":{\"type\":\"value\",\"value\":0.8},\"bottom\":{\"type\":\"value\",\"value\":0},\"top\":{\"type\":\"field\",\"field\":\"matches\"},\"line_color\":{\"type\":\"value\",\"value\":\"black\"},\"line_alpha\":{\"type\":\"value\",\"value\":1.0},\"line_width\":{\"type\":\"value\",\"value\":1},\"line_join\":{\"type\":\"value\",\"value\":\"bevel\"},\"line_cap\":{\"type\":\"value\",\"value\":\"butt\"},\"line_dash\":{\"type\":\"value\",\"value\":[]},\"line_dash_offset\":{\"type\":\"value\",\"value\":0},\"fill_color\":{\"type\":\"value\",\"value\":\"#30a2da\"},\"fill_alpha\":{\"type\":\"value\",\"value\":1.0},\"hatch_color\":{\"type\":\"value\",\"value\":\"#30a2da\"},\"hatch_alpha\":{\"type\":\"value\",\"value\":1.0},\"hatch_scale\":{\"type\":\"value\",\"value\":12.0},\"hatch_pattern\":{\"type\":\"value\",\"value\":null},\"hatch_weight\":{\"type\":\"value\",\"value\":1.0}}},\"nonselection_glyph\":{\"type\":\"object\",\"name\":\"VBar\",\"id\":\"p3940\",\"attributes\":{\"tags\":[\"apply_ranges\"],\"x\":{\"type\":\"field\",\"field\":\"sg_symbol\"},\"width\":{\"type\":\"value\",\"value\":0.8},\"top\":{\"type\":\"field\",\"field\":\"matches\"},\"line_alpha\":{\"type\":\"value\",\"value\":0.1},\"fill_color\":{\"type\":\"value\",\"value\":\"#30a2da\"},\"fill_alpha\":{\"type\":\"value\",\"value\":0.1},\"hatch_color\":{\"type\":\"value\",\"value\":\"#30a2da\"},\"hatch_alpha\":{\"type\":\"value\",\"value\":0.1}}},\"muted_glyph\":{\"type\":\"object\",\"name\":\"VBar\",\"id\":\"p3941\",\"attributes\":{\"tags\":[\"apply_ranges\"],\"x\":{\"type\":\"field\",\"field\":\"sg_symbol\"},\"width\":{\"type\":\"value\",\"value\":0.8},\"top\":{\"type\":\"field\",\"field\":\"matches\"},\"line_alpha\":{\"type\":\"value\",\"value\":0.2},\"fill_color\":{\"type\":\"value\",\"value\":\"#30a2da\"},\"fill_alpha\":{\"type\":\"value\",\"value\":0.2},\"hatch_color\":{\"type\":\"value\",\"value\":\"#30a2da\"},\"hatch_alpha\":{\"type\":\"value\",\"value\":0.2}}}}}],\"toolbar\":{\"type\":\"object\",\"name\":\"Toolbar\",\"id\":\"p3915\",\"attributes\":{\"tools\":[{\"type\":\"object\",\"name\":\"WheelZoomTool\",\"id\":\"p3904\",\"attributes\":{\"tags\":[\"hv_created\"],\"zoom_together\":\"none\"}},{\"type\":\"object\",\"name\":\"HoverTool\",\"id\":\"p3905\",\"attributes\":{\"tags\":[\"hv_created\"],\"renderers\":[{\"id\":\"p3942\"}],\"tooltips\":[[\"sg_symbol\",\"@{sg_symbol}\"],[\"matches\",\"@{matches}\"]]}},{\"type\":\"object\",\"name\":\"SaveTool\",\"id\":\"p3928\"},{\"type\":\"object\",\"name\":\"PanTool\",\"id\":\"p3929\"},{\"type\":\"object\",\"name\":\"BoxZoomTool\",\"id\":\"p3930\",\"attributes\":{\"overlay\":{\"type\":\"object\",\"name\":\"BoxAnnotation\",\"id\":\"p3931\",\"attributes\":{\"syncable\":false,\"level\":\"overlay\",\"visible\":false,\"left_units\":\"canvas\",\"right_units\":\"canvas\",\"bottom_units\":\"canvas\",\"top_units\":\"canvas\",\"line_color\":\"black\",\"line_alpha\":1.0,\"line_width\":2,\"line_dash\":[4,4],\"fill_color\":\"lightgrey\",\"fill_alpha\":0.5}}}},{\"type\":\"object\",\"name\":\"ResetTool\",\"id\":\"p3932\"}],\"active_drag\":{\"id\":\"p3929\"},\"active_scroll\":{\"id\":\"p3904\"}}},\"left\":[{\"type\":\"object\",\"name\":\"LinearAxis\",\"id\":\"p3923\",\"attributes\":{\"ticker\":{\"type\":\"object\",\"name\":\"BasicTicker\",\"id\":\"p3924\",\"attributes\":{\"mantissas\":[1,2,5]}},\"formatter\":{\"type\":\"object\",\"name\":\"BasicTickFormatter\",\"id\":\"p3925\"},\"axis_label\":\"matches\",\"major_label_policy\":{\"type\":\"object\",\"name\":\"AllLabels\",\"id\":\"p3926\"}}}],\"below\":[{\"type\":\"object\",\"name\":\"CategoricalAxis\",\"id\":\"p3918\",\"attributes\":{\"ticker\":{\"type\":\"object\",\"name\":\"CategoricalTicker\",\"id\":\"p3919\"},\"formatter\":{\"type\":\"object\",\"name\":\"CategoricalTickFormatter\",\"id\":\"p3920\"},\"axis_label\":\"sg_symbol\",\"major_label_policy\":{\"type\":\"object\",\"name\":\"AllLabels\",\"id\":\"p3921\"}}}],\"center\":[{\"type\":\"object\",\"name\":\"Grid\",\"id\":\"p3922\",\"attributes\":{\"axis\":{\"id\":\"p3918\"},\"grid_line_color\":null}},{\"type\":\"object\",\"name\":\"Grid\",\"id\":\"p3927\",\"attributes\":{\"dimension\":1,\"axis\":{\"id\":\"p3923\"},\"grid_line_color\":null}}],\"min_border_top\":10,\"min_border_bottom\":10,\"min_border_left\":10,\"min_border_right\":10,\"output_backend\":\"webgl\"}},{\"type\":\"object\",\"name\":\"Spacer\",\"id\":\"p3947\",\"attributes\":{\"name\":\"HSpacer09354\",\"stylesheets\":[\"\\n:host(.pn-loading.pn-arc):before, .pn-loading.pn-arc:before {\\n  background-image: url(\\\"data:image/svg+xml;base64,PHN2ZyB4bWxucz0iaHR0cDovL3d3dy53My5vcmcvMjAwMC9zdmciIHN0eWxlPSJtYXJnaW46IGF1dG87IGJhY2tncm91bmQ6IG5vbmU7IGRpc3BsYXk6IGJsb2NrOyBzaGFwZS1yZW5kZXJpbmc6IGF1dG87IiB2aWV3Qm94PSIwIDAgMTAwIDEwMCIgcHJlc2VydmVBc3BlY3RSYXRpbz0ieE1pZFlNaWQiPiAgPGNpcmNsZSBjeD0iNTAiIGN5PSI1MCIgZmlsbD0ibm9uZSIgc3Ryb2tlPSIjYzNjM2MzIiBzdHJva2Utd2lkdGg9IjEwIiByPSIzNSIgc3Ryb2tlLWRhc2hhcnJheT0iMTY0LjkzMzYxNDMxMzQ2NDE1IDU2Ljk3Nzg3MTQzNzgyMTM4Ij4gICAgPGFuaW1hdGVUcmFuc2Zvcm0gYXR0cmlidXRlTmFtZT0idHJhbnNmb3JtIiB0eXBlPSJyb3RhdGUiIHJlcGVhdENvdW50PSJpbmRlZmluaXRlIiBkdXI9IjFzIiB2YWx1ZXM9IjAgNTAgNTA7MzYwIDUwIDUwIiBrZXlUaW1lcz0iMDsxIj48L2FuaW1hdGVUcmFuc2Zvcm0+ICA8L2NpcmNsZT48L3N2Zz4=\\\");\\n  background-size: auto calc(min(50%, 400px));\\n}\",{\"id\":\"p3897\"},{\"id\":\"p3895\"},{\"id\":\"p3896\"}],\"margin\":0,\"sizing_mode\":\"stretch_width\",\"align\":\"start\"}}]}}],\"defs\":[{\"type\":\"model\",\"name\":\"ReactiveHTML1\"},{\"type\":\"model\",\"name\":\"FlexBox1\",\"properties\":[{\"name\":\"align_content\",\"kind\":\"Any\",\"default\":\"flex-start\"},{\"name\":\"align_items\",\"kind\":\"Any\",\"default\":\"flex-start\"},{\"name\":\"flex_direction\",\"kind\":\"Any\",\"default\":\"row\"},{\"name\":\"flex_wrap\",\"kind\":\"Any\",\"default\":\"wrap\"},{\"name\":\"justify_content\",\"kind\":\"Any\",\"default\":\"flex-start\"}]},{\"type\":\"model\",\"name\":\"FloatPanel1\",\"properties\":[{\"name\":\"config\",\"kind\":\"Any\",\"default\":{\"type\":\"map\"}},{\"name\":\"contained\",\"kind\":\"Any\",\"default\":true},{\"name\":\"position\",\"kind\":\"Any\",\"default\":\"right-top\"},{\"name\":\"offsetx\",\"kind\":\"Any\",\"default\":null},{\"name\":\"offsety\",\"kind\":\"Any\",\"default\":null},{\"name\":\"theme\",\"kind\":\"Any\",\"default\":\"primary\"},{\"name\":\"status\",\"kind\":\"Any\",\"default\":\"normalized\"}]},{\"type\":\"model\",\"name\":\"GridStack1\",\"properties\":[{\"name\":\"mode\",\"kind\":\"Any\",\"default\":\"warn\"},{\"name\":\"ncols\",\"kind\":\"Any\",\"default\":null},{\"name\":\"nrows\",\"kind\":\"Any\",\"default\":null},{\"name\":\"allow_resize\",\"kind\":\"Any\",\"default\":true},{\"name\":\"allow_drag\",\"kind\":\"Any\",\"default\":true},{\"name\":\"state\",\"kind\":\"Any\",\"default\":[]}]},{\"type\":\"model\",\"name\":\"drag1\",\"properties\":[{\"name\":\"slider_width\",\"kind\":\"Any\",\"default\":5},{\"name\":\"slider_color\",\"kind\":\"Any\",\"default\":\"black\"},{\"name\":\"value\",\"kind\":\"Any\",\"default\":50}]},{\"type\":\"model\",\"name\":\"click1\",\"properties\":[{\"name\":\"terminal_output\",\"kind\":\"Any\",\"default\":\"\"},{\"name\":\"debug_name\",\"kind\":\"Any\",\"default\":\"\"},{\"name\":\"clears\",\"kind\":\"Any\",\"default\":0}]},{\"type\":\"model\",\"name\":\"FastWrapper1\",\"properties\":[{\"name\":\"object\",\"kind\":\"Any\",\"default\":null},{\"name\":\"style\",\"kind\":\"Any\",\"default\":null}]},{\"type\":\"model\",\"name\":\"NotificationAreaBase1\",\"properties\":[{\"name\":\"js_events\",\"kind\":\"Any\",\"default\":{\"type\":\"map\"}},{\"name\":\"position\",\"kind\":\"Any\",\"default\":\"bottom-right\"},{\"name\":\"_clear\",\"kind\":\"Any\",\"default\":0}]},{\"type\":\"model\",\"name\":\"NotificationArea1\",\"properties\":[{\"name\":\"js_events\",\"kind\":\"Any\",\"default\":{\"type\":\"map\"}},{\"name\":\"notifications\",\"kind\":\"Any\",\"default\":[]},{\"name\":\"position\",\"kind\":\"Any\",\"default\":\"bottom-right\"},{\"name\":\"_clear\",\"kind\":\"Any\",\"default\":0},{\"name\":\"types\",\"kind\":\"Any\",\"default\":[{\"type\":\"map\",\"entries\":[[\"type\",\"warning\"],[\"background\",\"#ffc107\"],[\"icon\",{\"type\":\"map\",\"entries\":[[\"className\",\"fas fa-exclamation-triangle\"],[\"tagName\",\"i\"],[\"color\",\"white\"]]}]]},{\"type\":\"map\",\"entries\":[[\"type\",\"info\"],[\"background\",\"#007bff\"],[\"icon\",{\"type\":\"map\",\"entries\":[[\"className\",\"fas fa-info-circle\"],[\"tagName\",\"i\"],[\"color\",\"white\"]]}]]}]}]},{\"type\":\"model\",\"name\":\"Notification\",\"properties\":[{\"name\":\"background\",\"kind\":\"Any\",\"default\":null},{\"name\":\"duration\",\"kind\":\"Any\",\"default\":3000},{\"name\":\"icon\",\"kind\":\"Any\",\"default\":null},{\"name\":\"message\",\"kind\":\"Any\",\"default\":\"\"},{\"name\":\"notification_type\",\"kind\":\"Any\",\"default\":null},{\"name\":\"_destroyed\",\"kind\":\"Any\",\"default\":false}]},{\"type\":\"model\",\"name\":\"TemplateActions1\",\"properties\":[{\"name\":\"open_modal\",\"kind\":\"Any\",\"default\":0},{\"name\":\"close_modal\",\"kind\":\"Any\",\"default\":0}]},{\"type\":\"model\",\"name\":\"BootstrapTemplateActions1\",\"properties\":[{\"name\":\"open_modal\",\"kind\":\"Any\",\"default\":0},{\"name\":\"close_modal\",\"kind\":\"Any\",\"default\":0}]},{\"type\":\"model\",\"name\":\"MaterialTemplateActions1\",\"properties\":[{\"name\":\"open_modal\",\"kind\":\"Any\",\"default\":0},{\"name\":\"close_modal\",\"kind\":\"Any\",\"default\":0}]}]}};\n",
       "  var render_items = [{\"docid\":\"2c2ee75f-01db-4348-a4be-fde3b89ad617\",\"roots\":{\"p3894\":\"e0e62339-bdce-4895-b64c-56343c708f44\"},\"root_ids\":[\"p3894\"]}];\n",
       "  var docs = Object.values(docs_json)\n",
       "  if (!docs) {\n",
       "    return\n",
       "  }\n",
       "  const py_version = docs[0].version.replace('rc', '-rc.').replace('.dev', '-dev.')\n",
       "  const is_dev = py_version.indexOf(\"+\") !== -1 || py_version.indexOf(\"-\") !== -1\n",
       "  function embed_document(root) {\n",
       "    var Bokeh = get_bokeh(root)\n",
       "    Bokeh.embed.embed_items_notebook(docs_json, render_items);\n",
       "    for (const render_item of render_items) {\n",
       "      for (const root_id of render_item.root_ids) {\n",
       "\tconst id_el = document.getElementById(root_id)\n",
       "\tif (id_el.children.length && (id_el.children[0].className === 'bk-root')) {\n",
       "\t  const root_el = id_el.children[0]\n",
       "\t  root_el.id = root_el.id + '-rendered'\n",
       "\t}\n",
       "      }\n",
       "    }\n",
       "  }\n",
       "  function get_bokeh(root) {\n",
       "    if (root.Bokeh === undefined) {\n",
       "      return null\n",
       "    } else if (root.Bokeh.version !== py_version && !is_dev) {\n",
       "      if (root.Bokeh.versions === undefined || !root.Bokeh.versions.has(py_version)) {\n",
       "\treturn null\n",
       "      }\n",
       "      return root.Bokeh.versions.get(py_version);\n",
       "    } else if (root.Bokeh.version === py_version) {\n",
       "      return root.Bokeh\n",
       "    }\n",
       "    return null\n",
       "  }\n",
       "  function is_loaded(root) {\n",
       "    var Bokeh = get_bokeh(root)\n",
       "    return (Bokeh != null && Bokeh.Panel !== undefined)\n",
       "  }\n",
       "  if (is_loaded(root)) {\n",
       "    embed_document(root);\n",
       "  } else {\n",
       "    var attempts = 0;\n",
       "    var timer = setInterval(function(root) {\n",
       "      if (is_loaded(root)) {\n",
       "        clearInterval(timer);\n",
       "        embed_document(root);\n",
       "      } else if (document.readyState == \"complete\") {\n",
       "        attempts++;\n",
       "        if (attempts > 200) {\n",
       "          clearInterval(timer);\n",
       "\t  var Bokeh = get_bokeh(root)\n",
       "\t  if (Bokeh == null || Bokeh.Panel == null) {\n",
       "            console.warn(\"Panel: ERROR: Unable to run Panel code because Bokeh or Panel library is missing\");\n",
       "\t  } else {\n",
       "\t    console.warn(\"Panel: WARNING: Attempting to render but not all required libraries could be resolved.\")\n",
       "\t    embed_document(root)\n",
       "\t  }\n",
       "        }\n",
       "      }\n",
       "    }, 25, root)\n",
       "  }\n",
       "})(window);</script>"
      ],
      "text/plain": [
       ":Bars   [sg_symbol]   (matches)"
      ]
     },
     "execution_count": 152,
     "metadata": {
      "application/vnd.holoviews_exec.v0+json": {
       "id": "p3894"
      }
     },
     "output_type": "execute_result"
    }
   ],
   "source": [
    "df.groupby('sg_symbol').mean(numeric_only=True).hvplot.bar(x='sg_symbol', y='matches')"
   ]
  },
  {
   "cell_type": "code",
   "execution_count": 161,
   "metadata": {},
   "outputs": [
    {
     "data": {
      "text/plain": [
       "'mp-476'"
      ]
     },
     "execution_count": 161,
     "metadata": {},
     "output_type": "execute_result"
    }
   ],
   "source": [
    "df.loc[25, 'material_id']"
   ]
  },
  {
   "cell_type": "code",
   "execution_count": 153,
   "metadata": {},
   "outputs": [
    {
     "data": {
      "text/html": [
       "<div>\n",
       "<style scoped>\n",
       "    .dataframe tbody tr th:only-of-type {\n",
       "        vertical-align: middle;\n",
       "    }\n",
       "\n",
       "    .dataframe tbody tr th {\n",
       "        vertical-align: top;\n",
       "    }\n",
       "\n",
       "    .dataframe thead th {\n",
       "        text-align: right;\n",
       "    }\n",
       "</style>\n",
       "<table border=\"1\" class=\"dataframe\">\n",
       "  <thead>\n",
       "    <tr style=\"text-align: right;\">\n",
       "      <th></th>\n",
       "      <th>sg_symbol</th>\n",
       "      <th>symm</th>\n",
       "      <th>conv</th>\n",
       "      <th>scale</th>\n",
       "      <th>wyckoffs</th>\n",
       "      <th>prop_generated</th>\n",
       "      <th>avg_num_successful</th>\n",
       "      <th>prop_actual_success</th>\n",
       "      <th>best_struct</th>\n",
       "      <th>best_relaxed</th>\n",
       "      <th>...</th>\n",
       "      <th>nsites</th>\n",
       "      <th>spacegroup</th>\n",
       "      <th>nelements</th>\n",
       "      <th>elements_list</th>\n",
       "      <th>CrystalSystem</th>\n",
       "      <th>category</th>\n",
       "      <th>nontrivial_coordinates</th>\n",
       "      <th>struct</th>\n",
       "      <th>matches</th>\n",
       "      <th>best_e_form</th>\n",
       "    </tr>\n",
       "  </thead>\n",
       "  <tbody>\n",
       "    <tr>\n",
       "      <th>25</th>\n",
       "      <td>Fd-3m</td>\n",
       "      <td>[[1.038956 1.038956 1.038956] Ge, [1.038956 3....</td>\n",
       "      <td>[[1.038956 5.19478  1.038956] Ge, [1.038956 7....</td>\n",
       "      <td>4.0</td>\n",
       "      <td>4d_2a_8e</td>\n",
       "      <td>0.407407</td>\n",
       "      <td>3.851852</td>\n",
       "      <td>1.0</td>\n",
       "      <td>[[2.42357415 0.         1.6157161 ] Ge, [0.807...</td>\n",
       "      <td>[[3.31828516e+00 1.14754432e-06 2.21219077e+00...</td>\n",
       "      <td>...</td>\n",
       "      <td>14</td>\n",
       "      <td>227</td>\n",
       "      <td>2</td>\n",
       "      <td>Ge N</td>\n",
       "      <td>Cubic</td>\n",
       "      <td>polymorph_binary</td>\n",
       "      <td>6</td>\n",
       "      <td>[[1.038956 1.038956 1.038956] Ge, [1.038956 3....</td>\n",
       "      <td>0</td>\n",
       "      <td>-0.109428</td>\n",
       "    </tr>\n",
       "  </tbody>\n",
       "</table>\n",
       "<p>1 rows × 25 columns</p>\n",
       "</div>"
      ],
      "text/plain": [
       "   sg_symbol                                               symm  \\\n",
       "25     Fd-3m  [[1.038956 1.038956 1.038956] Ge, [1.038956 3....   \n",
       "\n",
       "                                                 conv  scale  wyckoffs  \\\n",
       "25  [[1.038956 5.19478  1.038956] Ge, [1.038956 7....    4.0  4d_2a_8e   \n",
       "\n",
       "    prop_generated  avg_num_successful  prop_actual_success  \\\n",
       "25        0.407407            3.851852                  1.0   \n",
       "\n",
       "                                          best_struct  \\\n",
       "25  [[2.42357415 0.         1.6157161 ] Ge, [0.807...   \n",
       "\n",
       "                                         best_relaxed  ...  nsites  \\\n",
       "25  [[3.31828516e+00 1.14754432e-06 2.21219077e+00...  ...      14   \n",
       "\n",
       "    spacegroup  nelements elements_list CrystalSystem          category  \\\n",
       "25         227          2          Ge N         Cubic  polymorph_binary   \n",
       "\n",
       "    nontrivial_coordinates                                             struct  \\\n",
       "25                       6  [[1.038956 1.038956 1.038956] Ge, [1.038956 3....   \n",
       "\n",
       "   matches best_e_form  \n",
       "25       0   -0.109428  \n",
       "\n",
       "[1 rows x 25 columns]"
      ]
     },
     "execution_count": 153,
     "metadata": {},
     "output_type": "execute_result"
    }
   ],
   "source": [
    "df.query('sg_symbol == \"Fd-3m\"')"
   ]
  },
  {
   "cell_type": "code",
   "execution_count": 18,
   "metadata": {},
   "outputs": [
    {
     "data": {
      "text/plain": [
       "tensor(68402)"
      ]
     },
     "execution_count": 18,
     "metadata": {},
     "output_type": "execute_result"
    }
   ],
   "source": [
    "from baysic.pyro_generator import SystemStructureModel\n",
    "from baysic.lattice import CubicLattice\n",
    "\n",
    "mod = SystemStructureModel(df.loc[25, 'conv'].composition, CubicLattice)\n",
    "mod.wyck_opt"
   ]
  },
  {
   "cell_type": "code",
   "execution_count": 162,
   "metadata": {},
   "outputs": [
    {
     "data": {
      "text/plain": [
       "['4d', '2a', '8e']"
      ]
     },
     "execution_count": 162,
     "metadata": {},
     "output_type": "execute_result"
    }
   ],
   "source": [
    "df.loc[25, 'symm'].wyckoff_symbols"
   ]
  },
  {
   "cell_type": "code",
   "execution_count": 170,
   "metadata": {},
   "outputs": [
    {
     "name": "stdout",
     "output_type": "stream",
     "text": [
      "Ia-3d\n",
      "['24d', '32e']\n"
     ]
    }
   ],
   "source": [
    "from pymatgen.symmetry.analyzer import SpacegroupAnalyzer\n",
    "\n",
    "sga = SpacegroupAnalyzer(df.loc[25, 'best_relaxed'])\n",
    "symm = sga.get_symmetrized_structure()\n",
    "print(sga.get_symmetry_dataset()['international'])\n",
    "print(symm.wyckoff_symbols)"
   ]
  },
  {
   "cell_type": "code",
   "execution_count": 163,
   "metadata": {},
   "outputs": [
    {
     "data": {
      "text/plain": [
       "69270"
      ]
     },
     "execution_count": 163,
     "metadata": {},
     "output_type": "execute_result"
    }
   ],
   "source": [
    "mod.wyckoff_options.index([['16d', '8a'], ['32e']])"
   ]
  },
  {
   "cell_type": "code",
   "execution_count": 166,
   "metadata": {},
   "outputs": [
    {
     "name": "stdout",
     "output_type": "stream",
     "text": [
      "tensor(0.0029) tensor(1.0939e-05) tensor(0.0071)\n"
     ]
    }
   ],
   "source": [
    "print(mod.count_cards[69270],\n",
    "    mod.opt_cards[69270],\n",
    "    mod.group_cards[69270])"
   ]
  }
 ],
 "metadata": {
  "kernelspec": {
   "display_name": "baysic",
   "language": "python",
   "name": "python3"
  },
  "language_info": {
   "codemirror_mode": {
    "name": "ipython",
    "version": 3
   },
   "file_extension": ".py",
   "mimetype": "text/x-python",
   "name": "python",
   "nbconvert_exporter": "python",
   "pygments_lexer": "ipython3",
   "version": "3.10.12"
  }
 },
 "nbformat": 4,
 "nbformat_minor": 2
}
