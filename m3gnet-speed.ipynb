{
 "cells": [
  {
   "cell_type": "code",
   "execution_count": 1,
   "metadata": {},
   "outputs": [],
   "source": [
    "from tqdm import tqdm\n",
    "from baysic.structure_evaluation import point_energy, relaxed_energy\n",
    "from baysic.utils import json_to_df\n",
    "import pandas as pd\n",
    "\n",
    "df = pd.read_pickle('merged_test_data3.pkl')"
   ]
  },
  {
   "cell_type": "code",
   "execution_count": 2,
   "metadata": {},
   "outputs": [
    {
     "name": "stderr",
     "output_type": "stream",
     "text": [
      "100%|██████████| 20/20 [00:01<00:00, 13.79it/s]\n"
     ]
    }
   ],
   "source": [
    "energies = []\n",
    "\n",
    "for i in tqdm(df.index[:20]):\n",
    "    energies.append(point_energy(df.loc[i, 'struct']))"
   ]
  },
  {
   "cell_type": "markdown",
   "metadata": {},
   "source": [
    "- ~14 it/s for Chrom"
   ]
  },
  {
   "cell_type": "code",
   "execution_count": 2,
   "metadata": {},
   "outputs": [
    {
     "name": "stderr",
     "output_type": "stream",
     "text": [
      "  0%|          | 6/1526 [00:04<19:11,  1.32it/s]\n"
     ]
    },
    {
     "ename": "KeyboardInterrupt",
     "evalue": "",
     "output_type": "error",
     "traceback": [
      "\u001b[0;31m---------------------------------------------------------------------------\u001b[0m",
      "\u001b[0;31mKeyboardInterrupt\u001b[0m                         Traceback (most recent call last)",
      "\u001b[1;32m/home/nicholas/Dropbox/programs/baysic/m3gnet-speed.ipynb Cell 4\u001b[0m line \u001b[0;36m1\n\u001b[1;32m     <a href='vscode-notebook-cell:/home/nicholas/Dropbox/programs/baysic/m3gnet-speed.ipynb#W2sZmlsZQ%3D%3D?line=9'>10</a>\u001b[0m best_e_form \u001b[39m=\u001b[39m []\n\u001b[1;32m     <a href='vscode-notebook-cell:/home/nicholas/Dropbox/programs/baysic/m3gnet-speed.ipynb#W2sZmlsZQ%3D%3D?line=11'>12</a>\u001b[0m \u001b[39mfor\u001b[39;00m struct \u001b[39min\u001b[39;00m tqdm(df[\u001b[39m'\u001b[39m\u001b[39mgen\u001b[39m\u001b[39m'\u001b[39m]):\n\u001b[0;32m---> <a href='vscode-notebook-cell:/home/nicholas/Dropbox/programs/baysic/m3gnet-speed.ipynb#W2sZmlsZQ%3D%3D?line=12'>13</a>\u001b[0m     rel, eform \u001b[39m=\u001b[39m relaxed_energy(deepcopy(struct), long\u001b[39m=\u001b[39;49m\u001b[39mTrue\u001b[39;49;00m)\n\u001b[1;32m     <a href='vscode-notebook-cell:/home/nicholas/Dropbox/programs/baysic/m3gnet-speed.ipynb#W2sZmlsZQ%3D%3D?line=13'>14</a>\u001b[0m     best_relaxed\u001b[39m.\u001b[39mappend(rel)\n\u001b[1;32m     <a href='vscode-notebook-cell:/home/nicholas/Dropbox/programs/baysic/m3gnet-speed.ipynb#W2sZmlsZQ%3D%3D?line=14'>15</a>\u001b[0m     best_e_form\u001b[39m.\u001b[39mappend(eform)\n",
      "File \u001b[0;32m~/Dropbox/programs/baysic/baysic/structure_evaluation.py:84\u001b[0m, in \u001b[0;36mrelaxed_energy\u001b[0;34m(struct, long)\u001b[0m\n\u001b[1;32m     81\u001b[0m \u001b[39melse\u001b[39;00m:\n\u001b[1;32m     82\u001b[0m     params \u001b[39m=\u001b[39m \u001b[39mdict\u001b[39m(fmax\u001b[39m=\u001b[39m\u001b[39m0.02\u001b[39m, steps\u001b[39m=\u001b[39m\u001b[39m5\u001b[39m)\n\u001b[0;32m---> 84\u001b[0m relax_results \u001b[39m=\u001b[39m relaxer\u001b[39m.\u001b[39;49mrelax(struct, \u001b[39m*\u001b[39;49m\u001b[39m*\u001b[39;49mparams)\n\u001b[1;32m     85\u001b[0m \u001b[39m# extract results\u001b[39;00m\n\u001b[1;32m     86\u001b[0m final_structure \u001b[39m=\u001b[39m relax_results[\u001b[39m\"\u001b[39m\u001b[39mfinal_structure\u001b[39m\u001b[39m\"\u001b[39m]\n",
      "File \u001b[0;32m~/anaconda3/envs/baysic/lib/python3.10/site-packages/matgl/ext/ase.py:252\u001b[0m, in \u001b[0;36mRelaxer.relax\u001b[0;34m(self, atoms, fmax, steps, traj_file, interval, verbose, **kwargs)\u001b[0m\n\u001b[1;32m    250\u001b[0m     optimizer \u001b[39m=\u001b[39m \u001b[39mself\u001b[39m\u001b[39m.\u001b[39moptimizer(atoms, \u001b[39m*\u001b[39m\u001b[39m*\u001b[39mkwargs)\n\u001b[1;32m    251\u001b[0m     optimizer\u001b[39m.\u001b[39mattach(obs, interval\u001b[39m=\u001b[39minterval)\n\u001b[0;32m--> 252\u001b[0m     optimizer\u001b[39m.\u001b[39;49mrun(fmax\u001b[39m=\u001b[39;49mfmax, steps\u001b[39m=\u001b[39;49msteps)\n\u001b[1;32m    253\u001b[0m     obs()\n\u001b[1;32m    254\u001b[0m \u001b[39mif\u001b[39;00m traj_file \u001b[39mis\u001b[39;00m \u001b[39mnot\u001b[39;00m \u001b[39mNone\u001b[39;00m:\n",
      "File \u001b[0;32m~/anaconda3/envs/baysic/lib/python3.10/site-packages/ase/optimize/optimize.py:269\u001b[0m, in \u001b[0;36mOptimizer.run\u001b[0;34m(self, fmax, steps)\u001b[0m\n\u001b[1;32m    267\u001b[0m \u001b[39mif\u001b[39;00m steps:\n\u001b[1;32m    268\u001b[0m     \u001b[39mself\u001b[39m\u001b[39m.\u001b[39mmax_steps \u001b[39m=\u001b[39m steps\n\u001b[0;32m--> 269\u001b[0m \u001b[39mreturn\u001b[39;00m Dynamics\u001b[39m.\u001b[39;49mrun(\u001b[39mself\u001b[39;49m)\n",
      "File \u001b[0;32m~/anaconda3/envs/baysic/lib/python3.10/site-packages/ase/optimize/optimize.py:156\u001b[0m, in \u001b[0;36mDynamics.run\u001b[0;34m(self)\u001b[0m\n\u001b[1;32m    149\u001b[0m \u001b[39mdef\u001b[39;00m \u001b[39mrun\u001b[39m(\u001b[39mself\u001b[39m):\n\u001b[1;32m    150\u001b[0m \u001b[39m    \u001b[39m\u001b[39m\"\"\"Run dynamics algorithm.\u001b[39;00m\n\u001b[1;32m    151\u001b[0m \n\u001b[1;32m    152\u001b[0m \u001b[39m    This method will return when the forces on all individual\u001b[39;00m\n\u001b[1;32m    153\u001b[0m \u001b[39m    atoms are less than *fmax* or when the number of steps exceeds\u001b[39;00m\n\u001b[1;32m    154\u001b[0m \u001b[39m    *steps*.\"\"\"\u001b[39;00m\n\u001b[0;32m--> 156\u001b[0m     \u001b[39mfor\u001b[39;00m converged \u001b[39min\u001b[39;00m Dynamics\u001b[39m.\u001b[39mirun(\u001b[39mself\u001b[39m):\n\u001b[1;32m    157\u001b[0m         \u001b[39mpass\u001b[39;00m\n\u001b[1;32m    158\u001b[0m     \u001b[39mreturn\u001b[39;00m converged\n",
      "File \u001b[0;32m~/anaconda3/envs/baysic/lib/python3.10/site-packages/ase/optimize/optimize.py:143\u001b[0m, in \u001b[0;36mDynamics.irun\u001b[0;34m(self)\u001b[0m\n\u001b[1;32m    140\u001b[0m     \u001b[39myield\u001b[39;00m \u001b[39mFalse\u001b[39;00m\n\u001b[1;32m    142\u001b[0m     \u001b[39m# log the step\u001b[39;00m\n\u001b[0;32m--> 143\u001b[0m     \u001b[39mself\u001b[39;49m\u001b[39m.\u001b[39;49mlog()\n\u001b[1;32m    144\u001b[0m     \u001b[39mself\u001b[39m\u001b[39m.\u001b[39mcall_observers()\n\u001b[1;32m    146\u001b[0m \u001b[39m# finally check if algorithm was converged\u001b[39;00m\n",
      "File \u001b[0;32m~/anaconda3/envs/baysic/lib/python3.10/site-packages/ase/optimize/optimize.py:283\u001b[0m, in \u001b[0;36mOptimizer.log\u001b[0;34m(self, forces)\u001b[0m\n\u001b[1;32m    281\u001b[0m \u001b[39mdef\u001b[39;00m \u001b[39mlog\u001b[39m(\u001b[39mself\u001b[39m, forces\u001b[39m=\u001b[39m\u001b[39mNone\u001b[39;00m):\n\u001b[1;32m    282\u001b[0m     \u001b[39mif\u001b[39;00m forces \u001b[39mis\u001b[39;00m \u001b[39mNone\u001b[39;00m:\n\u001b[0;32m--> 283\u001b[0m         forces \u001b[39m=\u001b[39m \u001b[39mself\u001b[39;49m\u001b[39m.\u001b[39;49matoms\u001b[39m.\u001b[39;49mget_forces()\n\u001b[1;32m    284\u001b[0m     fmax \u001b[39m=\u001b[39m sqrt((forces \u001b[39m*\u001b[39m\u001b[39m*\u001b[39m \u001b[39m2\u001b[39m)\u001b[39m.\u001b[39msum(axis\u001b[39m=\u001b[39m\u001b[39m1\u001b[39m)\u001b[39m.\u001b[39mmax())\n\u001b[1;32m    285\u001b[0m     e \u001b[39m=\u001b[39m \u001b[39mself\u001b[39m\u001b[39m.\u001b[39matoms\u001b[39m.\u001b[39mget_potential_energy(\n\u001b[1;32m    286\u001b[0m         force_consistent\u001b[39m=\u001b[39m\u001b[39mself\u001b[39m\u001b[39m.\u001b[39mforce_consistent\n\u001b[1;32m    287\u001b[0m     )\n",
      "File \u001b[0;32m~/anaconda3/envs/baysic/lib/python3.10/site-packages/ase/constraints.py:2614\u001b[0m, in \u001b[0;36mExpCellFilter.get_forces\u001b[0;34m(self, **kwargs)\u001b[0m\n\u001b[1;32m   2613\u001b[0m \u001b[39mdef\u001b[39;00m \u001b[39mget_forces\u001b[39m(\u001b[39mself\u001b[39m, \u001b[39m*\u001b[39m\u001b[39m*\u001b[39mkwargs):\n\u001b[0;32m-> 2614\u001b[0m     forces \u001b[39m=\u001b[39m UnitCellFilter\u001b[39m.\u001b[39;49mget_forces(\u001b[39mself\u001b[39;49m, \u001b[39m*\u001b[39;49m\u001b[39m*\u001b[39;49mkwargs)\n\u001b[1;32m   2616\u001b[0m     \u001b[39m# forces on atoms are same as UnitCellFilter, we just\u001b[39;00m\n\u001b[1;32m   2617\u001b[0m     \u001b[39m# need to modify the stress contribution\u001b[39;00m\n\u001b[1;32m   2618\u001b[0m     stress \u001b[39m=\u001b[39m \u001b[39mself\u001b[39m\u001b[39m.\u001b[39matoms\u001b[39m.\u001b[39mget_stress(\u001b[39m*\u001b[39m\u001b[39m*\u001b[39mkwargs)\n",
      "File \u001b[0;32m~/anaconda3/envs/baysic/lib/python3.10/site-packages/ase/constraints.py:2434\u001b[0m, in \u001b[0;36mUnitCellFilter.get_forces\u001b[0;34m(self, **kwargs)\u001b[0m\n\u001b[1;32m   2424\u001b[0m \u001b[39mdef\u001b[39;00m \u001b[39mget_forces\u001b[39m(\u001b[39mself\u001b[39m, \u001b[39m*\u001b[39m\u001b[39m*\u001b[39mkwargs):\n\u001b[1;32m   2425\u001b[0m \u001b[39m    \u001b[39m\u001b[39m\"\"\"\u001b[39;00m\n\u001b[1;32m   2426\u001b[0m \u001b[39m    returns an array with shape (natoms+3,3) of the atomic forces\u001b[39;00m\n\u001b[1;32m   2427\u001b[0m \u001b[39m    and unit cell stresses.\u001b[39;00m\n\u001b[0;32m   (...)\u001b[0m\n\u001b[1;32m   2431\u001b[0m \u001b[39m    computed from the stress tensor.\u001b[39;00m\n\u001b[1;32m   2432\u001b[0m \u001b[39m    \"\"\"\u001b[39;00m\n\u001b[0;32m-> 2434\u001b[0m     stress \u001b[39m=\u001b[39m \u001b[39mself\u001b[39;49m\u001b[39m.\u001b[39;49matoms\u001b[39m.\u001b[39;49mget_stress(\u001b[39m*\u001b[39;49m\u001b[39m*\u001b[39;49mkwargs)\n\u001b[1;32m   2435\u001b[0m     atoms_forces \u001b[39m=\u001b[39m \u001b[39mself\u001b[39m\u001b[39m.\u001b[39matoms\u001b[39m.\u001b[39mget_forces(\u001b[39m*\u001b[39m\u001b[39m*\u001b[39mkwargs)\n\u001b[1;32m   2437\u001b[0m     volume \u001b[39m=\u001b[39m \u001b[39mself\u001b[39m\u001b[39m.\u001b[39matoms\u001b[39m.\u001b[39mget_volume()\n",
      "File \u001b[0;32m~/anaconda3/envs/baysic/lib/python3.10/site-packages/ase/atoms.py:820\u001b[0m, in \u001b[0;36mAtoms.get_stress\u001b[0;34m(self, voigt, apply_constraint, include_ideal_gas)\u001b[0m\n\u001b[1;32m    817\u001b[0m \u001b[39mif\u001b[39;00m \u001b[39mself\u001b[39m\u001b[39m.\u001b[39m_calc \u001b[39mis\u001b[39;00m \u001b[39mNone\u001b[39;00m:\n\u001b[1;32m    818\u001b[0m     \u001b[39mraise\u001b[39;00m \u001b[39mRuntimeError\u001b[39;00m(\u001b[39m'\u001b[39m\u001b[39mAtoms object has no calculator.\u001b[39m\u001b[39m'\u001b[39m)\n\u001b[0;32m--> 820\u001b[0m stress \u001b[39m=\u001b[39m \u001b[39mself\u001b[39;49m\u001b[39m.\u001b[39;49m_calc\u001b[39m.\u001b[39;49mget_stress(\u001b[39mself\u001b[39;49m)\n\u001b[1;32m    821\u001b[0m shape \u001b[39m=\u001b[39m stress\u001b[39m.\u001b[39mshape\n\u001b[1;32m    823\u001b[0m \u001b[39mif\u001b[39;00m shape \u001b[39m==\u001b[39m (\u001b[39m3\u001b[39m, \u001b[39m3\u001b[39m):\n\u001b[1;32m    824\u001b[0m     \u001b[39m# Convert to the Voigt form before possibly applying\u001b[39;00m\n\u001b[1;32m    825\u001b[0m     \u001b[39m# constraints and adding the dynamic part of the stress\u001b[39;00m\n\u001b[1;32m    826\u001b[0m     \u001b[39m# (the \"ideal gas contribution\").\u001b[39;00m\n",
      "File \u001b[0;32m~/anaconda3/envs/baysic/lib/python3.10/site-packages/ase/calculators/abc.py:26\u001b[0m, in \u001b[0;36mGetPropertiesMixin.get_stress\u001b[0;34m(self, atoms)\u001b[0m\n\u001b[1;32m     25\u001b[0m \u001b[39mdef\u001b[39;00m \u001b[39mget_stress\u001b[39m(\u001b[39mself\u001b[39m, atoms\u001b[39m=\u001b[39m\u001b[39mNone\u001b[39;00m):\n\u001b[0;32m---> 26\u001b[0m     \u001b[39mreturn\u001b[39;00m \u001b[39mself\u001b[39;49m\u001b[39m.\u001b[39;49mget_property(\u001b[39m'\u001b[39;49m\u001b[39mstress\u001b[39;49m\u001b[39m'\u001b[39;49m, atoms)\n",
      "File \u001b[0;32m~/anaconda3/envs/baysic/lib/python3.10/site-packages/ase/calculators/calculator.py:737\u001b[0m, in \u001b[0;36mCalculator.get_property\u001b[0;34m(self, name, atoms, allow_calculation)\u001b[0m\n\u001b[1;32m    735\u001b[0m     \u001b[39mif\u001b[39;00m \u001b[39mnot\u001b[39;00m allow_calculation:\n\u001b[1;32m    736\u001b[0m         \u001b[39mreturn\u001b[39;00m \u001b[39mNone\u001b[39;00m\n\u001b[0;32m--> 737\u001b[0m     \u001b[39mself\u001b[39;49m\u001b[39m.\u001b[39;49mcalculate(atoms, [name], system_changes)\n\u001b[1;32m    739\u001b[0m \u001b[39mif\u001b[39;00m name \u001b[39mnot\u001b[39;00m \u001b[39min\u001b[39;00m \u001b[39mself\u001b[39m\u001b[39m.\u001b[39mresults:\n\u001b[1;32m    740\u001b[0m     \u001b[39m# For some reason the calculator was not able to do what we want,\u001b[39;00m\n\u001b[1;32m    741\u001b[0m     \u001b[39m# and that is OK.\u001b[39;00m\n\u001b[1;32m    742\u001b[0m     \u001b[39mraise\u001b[39;00m PropertyNotImplementedError(\u001b[39m'\u001b[39m\u001b[39m{}\u001b[39;00m\u001b[39m not present in this \u001b[39m\u001b[39m'\u001b[39m\n\u001b[1;32m    743\u001b[0m                                       \u001b[39m'\u001b[39m\u001b[39mcalculation\u001b[39m\u001b[39m'\u001b[39m\u001b[39m.\u001b[39mformat(name))\n",
      "File \u001b[0;32m~/anaconda3/envs/baysic/lib/python3.10/site-packages/matgl/ext/ase.py:178\u001b[0m, in \u001b[0;36mM3GNetCalculator.calculate\u001b[0;34m(self, atoms, properties, system_changes)\u001b[0m\n\u001b[1;32m    176\u001b[0m     energies, forces, stresses, hessians \u001b[39m=\u001b[39m \u001b[39mself\u001b[39m\u001b[39m.\u001b[39mpotential(graph, \u001b[39mself\u001b[39m\u001b[39m.\u001b[39mstate_attr)\n\u001b[1;32m    177\u001b[0m \u001b[39melse\u001b[39;00m:\n\u001b[0;32m--> 178\u001b[0m     energies, forces, stresses, hessians \u001b[39m=\u001b[39m \u001b[39mself\u001b[39;49m\u001b[39m.\u001b[39;49mpotential(graph, state_attr_default)\n\u001b[1;32m    179\u001b[0m \u001b[39mself\u001b[39m\u001b[39m.\u001b[39mresults\u001b[39m.\u001b[39mupdate(\n\u001b[1;32m    180\u001b[0m     energy\u001b[39m=\u001b[39menergies\u001b[39m.\u001b[39mdetach()\u001b[39m.\u001b[39mnumpy(),\n\u001b[1;32m    181\u001b[0m     free_energy\u001b[39m=\u001b[39menergies\u001b[39m.\u001b[39mdetach()\u001b[39m.\u001b[39mnumpy(),\n\u001b[1;32m    182\u001b[0m     forces\u001b[39m=\u001b[39mforces\u001b[39m.\u001b[39mdetach()\u001b[39m.\u001b[39mnumpy(),\n\u001b[1;32m    183\u001b[0m )\n\u001b[1;32m    184\u001b[0m \u001b[39mif\u001b[39;00m \u001b[39mself\u001b[39m\u001b[39m.\u001b[39mcompute_stress:\n",
      "File \u001b[0;32m~/anaconda3/envs/baysic/lib/python3.10/site-packages/torch/nn/modules/module.py:1501\u001b[0m, in \u001b[0;36mModule._call_impl\u001b[0;34m(self, *args, **kwargs)\u001b[0m\n\u001b[1;32m   1496\u001b[0m \u001b[39m# If we don't have any hooks, we want to skip the rest of the logic in\u001b[39;00m\n\u001b[1;32m   1497\u001b[0m \u001b[39m# this function, and just call forward.\u001b[39;00m\n\u001b[1;32m   1498\u001b[0m \u001b[39mif\u001b[39;00m \u001b[39mnot\u001b[39;00m (\u001b[39mself\u001b[39m\u001b[39m.\u001b[39m_backward_hooks \u001b[39mor\u001b[39;00m \u001b[39mself\u001b[39m\u001b[39m.\u001b[39m_backward_pre_hooks \u001b[39mor\u001b[39;00m \u001b[39mself\u001b[39m\u001b[39m.\u001b[39m_forward_hooks \u001b[39mor\u001b[39;00m \u001b[39mself\u001b[39m\u001b[39m.\u001b[39m_forward_pre_hooks\n\u001b[1;32m   1499\u001b[0m         \u001b[39mor\u001b[39;00m _global_backward_pre_hooks \u001b[39mor\u001b[39;00m _global_backward_hooks\n\u001b[1;32m   1500\u001b[0m         \u001b[39mor\u001b[39;00m _global_forward_hooks \u001b[39mor\u001b[39;00m _global_forward_pre_hooks):\n\u001b[0;32m-> 1501\u001b[0m     \u001b[39mreturn\u001b[39;00m forward_call(\u001b[39m*\u001b[39;49margs, \u001b[39m*\u001b[39;49m\u001b[39m*\u001b[39;49mkwargs)\n\u001b[1;32m   1502\u001b[0m \u001b[39m# Do not call functions when jit is used\u001b[39;00m\n\u001b[1;32m   1503\u001b[0m full_backward_hooks, non_full_backward_hooks \u001b[39m=\u001b[39m [], []\n",
      "File \u001b[0;32m~/anaconda3/envs/baysic/lib/python3.10/site-packages/matgl/apps/pes.py:92\u001b[0m, in \u001b[0;36mPotential.forward\u001b[0;34m(self, g, state_attr, l_g)\u001b[0m\n\u001b[1;32m     89\u001b[0m hessian \u001b[39m=\u001b[39m torch\u001b[39m.\u001b[39mzeros(\u001b[39m1\u001b[39m)\n\u001b[1;32m     91\u001b[0m \u001b[39mif\u001b[39;00m \u001b[39mself\u001b[39m\u001b[39m.\u001b[39mcalc_forces:\n\u001b[0;32m---> 92\u001b[0m     grads \u001b[39m=\u001b[39m grad(\n\u001b[1;32m     93\u001b[0m         total_energies,\n\u001b[1;32m     94\u001b[0m         [g\u001b[39m.\u001b[39;49mndata[\u001b[39m\"\u001b[39;49m\u001b[39mpos\u001b[39;49m\u001b[39m\"\u001b[39;49m], g\u001b[39m.\u001b[39;49medata[\u001b[39m\"\u001b[39;49m\u001b[39mbond_vec\u001b[39;49m\u001b[39m\"\u001b[39;49m]],\n\u001b[1;32m     95\u001b[0m         grad_outputs\u001b[39m=\u001b[39;49mtorch\u001b[39m.\u001b[39;49mones_like(total_energies),\n\u001b[1;32m     96\u001b[0m         create_graph\u001b[39m=\u001b[39;49m\u001b[39mTrue\u001b[39;49;00m,\n\u001b[1;32m     97\u001b[0m         retain_graph\u001b[39m=\u001b[39;49m\u001b[39mTrue\u001b[39;49;00m,\n\u001b[1;32m     98\u001b[0m     )\n\u001b[1;32m     99\u001b[0m     forces \u001b[39m=\u001b[39m \u001b[39m-\u001b[39mgrads[\u001b[39m0\u001b[39m]\n\u001b[1;32m    101\u001b[0m \u001b[39mif\u001b[39;00m \u001b[39mself\u001b[39m\u001b[39m.\u001b[39mcalc_hessian:\n",
      "File \u001b[0;32m~/anaconda3/envs/baysic/lib/python3.10/site-packages/torch/autograd/__init__.py:303\u001b[0m, in \u001b[0;36mgrad\u001b[0;34m(outputs, inputs, grad_outputs, retain_graph, create_graph, only_inputs, allow_unused, is_grads_batched)\u001b[0m\n\u001b[1;32m    301\u001b[0m     \u001b[39mreturn\u001b[39;00m _vmap_internals\u001b[39m.\u001b[39m_vmap(vjp, \u001b[39m0\u001b[39m, \u001b[39m0\u001b[39m, allow_none_pass_through\u001b[39m=\u001b[39m\u001b[39mTrue\u001b[39;00m)(grad_outputs_)\n\u001b[1;32m    302\u001b[0m \u001b[39melse\u001b[39;00m:\n\u001b[0;32m--> 303\u001b[0m     \u001b[39mreturn\u001b[39;00m Variable\u001b[39m.\u001b[39;49m_execution_engine\u001b[39m.\u001b[39;49mrun_backward(  \u001b[39m# Calls into the C++ engine to run the backward pass\u001b[39;49;00m\n\u001b[1;32m    304\u001b[0m         t_outputs, grad_outputs_, retain_graph, create_graph, t_inputs,\n\u001b[1;32m    305\u001b[0m         allow_unused, accumulate_grad\u001b[39m=\u001b[39;49m\u001b[39mFalse\u001b[39;49;00m)\n",
      "\u001b[0;31mKeyboardInterrupt\u001b[0m: "
     ]
    }
   ],
   "source": [
    "from copy import deepcopy\n",
    "from tqdm import tqdm\n",
    "\n",
    "from baysic.structure_evaluation import relaxed_energy\n",
    "from baysic.utils import df_to_json, json_to_df\n",
    "\n",
    "df = json_to_df('CeBRh3_raw.json')\n",
    "\n",
    "best_relaxed = []\n",
    "best_e_form = []\n",
    "\n",
    "for struct in tqdm(df['gen']):\n",
    "    rel, eform = relaxed_energy(deepcopy(struct), long=True)\n",
    "    best_relaxed.append(rel)\n",
    "    best_e_form.append(eform)\n",
    "\n",
    "df['best_relaxed'] = best_relaxed\n",
    "df['best_e_form'] = best_e_form\n",
    "\n",
    "df_to_json(df, 'CeBRh3.json')"
   ]
  },
  {
   "cell_type": "markdown",
   "metadata": {},
   "source": [
    "- ~1 it/s for Chrom"
   ]
  },
  {
   "cell_type": "code",
   "execution_count": 5,
   "metadata": {},
   "outputs": [
    {
     "data": {
      "text/plain": [
       "(Structure Summary\n",
       " Lattice\n",
       "     abc : 4.244907169529787 4.244907014377643 4.244907209074851\n",
       "  angles : 89.99999985433685 89.99999969904897 90.00000001363075\n",
       "  volume : 76.48998572940963\n",
       "       A : 4.244907169529787 -5.049345516923652e-10 1.1148370774176157e-08\n",
       "       B : -5.049347875189044e-10 4.244907014377643 5.395917569282424e-09\n",
       "       C : 1.114837050085371e-08 5.3959174748069565e-09 4.244907209074851\n",
       "     pbc : True True True\n",
       " PeriodicSite: Rh (5.973e-09, 2.122, 2.122) [1.535e-10, 0.5, 0.5]\n",
       " PeriodicSite: Rh (2.122, 3.741e-09, 2.122) [0.5, 3.052e-10, 0.5]\n",
       " PeriodicSite: Rh (2.122, 2.122, 1.012e-08) [0.5, 0.5, 4.348e-10]\n",
       " PeriodicSite: Ce (5.107e-10, 5.369e-10, 1.163e-09) [1.203e-10, 1.265e-10, 2.74e-10]\n",
       " PeriodicSite: B (2.122, 2.122, 2.122) [0.5, 0.5, 0.5],\n",
       " -7.7015228271484375)"
      ]
     },
     "execution_count": 5,
     "metadata": {},
     "output_type": "execute_result"
    }
   ],
   "source": [
    "import matgl\n",
    "from matgl.ext.ase import M3GNetCalculator, MolecularDynamics, Relaxer\n",
    "from pymatgen.core import Structure\n",
    "\n",
    "\n",
    "eform = matgl.load_model('M3GNet-MP-2018.6.1-Eform')\n",
    "pot = matgl.load_model(\"M3GNet-MP-2021.2.8-PES\")\n",
    "relaxer = Relaxer(potential=pot)\n",
    "\n",
    "def relaxed_energy(struct: Structure, long: bool = False) -> (Structure, float):\n",
    "    if long:\n",
    "        params = dict(fmax=0.01, steps=300)    \n",
    "    else:\n",
    "        params = dict(fmax=0.02, steps=5)\n",
    "        \n",
    "    relax_results = relaxer.relax(struct, **params)\n",
    "    # extract results\n",
    "    final_structure = relax_results[\"final_structure\"]\n",
    "    final_energy = relax_results[\"trajectory\"].energies[-1]\n",
    "    # print out the final relaxed structure and energy\n",
    "    return (final_structure, final_energy / final_structure.num_sites)\n",
    "\n",
    "relaxed_energy(df['gen'].iloc[0], long=True)"
   ]
  },
  {
   "cell_type": "code",
   "execution_count": null,
   "metadata": {},
   "outputs": [],
   "source": [
    "from copy import deepcopy\n",
    "from tqdm import tqdm\n",
    "\n",
    "from baysic.structure_evaluation import relaxed_energy\n",
    "from baysic.utils import df_to_json, json_to_df\n",
    "\n",
    "df = json_to_df('CeBRh3_raw.json')\n",
    "\n",
    "best_relaxed = []\n",
    "best_e_form = []\n",
    "\n",
    "for struct in tqdm(df['gen']):\n",
    "    rel, eform = relaxed_energy(deepcopy(struct), long=True)\n",
    "    best_relaxed.append(rel)\n",
    "    best_e_form.append(eform)\n",
    "\n",
    "df['best_relaxed'] = best_relaxed\n",
    "df['best_e_form'] = best_e_form\n",
    "\n",
    "df_to_json(df, 'CeBRh3.json')"
   ]
  }
 ],
 "metadata": {
  "kernelspec": {
   "display_name": "baysic",
   "language": "python",
   "name": "python3"
  },
  "language_info": {
   "codemirror_mode": {
    "name": "ipython",
    "version": 3
   },
   "file_extension": ".py",
   "mimetype": "text/x-python",
   "name": "python",
   "nbconvert_exporter": "python",
   "pygments_lexer": "ipython3",
   "version": "3.10.12"
  }
 },
 "nbformat": 4,
 "nbformat_minor": 2
}
