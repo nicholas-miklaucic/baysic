{
 "cells": [
  {
   "cell_type": "code",
   "execution_count": 1,
   "metadata": {},
   "outputs": [
    {
     "name": "stderr",
     "output_type": "stream",
     "text": [
      "BokehDeprecationWarning: \"Use of 'Figure' as a key in Theme attributes\" was deprecated in Bokeh 3.0.0 and will be removed, use \"'figure' (lower-case) as a key\" instead.\n",
      "BokehDeprecationWarning: \"Use of 'Figure' as a key in Theme attributes\" was deprecated in Bokeh 3.0.0 and will be removed, use \"'figure' (lower-case) as a key\" instead.\n"
     ]
    }
   ],
   "source": [
    "from pyxtal import Group, Wyckoff_position\n",
    "from pymatgen.core import Structure, Composition\n",
    "from pymatgen.analysis.molecule_structure_comparator import CovalentRadius\n",
    "\n",
    "import rich\n",
    "import pandas as pda\n",
    "import seaborn as sns\n",
    "import rho_plus as rp\n",
    "IS_DARK = False\n",
    "theme, cs = rp.mpl_setup(IS_DARK)\n",
    "rp.plotly_setup(IS_DARK)\n",
    "\n",
    "%load_ext rich"
   ]
  },
  {
   "cell_type": "code",
   "execution_count": 2,
   "metadata": {},
   "outputs": [],
   "source": [
    "from baysic.utils import load_mp20\n",
    "from baysic.wyckoff_span import Plane, Line, Point\n",
    "\n",
    "df = load_mp20('train')"
   ]
  },
  {
   "cell_type": "code",
   "execution_count": 34,
   "metadata": {},
   "outputs": [
    {
     "data": {
      "text/html": [
       "<pre style=\"white-space:pre;overflow-x:auto;line-height:normal;font-family:Menlo,'DejaVu Sans Mono',consolas,'Courier New',monospace\"></pre>\n"
      ],
      "text/plain": []
     },
     "metadata": {},
     "output_type": "display_data"
    },
    {
     "data": {
      "text/plain": [
       "\u001b[1;36m1.0\u001b[0m"
      ]
     },
     "execution_count": 34,
     "metadata": {},
     "output_type": "execute_result"
    }
   ],
   "source": [
    "from baysic.wyckoff_span import is_nonzero\n",
    "import numpy as np\n",
    "spans = []\n",
    "span_radii = []\n",
    "\n",
    "sga = SpacegroupAnalyzer(row['struct'])\n",
    "equiv_atoms = sga.get_symmetry_dataset()['equivalent_atoms']\n",
    "\n",
    "symm = row['struct']\n",
    "sg_num = row['sg_number']\n",
    "species = symm.species\n",
    "i = 0\n",
    "processed = set()\n",
    "for specie, symbol, equiv in zip(species, row['wyckoffs'], equiv_atoms):\n",
    "    if equiv in processed:\n",
    "        continue\n",
    "    else:\n",
    "        processed.add(equiv)\n",
    "\n",
    "    wp = Wyckoff_position.from_group_and_letter(sg_num, symbol, style='spglib')\n",
    "    if wp.get_dof() != 3:\n",
    "        radius = CovalentRadius.radius[specie.symbol]\n",
    "        for op in wp.ops:\n",
    "            n_dof = sum(is_nonzero(op.rotation_matrix, axis=0))\n",
    "            span = (Point, Line, Plane)[n_dof](op)\n",
    "            did_add = False\n",
    "            for span_i, prev_span in enumerate(spans):\n",
    "                if span.dim == prev_span.dim and span == prev_span:\n",
    "                    print(span, prev_span)\n",
    "                    span_radii[span_i].append(radius)\n",
    "                    did_add = True\n",
    "                    break\n",
    "            if not did_add:\n",
    "                spans.append(span)\n",
    "                span_radii.append([radius])\n",
    "\n",
    "for span, radii in zip(spans, span_radii):\n",
    "    min_dist_ratios = np.linspace(0.6, 1, 30)\n",
    "    assert span.fits(symm.lattice, np.array(radii) * min_dist_ratios[0])\n",
    "    prev_min = min_dist_ratios[0]\n",
    "    for curr_min in min_dist_ratios[1:]:\n",
    "        if not span.fits(row['lattice'], np.array(radii) * curr_min):\n",
    "            break\n",
    "        else:\n",
    "            prev_min = curr_min\n",
    "\n",
    "prev_min"
   ]
  },
  {
   "cell_type": "code",
   "execution_count": 4,
   "metadata": {},
   "outputs": [
    {
     "name": "stdout",
     "output_type": "stream",
     "text": [
      "6660\n"
     ]
    },
    {
     "data": {
      "text/html": [
       "<pre style=\"white-space:pre;overflow-x:auto;line-height:normal;font-family:Menlo,'DejaVu Sans Mono',consolas,'Courier New',monospace\"></pre>\n"
      ],
      "text/plain": []
     },
     "metadata": {},
     "output_type": "display_data"
    },
    {
     "data": {
      "text/plain": [
       "\u001b[1m[\u001b[0m\u001b[1m[\u001b[0m\u001b[32m'1d'\u001b[0m, \u001b[32m'1c'\u001b[0m, \u001b[32m'1b'\u001b[0m, \u001b[32m'1a'\u001b[0m\u001b[1m]\u001b[0m, \u001b[1m[\u001b[0m\u001b[32m'2e'\u001b[0m\u001b[1m]\u001b[0m, \u001b[1m[\u001b[0m\u001b[32m'2e'\u001b[0m, \u001b[32m'2e'\u001b[0m, \u001b[32m'2e'\u001b[0m\u001b[1m]\u001b[0m\u001b[1m]\u001b[0m"
      ]
     },
     "execution_count": 4,
     "metadata": {},
     "output_type": "execute_result"
    }
   ],
   "source": [
    "import numpy as np\n",
    "from pymatgen.core import Lattice\n",
    "\n",
    "comp = Composition('Ag4C2O6')\n",
    "\n",
    "sg = Group(115)\n",
    "\n",
    "all_assignments = sg.list_wyckoff_combinations(list(comp.get_el_amt_dict().values()))[0]\n",
    "print(len(all_assignments))\n",
    "all_assignments[0]"
   ]
  },
  {
   "cell_type": "code",
   "execution_count": 24,
   "metadata": {},
   "outputs": [
    {
     "data": {
      "application/vnd.jupyter.widget-view+json": {
       "model_id": "86b2573758834d3ca00feaa78a071926",
       "version_major": 2,
       "version_minor": 0
      },
      "text/plain": [
       "Output()"
      ]
     },
     "metadata": {},
     "output_type": "display_data"
    },
    {
     "name": "stdout",
     "output_type": "stream",
     "text": [
      "tetragonal\n"
     ]
    },
    {
     "data": {
      "text/html": [
       "<pre style=\"white-space:pre;overflow-x:auto;line-height:normal;font-family:Menlo,'DejaVu Sans Mono',consolas,'Courier New',monospace\"></pre>\n"
      ],
      "text/plain": []
     },
     "metadata": {},
     "output_type": "display_data"
    },
    {
     "data": {
      "text/html": [
       "<pre style=\"white-space:pre;overflow-x:auto;line-height:normal;font-family:Menlo,'DejaVu Sans Mono',consolas,'Courier New',monospace\">\n",
       "</pre>\n"
      ],
      "text/plain": [
       "\n"
      ]
     },
     "metadata": {},
     "output_type": "display_data"
    }
   ],
   "source": [
    "from baysic.lattice import LATTICES, atomic_volume\n",
    "from baysic.wyckoff_span import is_nonzero\n",
    "from rich.progress import track\n",
    "\n",
    "lat_model = None\n",
    "for lat in LATTICES:\n",
    "    if sg.number in [g.number for g in lat.get_groups()]:\n",
    "        lat_model = lat(atomic_volume(comp))\n",
    "\n",
    "print(lat_model.lattice_type)\n",
    "\n",
    "dist_df = []\n",
    "lat_matrices = [lat_model.to_lattice() for _ in range(10)]\n",
    "\n",
    "for assignment_i, assignment in track(list(enumerate(all_assignments))):\n",
    "    spans = []\n",
    "    span_radii = []\n",
    "    for specie, wyckoffs in zip(comp.elements, assignment):\n",
    "        for wyckoff in wyckoffs:\n",
    "            wp = Wyckoff_position.from_group_and_letter(sg.number, wyckoff, style='spglib')\n",
    "            if wp.get_dof() != 3:\n",
    "                radius = CovalentRadius.radius[specie.symbol]\n",
    "                for op in wp.ops:\n",
    "                    n_dof = sum(is_nonzero(op.rotation_matrix, axis=0))\n",
    "                    span = (Point, Line, Plane)[n_dof](op)\n",
    "                    did_add = False\n",
    "                    for span_i, prev_span in enumerate(spans):\n",
    "                        if span.dim == prev_span.dim and span == prev_span:\n",
    "                            span_radii[span_i].append(radius)\n",
    "                            did_add = True\n",
    "                            break\n",
    "                    if not did_add:\n",
    "                        spans.append(span)\n",
    "                        span_radii.append([radius])\n",
    "\n",
    "    for lat_i, lat_matrix in enumerate(lat_matrices):\n",
    "        dist_ratios = []\n",
    "        for span, radii in zip(spans, span_radii):\n",
    "            min_dist_ratios = np.linspace(0, 1, 100)\n",
    "            prev_min = 0\n",
    "            for curr_min in min_dist_ratios[1:]:\n",
    "                if not span.fits(lat_matrix, np.array(radii) * curr_min):\n",
    "                    dist_ratios.append(prev_min)\n",
    "                    break\n",
    "                else:\n",
    "                    prev_min = curr_min\n",
    "\n",
    "            if prev_min == 1:\n",
    "                dist_ratios.append(prev_min)\n",
    "        dist_ratio = np.min(dist_ratios)\n",
    "        dist_df.append({\n",
    "            'lattice': f'l_{lat_i}',\n",
    "            'assignment': assignment,\n",
    "            'assignment_i': assignment_i,\n",
    "            'min_ratio': dist_ratio,\n",
    "        })"
   ]
  },
  {
   "cell_type": "code",
   "execution_count": 25,
   "metadata": {},
   "outputs": [],
   "source": [
    "import pandas as pd\n",
    "import seaborn as sns\n",
    "import rho_plus as rp\n",
    "from baysic.utils import quick_view, json_to_df\n",
    "IS_DARK = False\n",
    "theme, cs = rp.mpl_setup(IS_DARK)\n",
    "rp.plotly_setup(IS_DARK)\n",
    "\n",
    "dist_df = pd.DataFrame(dist_df)\n",
    "dist_df['feasible'] = dist_df.eval('min_ratio >= 0.7')\n",
    "dist_df['easy'] = dist_df.eval('min_ratio == 1')"
   ]
  },
  {
   "cell_type": "code",
   "execution_count": 26,
   "metadata": {},
   "outputs": [
    {
     "data": {
      "text/html": [
       "<pre style=\"white-space:pre;overflow-x:auto;line-height:normal;font-family:Menlo,'DejaVu Sans Mono',consolas,'Courier New',monospace\"></pre>\n"
      ],
      "text/plain": []
     },
     "metadata": {},
     "output_type": "display_data"
    },
    {
     "data": {
      "text/html": [
       "<div>\n",
       "<style scoped>\n",
       "    .dataframe tbody tr th:only-of-type {\n",
       "        vertical-align: middle;\n",
       "    }\n",
       "\n",
       "    .dataframe tbody tr th {\n",
       "        vertical-align: top;\n",
       "    }\n",
       "\n",
       "    .dataframe thead th {\n",
       "        text-align: right;\n",
       "    }\n",
       "</style>\n",
       "<table border=\"1\" class=\"dataframe\">\n",
       "  <thead>\n",
       "    <tr style=\"text-align: right;\">\n",
       "      <th></th>\n",
       "      <th>lattice</th>\n",
       "      <th>assignment</th>\n",
       "      <th>assignment_i</th>\n",
       "      <th>min_ratio</th>\n",
       "      <th>feasible</th>\n",
       "      <th>easy</th>\n",
       "    </tr>\n",
       "  </thead>\n",
       "  <tbody>\n",
       "    <tr>\n",
       "      <th>0</th>\n",
       "      <td>l_0</td>\n",
       "      <td>[[1d, 1c, 1b, 1a], [2e], [2e, 2e, 2e]]</td>\n",
       "      <td>0</td>\n",
       "      <td>0.353535</td>\n",
       "      <td>False</td>\n",
       "      <td>False</td>\n",
       "    </tr>\n",
       "    <tr>\n",
       "      <th>1</th>\n",
       "      <td>l_1</td>\n",
       "      <td>[[1d, 1c, 1b, 1a], [2e], [2e, 2e, 2e]]</td>\n",
       "      <td>0</td>\n",
       "      <td>0.484848</td>\n",
       "      <td>False</td>\n",
       "      <td>False</td>\n",
       "    </tr>\n",
       "    <tr>\n",
       "      <th>2</th>\n",
       "      <td>l_2</td>\n",
       "      <td>[[1d, 1c, 1b, 1a], [2e], [2e, 2e, 2e]]</td>\n",
       "      <td>0</td>\n",
       "      <td>0.292929</td>\n",
       "      <td>False</td>\n",
       "      <td>False</td>\n",
       "    </tr>\n",
       "    <tr>\n",
       "      <th>3</th>\n",
       "      <td>l_3</td>\n",
       "      <td>[[1d, 1c, 1b, 1a], [2e], [2e, 2e, 2e]]</td>\n",
       "      <td>0</td>\n",
       "      <td>0.212121</td>\n",
       "      <td>False</td>\n",
       "      <td>False</td>\n",
       "    </tr>\n",
       "    <tr>\n",
       "      <th>4</th>\n",
       "      <td>l_4</td>\n",
       "      <td>[[1d, 1c, 1b, 1a], [2e], [2e, 2e, 2e]]</td>\n",
       "      <td>0</td>\n",
       "      <td>0.515152</td>\n",
       "      <td>False</td>\n",
       "      <td>False</td>\n",
       "    </tr>\n",
       "  </tbody>\n",
       "</table>\n",
       "</div>"
      ],
      "text/plain": [
       "\n",
       "  lattice                              assignment  assignment_i  min_ratio  \\\n",
       "\u001b[1;36m0\u001b[0m     l_0  \u001b[1m[\u001b[0m\u001b[1m[\u001b[0m1d, 1c, 1b, 1a\u001b[1m]\u001b[0m, \u001b[1m[\u001b[0m2e\u001b[1m]\u001b[0m, \u001b[1m[\u001b[0m2e, 2e, 2e\u001b[1m]\u001b[0m\u001b[1m]\u001b[0m             \u001b[1;36m0\u001b[0m   \u001b[1;36m0.353535\u001b[0m   \n",
       "\u001b[1;36m1\u001b[0m     l_1  \u001b[1m[\u001b[0m\u001b[1m[\u001b[0m1d, 1c, 1b, 1a\u001b[1m]\u001b[0m, \u001b[1m[\u001b[0m2e\u001b[1m]\u001b[0m, \u001b[1m[\u001b[0m2e, 2e, 2e\u001b[1m]\u001b[0m\u001b[1m]\u001b[0m             \u001b[1;36m0\u001b[0m   \u001b[1;36m0.484848\u001b[0m   \n",
       "\u001b[1;36m2\u001b[0m     l_2  \u001b[1m[\u001b[0m\u001b[1m[\u001b[0m1d, 1c, 1b, 1a\u001b[1m]\u001b[0m, \u001b[1m[\u001b[0m2e\u001b[1m]\u001b[0m, \u001b[1m[\u001b[0m2e, 2e, 2e\u001b[1m]\u001b[0m\u001b[1m]\u001b[0m             \u001b[1;36m0\u001b[0m   \u001b[1;36m0.292929\u001b[0m   \n",
       "\u001b[1;36m3\u001b[0m     l_3  \u001b[1m[\u001b[0m\u001b[1m[\u001b[0m1d, 1c, 1b, 1a\u001b[1m]\u001b[0m, \u001b[1m[\u001b[0m2e\u001b[1m]\u001b[0m, \u001b[1m[\u001b[0m2e, 2e, 2e\u001b[1m]\u001b[0m\u001b[1m]\u001b[0m             \u001b[1;36m0\u001b[0m   \u001b[1;36m0.212121\u001b[0m   \n",
       "\u001b[1;36m4\u001b[0m     l_4  \u001b[1m[\u001b[0m\u001b[1m[\u001b[0m1d, 1c, 1b, 1a\u001b[1m]\u001b[0m, \u001b[1m[\u001b[0m2e\u001b[1m]\u001b[0m, \u001b[1m[\u001b[0m2e, 2e, 2e\u001b[1m]\u001b[0m\u001b[1m]\u001b[0m             \u001b[1;36m0\u001b[0m   \u001b[1;36m0.515152\u001b[0m   \n",
       "\n",
       "   feasible   easy  \n",
       "\u001b[1;36m0\u001b[0m     \u001b[3;91mFalse\u001b[0m  \u001b[3;91mFalse\u001b[0m  \n",
       "\u001b[1;36m1\u001b[0m     \u001b[3;91mFalse\u001b[0m  \u001b[3;91mFalse\u001b[0m  \n",
       "\u001b[1;36m2\u001b[0m     \u001b[3;91mFalse\u001b[0m  \u001b[3;91mFalse\u001b[0m  \n",
       "\u001b[1;36m3\u001b[0m     \u001b[3;91mFalse\u001b[0m  \u001b[3;91mFalse\u001b[0m  \n",
       "\u001b[1;36m4\u001b[0m     \u001b[3;91mFalse\u001b[0m  \u001b[3;91mFalse\u001b[0m  "
      ]
     },
     "execution_count": 26,
     "metadata": {},
     "output_type": "execute_result"
    }
   ],
   "source": [
    "dist_df.head()"
   ]
  },
  {
   "cell_type": "code",
   "execution_count": 35,
   "metadata": {},
   "outputs": [
    {
     "data": {
      "text/html": [
       "<pre style=\"white-space:pre;overflow-x:auto;line-height:normal;font-family:Menlo,'DejaVu Sans Mono',consolas,'Courier New',monospace\"></pre>\n"
      ],
      "text/plain": []
     },
     "metadata": {},
     "output_type": "display_data"
    },
    {
     "data": {
      "text/plain": [
       "\u001b[1m<\u001b[0m\u001b[1;95mseaborn.axisgrid.FacetGrid\u001b[0m\u001b[39m object at \u001b[0m\u001b[1;36m0x7f757b79bf70\u001b[0m\u001b[1m>\u001b[0m"
      ]
     },
     "execution_count": 35,
     "metadata": {},
     "output_type": "execute_result"
    },
    {
     "data": {
      "text/html": [
       "<pre style=\"white-space:pre;overflow-x:auto;line-height:normal;font-family:Menlo,'DejaVu Sans Mono',consolas,'Courier New',monospace\"></pre>\n"
      ],
      "text/plain": []
     },
     "metadata": {},
     "output_type": "display_data"
    },
    {
     "data": {
      "image/png": "[encoded data removed]",
      "text/plain": [
       "\u001b[1m<\u001b[0m\u001b[1;95mFigure\u001b[0m\u001b[39m size \u001b[0m\u001b[1;36m565.\u001b[0m\u001b[39m708x500 with \u001b[0m\u001b[1;36m1\u001b[0m\u001b[39m Axes\u001b[0m\u001b[1m>\u001b[0m"
      ]
     },
     "metadata": {},
     "output_type": "display_data"
    }
   ],
   "source": [
    "sns.catplot(dist_df, y='lattice', x='feasible', orient='h', kind='point', hue='lattice',\n",
    "            errorbar=('ci', 99), ms=5, lw=1)"
   ]
  },
  {
   "cell_type": "code",
   "execution_count": 43,
   "metadata": {},
   "outputs": [
    {
     "data": {
      "text/html": [
       "<pre style=\"white-space:pre;overflow-x:auto;line-height:normal;font-family:Menlo,'DejaVu Sans Mono',consolas,'Courier New',monospace\"></pre>\n"
      ],
      "text/plain": []
     },
     "metadata": {},
     "output_type": "display_data"
    },
    {
     "data": {
      "text/plain": [
       "\n",
       "assignment_i\n",
       "\u001b[1;36m2736\u001b[0m    \u001b[1;36m0.0\u001b[0m\n",
       "\u001b[1;36m2761\u001b[0m    \u001b[1;36m0.0\u001b[0m\n",
       "\u001b[1;36m5518\u001b[0m    \u001b[1;36m0.0\u001b[0m\n",
       "\u001b[1;36m5575\u001b[0m    \u001b[1;36m0.0\u001b[0m\n",
       "\u001b[1;36m5619\u001b[0m    \u001b[1;36m0.0\u001b[0m\n",
       "       \u001b[33m...\u001b[0m \n",
       "\u001b[1;36m2580\u001b[0m    \u001b[1;36m0.1\u001b[0m\n",
       "\u001b[1;36m2581\u001b[0m    \u001b[1;36m0.1\u001b[0m\n",
       "\u001b[1;36m2582\u001b[0m    \u001b[1;36m0.1\u001b[0m\n",
       "\u001b[1;36m686\u001b[0m     \u001b[1;36m0.1\u001b[0m\n",
       "\u001b[1;36m2583\u001b[0m    \u001b[1;36m0.1\u001b[0m\n",
       "Name: feasible, Length: \u001b[1;36m100\u001b[0m, dtype: float64"
      ]
     },
     "execution_count": 43,
     "metadata": {},
     "output_type": "execute_result"
    }
   ],
   "source": [
    "dist_df.groupby('assignment_i').mean(numeric_only=True)['feasible'].sort_values().head(100)"
   ]
  },
  {
   "cell_type": "code",
   "execution_count": null,
   "metadata": {},
   "outputs": [],
   "source": []
  }
 ],
 "metadata": {
  "kernelspec": {
   "display_name": "mleg",
   "language": "python",
   "name": "python3"
  },
  "language_info": {
   "codemirror_mode": {
    "name": "ipython",
    "version": 3
   },
   "file_extension": ".py",
   "mimetype": "text/x-python",
   "name": "python",
   "nbconvert_exporter": "python",
   "pygments_lexer": "ipython3",
   "version": "3.10.12"
  }
 },
 "nbformat": 4,
 "nbformat_minor": 2
}
