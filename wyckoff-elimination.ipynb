{
 "cells": [
  {
   "cell_type": "code",
   "execution_count": 1,
   "metadata": {},
   "outputs": [
    {
     "name": "stderr",
     "output_type": "stream",
     "text": [
      "BokehDeprecationWarning: \"Use of 'Figure' as a key in Theme attributes\" was deprecated in Bokeh 3.0.0 and will be removed, use \"'figure' (lower-case) as a key\" instead.\n",
      "BokehDeprecationWarning: \"Use of 'Figure' as a key in Theme attributes\" was deprecated in Bokeh 3.0.0 and will be removed, use \"'figure' (lower-case) as a key\" instead.\n"
     ]
    }
   ],
   "source": [
    "from pyxtal import Group, Wyckoff_position\n",
    "from pymatgen.core import Structure, Composition\n",
    "from pymatgen.analysis.molecule_structure_comparator import CovalentRadius\n",
    "\n",
    "import rich\n",
    "import pandas as pda\n",
    "import seaborn as sns\n",
    "import rho_plus as rp\n",
    "IS_DARK = False\n",
    "theme, cs = rp.mpl_setup(IS_DARK)\n",
    "rp.plotly_setup(IS_DARK)\n",
    "\n",
    "%load_ext rich"
   ]
  },
  {
   "cell_type": "code",
   "execution_count": 2,
   "metadata": {},
   "outputs": [],
   "source": [
    "from baysic.utils import load_mp20\n",
    "from baysic.wyckoff_span import Plane, Line, Point\n",
    "\n",
    "df = load_mp20('train')"
   ]
  },
  {
   "cell_type": "code",
   "execution_count": 74,
   "metadata": {},
   "outputs": [
    {
     "name": "stderr",
     "output_type": "stream",
     "text": [
      "/tmp/ipykernel_871311/975064847.py:21: DeprecationWarning: In future, it will be an error for 'np.bool_' scalars to be interpreted as an index\n",
      "  has_freedom = torch.tensor([wp.get_dof() != 0 for wp in all_wps])\n"
     ]
    },
    {
     "data": {
      "text/html": [
       "<pre style=\"white-space:pre;overflow-x:auto;line-height:normal;font-family:Menlo,'DejaVu Sans Mono',consolas,'Courier New',monospace\"></pre>\n"
      ],
      "text/plain": []
     },
     "metadata": {},
     "output_type": "display_data"
    },
    {
     "data": {
      "text/plain": [
       "\u001b[1;36m100\u001b[0m"
      ]
     },
     "execution_count": 74,
     "metadata": {},
     "output_type": "execute_result"
    }
   ],
   "source": [
    "from baysic.pyro_generator import SystemStructureModel\n",
    "from baysic.config import LogConfig, SearchConfig\n",
    "from pymatgen.core import Composition\n",
    "from baysic.lattice import HexagonalLattice, TetragonalLattice, OrthorhombicLattice\n",
    "import torch\n",
    "import pyro.distributions as dist\n",
    "\n",
    "log = LogConfig()\n",
    "search = SearchConfig()\n",
    "comp = Composition('Ba2YCu3O7')\n",
    "lat_model = HexagonalLattice\n",
    "\n",
    "self = SystemStructureModel(log, search, comp, lat_model, force_group=143)\n",
    "\n",
    "self.volume = (self.volume_ratio + self.MIN_LATTICE_RATIO) * self.atom_volume\n",
    "self.lattice = self.lattice_model(self.volume).to_lattice()\n",
    "group = self.group_options[self.group_opt]\n",
    "num_atoms = list(self.comp.values())\n",
    "all_wps = group.Wyckoff_positions\n",
    "mults = torch.tensor([wp.multiplicity for wp in all_wps]).float()\n",
    "has_freedom = torch.tensor([wp.get_dof() != 0 for wp in all_wps])\n",
    "def try_assignment():\n",
    "    complete_assignment = []\n",
    "    for count in num_atoms:\n",
    "        removed = torch.zeros_like(has_freedom)\n",
    "        assignment = []\n",
    "        curr_count = count\n",
    "        while curr_count != 0:\n",
    "            is_possible = torch.where(~removed & (mults <= curr_count))[0]\n",
    "            if len(is_possible) == 0:\n",
    "                return None\n",
    "            weights = mults[is_possible] * 3\n",
    "            _uniq, inv, counts = torch.unique(mults[is_possible], return_inverse=True, return_counts=True)\n",
    "            weights /= counts[inv]\n",
    "            weights /= weights.sum()\n",
    "            selection = is_possible[dist.Categorical(probs=weights).sample()].item()\n",
    "            assignment.append(all_wps[selection].letter)\n",
    "            curr_count -= mults[selection].item()\n",
    "            if not has_freedom[selection]:\n",
    "                removed[selection] = True\n",
    "\n",
    "        complete_assignment.append(assignment)\n",
    "    return complete_assignment\n",
    "\n",
    "combs = []\n",
    "for _ in range(100):\n",
    "    comb = try_assignment()\n",
    "    if comb is not None:\n",
    "        combs.append(comb)\n",
    "\n",
    "len(combs)"
   ]
  },
  {
   "cell_type": "code",
   "execution_count": 75,
   "metadata": {},
   "outputs": [
    {
     "data": {
      "text/html": [
       "<pre style=\"white-space:pre;overflow-x:auto;line-height:normal;font-family:Menlo,'DejaVu Sans Mono',consolas,'Courier New',monospace\"></pre>\n"
      ],
      "text/plain": []
     },
     "metadata": {},
     "output_type": "display_data"
    },
    {
     "data": {
      "image/png": "[encoded data removed]",
      "text/plain": [
       "\u001b[1m<\u001b[0m\u001b[1;95mFigure\u001b[0m\u001b[39m size 80\u001b[0m\u001b[1;36m0x600\u001b[0m\u001b[39m with \u001b[0m\u001b[1;36m1\u001b[0m\u001b[39m Axes\u001b[0m\u001b[1m>\u001b[0m"
      ]
     },
     "metadata": {},
     "output_type": "display_data"
    }
   ],
   "source": [
    "from baysic.wyckoff_span import min_dist_ratio\n",
    "from pymatgen.core import Lattice\n",
    "import itertools\n",
    "from math import e\n",
    "import numpy as np\n",
    "from pymatgen.core import SymmOp, Lattice\n",
    "from pyxtal import Wyckoff_position\n",
    "from pymatgen.analysis.molecule_structure_comparator import CovalentRadius\n",
    "from baysic.utils import json_to_df\n",
    "from baysic.wyckoff_span import WyckoffSpan, is_nonzero, Plane, Line, Point\n",
    "\n",
    "def subset_of(span1, span2):\n",
    "    if span1.dim > span2.dim:\n",
    "        return False\n",
    "    elif span1.dim == span2.dim:\n",
    "        return span1 == span2\n",
    "    else:\n",
    "        test_params = np.random.randn(10, span1.dim)\n",
    "        test_pts = np.array([\n",
    "            span1(*params) for params in test_params\n",
    "        ])\n",
    "\n",
    "        if all([span2.contains(test_pt) for test_pt in test_pts]):\n",
    "            return True\n",
    "        else:\n",
    "            return False\n",
    "\n",
    "def min_dist_ratio(sg_num, wps, species, lattice: Lattice) -> float:\n",
    "    spans = []\n",
    "    span_elements = []\n",
    "\n",
    "    for specie, symbol in zip(species, wps):\n",
    "        wp = Wyckoff_position.from_group_and_letter(sg_num, symbol, style='spglib')\n",
    "        if wp.get_dof() != 3:\n",
    "            radius = CovalentRadius.radius[specie.symbol]\n",
    "            for op in wp.ops:\n",
    "                n_dof = sum(is_nonzero(op.rotation_matrix, axis=0))\n",
    "                span = (Point, Line, Plane)[n_dof](op)\n",
    "                did_add = False\n",
    "                for span_i, prev_span in enumerate(spans):\n",
    "                    if span.dim == prev_span.dim and span == prev_span:\n",
    "                        span_elements[span_i].append(specie)\n",
    "                        did_add = True\n",
    "                        break\n",
    "                if not did_add:\n",
    "                    spans.append(span)\n",
    "                    span_elements.append([specie])\n",
    "\n",
    "    spans = np.array(spans)\n",
    "    span_elements = np.array(span_elements, dtype=object)\n",
    "    order = np.argsort([-span.dim for span in spans])\n",
    "    spans = spans[order]\n",
    "    span_elements = span_elements[order]\n",
    "\n",
    "    for i, span in enumerate(spans):\n",
    "        for j, prev_span in enumerate(spans[:i]):\n",
    "            if subset_of(span, prev_span):\n",
    "                print('Found subset')\n",
    "                span_elements[j].extend(span_elements[i])\n",
    "\n",
    "    dist_ratios = []\n",
    "    for span, species in zip(spans, span_elements):\n",
    "        radii = [CovalentRadius.radius[specie.symbol] for specie in species]\n",
    "        dist_ratios.append(span.dist_ratio(lattice, radii))\n",
    "\n",
    "    return np.min(dist_ratios) if dist_ratios else np.inf\n",
    "\n",
    "from pymatgen.core import SymmOp\n",
    "\n",
    "import matplotlib.pyplot as plt\n",
    "dist_ratios = [\n",
    "    min_dist_ratio(self.group_options[0].number, sum(comb, []), sum([[el] * len(wp) for wp, el in zip(comb, self.comp.elements)], []), self.lattice)\n",
    "    for comb in combs\n",
    "]\n",
    "\n",
    "fig, ax = plt.subplots()\n",
    "sns.histplot(dist_ratios, ax=ax)\n",
    "rp.smart_ticks(ax, xaxis=True)"
   ]
  },
  {
   "cell_type": "code",
   "execution_count": 48,
   "metadata": {},
   "outputs": [
    {
     "data": {
      "text/html": [
       "<pre style=\"white-space:pre;overflow-x:auto;line-height:normal;font-family:Menlo,'DejaVu Sans Mono',consolas,'Courier New',monospace\"></pre>\n"
      ],
      "text/plain": []
     },
     "metadata": {},
     "output_type": "display_data"
    },
    {
     "data": {
      "text/plain": [
       "\u001b[1m<\u001b[0m\u001b[1;95mAxes:\u001b[0m\u001b[39m \u001b[0m\u001b[33mxlabel\u001b[0m\u001b[39m=\u001b[0m\u001b[32m'ratio'\u001b[0m\u001b[39m, \u001b[0m\u001b[33mylabel\u001b[0m\u001b[39m=\u001b[0m\u001b[32m'count'\u001b[0m\u001b[1m>\u001b[0m"
      ]
     },
     "execution_count": 48,
     "metadata": {},
     "output_type": "execute_result"
    },
    {
     "data": {
      "text/html": [
       "<pre style=\"white-space:pre;overflow-x:auto;line-height:normal;font-family:Menlo,'DejaVu Sans Mono',consolas,'Courier New',monospace\"></pre>\n"
      ],
      "text/plain": []
     },
     "metadata": {},
     "output_type": "display_data"
    },
    {
     "data": {
      "image/png": "[encoded data removed]",
      "text/plain": [
       "\u001b[1m<\u001b[0m\u001b[1;95mFigure\u001b[0m\u001b[39m size 80\u001b[0m\u001b[1;36m0x600\u001b[0m\u001b[39m with \u001b[0m\u001b[1;36m1\u001b[0m\u001b[39m Axes\u001b[0m\u001b[1m>\u001b[0m"
      ]
     },
     "metadata": {},
     "output_type": "display_data"
    }
   ],
   "source": [
    "from gemmi import SpaceGroup, UnitCell\n",
    "from pyxtal import Group, Wyckoff_position\n",
    "from pymatgen.core import SymmOp\n",
    "from pyxtal.symmetry import are_equivalent_ops\n",
    "import pandas as pd\n",
    "import seaborn as sns\n",
    "\n",
    "gdf = []\n",
    "for g in range(1, 231):\n",
    "\n",
    "    p_to_c = SymmOp.from_xyz_str(SpaceGroup(g).centred_to_primitive().inverse().triplet())\n",
    "\n",
    "    ops = Group(g).Wyckoff_positions[0].ops\n",
    "    new_ops = [p_to_c * op for op in ops]\n",
    "    uniq = []\n",
    "    for i, op in enumerate(new_ops):\n",
    "        if all(not are_equivalent_ops(op, prev_op) for prev_op in new_ops[:i]):\n",
    "            uniq.append(op)\n",
    "\n",
    "    gdf.append({'uniq': len(uniq), 'total': len(new_ops), 'ratio': len(new_ops) / len(uniq)})\n",
    "\n",
    "gdf = pd.DataFrame(gdf)\n",
    "sns.countplot(gdf, x='ratio')"
   ]
  },
  {
   "cell_type": "code",
   "execution_count": 45,
   "metadata": {},
   "outputs": [
    {
     "data": {
      "text/html": [
       "<pre style=\"white-space:pre;overflow-x:auto;line-height:normal;font-family:Menlo,'DejaVu Sans Mono',consolas,'Courier New',monospace\"></pre>\n"
      ],
      "text/plain": []
     },
     "metadata": {},
     "output_type": "display_data"
    },
    {
     "data": {
      "text/plain": [
       "\n",
       "\u001b[1m[\u001b[0m\n",
       "    \u001b[32m'x+z, -x+y+z, -y+z'\u001b[0m,\n",
       "    \u001b[32m'-y+z, x+z, -x+y+z'\u001b[0m,\n",
       "    \u001b[32m'-x+y+z, -y+z, x+z'\u001b[0m,\n",
       "    \u001b[32m'-y+z+1/2, -x+y+z+1/2, x+z+1/2'\u001b[0m,\n",
       "    \u001b[32m'-x+y+z+1/2, x+z+1/2, -y+z+1/2'\u001b[0m,\n",
       "    \u001b[32m'x+z+1/2, -y+z+1/2, -x+y+z+1/2'\u001b[0m\n",
       "\u001b[1m]\u001b[0m"
      ]
     },
     "execution_count": 45,
     "metadata": {},
     "output_type": "execute_result"
    }
   ],
   "source": [
    "[op.as_xyz_str() for op in uniq]"
   ]
  },
  {
   "cell_type": "code",
   "execution_count": 44,
   "metadata": {},
   "outputs": [
    {
     "data": {
      "text/html": [
       "<pre style=\"white-space:pre;overflow-x:auto;line-height:normal;font-family:Menlo,'DejaVu Sans Mono',consolas,'Courier New',monospace\"></pre>\n"
      ],
      "text/plain": []
     },
     "metadata": {},
     "output_type": "display_data"
    },
    {
     "data": {
      "text/plain": [
       "\n",
       "\u001b[1m[\u001b[0m\n",
       "    \u001b[32m'x, y, z'\u001b[0m,\n",
       "    \u001b[32m'-y, x-y, z'\u001b[0m,\n",
       "    \u001b[32m'-x+y, -x, z'\u001b[0m,\n",
       "    \u001b[32m'-y, -x, z+1/2'\u001b[0m,\n",
       "    \u001b[32m'-x+y, y, z+1/2'\u001b[0m,\n",
       "    \u001b[32m'x, x-y, z+1/2'\u001b[0m,\n",
       "    \u001b[32m'x+2/3, y+1/3, z+1/3'\u001b[0m,\n",
       "    \u001b[32m'-y+2/3, x-y+1/3, z+1/3'\u001b[0m,\n",
       "    \u001b[32m'-x+y+2/3, -x+1/3, z+1/3'\u001b[0m,\n",
       "    \u001b[32m'-y+2/3, -x+1/3, z+5/6'\u001b[0m,\n",
       "    \u001b[32m'-x+y+2/3, y+1/3, z+5/6'\u001b[0m,\n",
       "    \u001b[32m'x+2/3, x-y+1/3, z+5/6'\u001b[0m,\n",
       "    \u001b[32m'x+1/3, y+2/3, z+2/3'\u001b[0m,\n",
       "    \u001b[32m'-y+1/3, x-y+2/3, z+2/3'\u001b[0m,\n",
       "    \u001b[32m'-x+y+1/3, -x+2/3, z+2/3'\u001b[0m,\n",
       "    \u001b[32m'-y+1/3, -x+2/3, z+7/6'\u001b[0m,\n",
       "    \u001b[32m'-x+y+1/3, y+2/3, z+7/6'\u001b[0m,\n",
       "    \u001b[32m'x+1/3, x-y+2/3, z+7/6'\u001b[0m\n",
       "\u001b[1m]\u001b[0m"
      ]
     },
     "execution_count": 44,
     "metadata": {},
     "output_type": "execute_result"
    }
   ],
   "source": [
    "[op.as_xyz_str() for op in ops]"
   ]
  },
  {
   "cell_type": "code",
   "execution_count": 39,
   "metadata": {},
   "outputs": [
    {
     "data": {
      "text/html": [
       "<pre style=\"white-space:pre;overflow-x:auto;line-height:normal;font-family:Menlo,'DejaVu Sans Mono',consolas,'Courier New',monospace\"></pre>\n"
      ],
      "text/plain": []
     },
     "metadata": {},
     "output_type": "display_data"
    },
    {
     "data": {
      "text/plain": [
       "\u001b[1m<\u001b[0m\u001b[1;35mgemmi.Op\u001b[0m\u001b[1;39m(\u001b[0m\u001b[32m\"x+z,-x+y+z,-y+z\"\u001b[0m\u001b[1;39m)\u001b[0m\u001b[1m>\u001b[0m"
      ]
     },
     "execution_count": 39,
     "metadata": {},
     "output_type": "execute_result"
    }
   ],
   "source": [
    "SpaceGroup(g).centred_to_primitive().inverse()"
   ]
  },
  {
   "cell_type": "code",
   "execution_count": 21,
   "metadata": {},
   "outputs": [
    {
     "data": {
      "text/html": [
       "<pre style=\"white-space:pre;overflow-x:auto;line-height:normal;font-family:Menlo,'DejaVu Sans Mono',consolas,'Courier New',monospace\"></pre>\n"
      ],
      "text/plain": []
     },
     "metadata": {},
     "output_type": "display_data"
    },
    {
     "data": {
      "text/html": [
       "<div>\n",
       "<style scoped>\n",
       "    .dataframe tbody tr th:only-of-type {\n",
       "        vertical-align: middle;\n",
       "    }\n",
       "\n",
       "    .dataframe tbody tr th {\n",
       "        vertical-align: top;\n",
       "    }\n",
       "\n",
       "    .dataframe thead th {\n",
       "        text-align: right;\n",
       "    }\n",
       "</style>\n",
       "<table border=\"1\" class=\"dataframe\">\n",
       "  <thead>\n",
       "    <tr style=\"text-align: right;\">\n",
       "      <th></th>\n",
       "      <th>system</th>\n",
       "      <th>number</th>\n",
       "      <th>hall</th>\n",
       "      <th>symbol</th>\n",
       "      <th>cellsize</th>\n",
       "    </tr>\n",
       "  </thead>\n",
       "  <tbody>\n",
       "    <tr>\n",
       "      <th>0</th>\n",
       "      <td>monoclinic</td>\n",
       "      <td>3</td>\n",
       "      <td>3</td>\n",
       "      <td>P2</td>\n",
       "      <td>1</td>\n",
       "    </tr>\n",
       "    <tr>\n",
       "      <th>1</th>\n",
       "      <td>monoclinic</td>\n",
       "      <td>4</td>\n",
       "      <td>6</td>\n",
       "      <td>P21</td>\n",
       "      <td>1</td>\n",
       "    </tr>\n",
       "    <tr>\n",
       "      <th>2</th>\n",
       "      <td>monoclinic</td>\n",
       "      <td>5</td>\n",
       "      <td>9</td>\n",
       "      <td>C2</td>\n",
       "      <td>2</td>\n",
       "    </tr>\n",
       "    <tr>\n",
       "      <th>3</th>\n",
       "      <td>monoclinic</td>\n",
       "      <td>6</td>\n",
       "      <td>18</td>\n",
       "      <td>Pm</td>\n",
       "      <td>1</td>\n",
       "    </tr>\n",
       "    <tr>\n",
       "      <th>4</th>\n",
       "      <td>monoclinic</td>\n",
       "      <td>7</td>\n",
       "      <td>21</td>\n",
       "      <td>Pc</td>\n",
       "      <td>1</td>\n",
       "    </tr>\n",
       "    <tr>\n",
       "      <th>...</th>\n",
       "      <td>...</td>\n",
       "      <td>...</td>\n",
       "      <td>...</td>\n",
       "      <td>...</td>\n",
       "      <td>...</td>\n",
       "    </tr>\n",
       "    <tr>\n",
       "      <th>224</th>\n",
       "      <td>orthorhombic</td>\n",
       "      <td>70</td>\n",
       "      <td>336</td>\n",
       "      <td>Fddd</td>\n",
       "      <td>4</td>\n",
       "    </tr>\n",
       "    <tr>\n",
       "      <th>225</th>\n",
       "      <td>orthorhombic</td>\n",
       "      <td>71</td>\n",
       "      <td>337</td>\n",
       "      <td>Immm</td>\n",
       "      <td>2</td>\n",
       "    </tr>\n",
       "    <tr>\n",
       "      <th>226</th>\n",
       "      <td>orthorhombic</td>\n",
       "      <td>72</td>\n",
       "      <td>338</td>\n",
       "      <td>Ibam</td>\n",
       "      <td>2</td>\n",
       "    </tr>\n",
       "    <tr>\n",
       "      <th>227</th>\n",
       "      <td>orthorhombic</td>\n",
       "      <td>73</td>\n",
       "      <td>341</td>\n",
       "      <td>Ibca</td>\n",
       "      <td>2</td>\n",
       "    </tr>\n",
       "    <tr>\n",
       "      <th>228</th>\n",
       "      <td>orthorhombic</td>\n",
       "      <td>74</td>\n",
       "      <td>343</td>\n",
       "      <td>Imma</td>\n",
       "      <td>2</td>\n",
       "    </tr>\n",
       "  </tbody>\n",
       "</table>\n",
       "<p>229 rows × 5 columns</p>\n",
       "</div>"
      ],
      "text/plain": [
       "\n",
       "           system  number  hall symbol  cellsize\n",
       "\u001b[1;36m0\u001b[0m      monoclinic       \u001b[1;36m3\u001b[0m     \u001b[1;36m3\u001b[0m     P2         \u001b[1;36m1\u001b[0m\n",
       "\u001b[1;36m1\u001b[0m      monoclinic       \u001b[1;36m4\u001b[0m     \u001b[1;36m6\u001b[0m    P21         \u001b[1;36m1\u001b[0m\n",
       "\u001b[1;36m2\u001b[0m      monoclinic       \u001b[1;36m5\u001b[0m     \u001b[1;36m9\u001b[0m     C2         \u001b[1;36m2\u001b[0m\n",
       "\u001b[1;36m3\u001b[0m      monoclinic       \u001b[1;36m6\u001b[0m    \u001b[1;36m18\u001b[0m     Pm         \u001b[1;36m1\u001b[0m\n",
       "\u001b[1;36m4\u001b[0m      monoclinic       \u001b[1;36m7\u001b[0m    \u001b[1;36m21\u001b[0m     Pc         \u001b[1;36m1\u001b[0m\n",
       "..            \u001b[33m...\u001b[0m     \u001b[33m...\u001b[0m   \u001b[33m...\u001b[0m    \u001b[33m...\u001b[0m       \u001b[33m...\u001b[0m\n",
       "\u001b[1;36m224\u001b[0m  orthorhombic      \u001b[1;36m70\u001b[0m   \u001b[1;36m336\u001b[0m   Fddd         \u001b[1;36m4\u001b[0m\n",
       "\u001b[1;36m225\u001b[0m  orthorhombic      \u001b[1;36m71\u001b[0m   \u001b[1;36m337\u001b[0m   Immm         \u001b[1;36m2\u001b[0m\n",
       "\u001b[1;36m226\u001b[0m  orthorhombic      \u001b[1;36m72\u001b[0m   \u001b[1;36m338\u001b[0m   Ibam         \u001b[1;36m2\u001b[0m\n",
       "\u001b[1;36m227\u001b[0m  orthorhombic      \u001b[1;36m73\u001b[0m   \u001b[1;36m341\u001b[0m   Ibca         \u001b[1;36m2\u001b[0m\n",
       "\u001b[1;36m228\u001b[0m  orthorhombic      \u001b[1;36m74\u001b[0m   \u001b[1;36m343\u001b[0m   Imma         \u001b[1;36m2\u001b[0m\n",
       "\n",
       "\u001b[1m[\u001b[0m\u001b[1;36m229\u001b[0m rows x \u001b[1;36m5\u001b[0m columns\u001b[1m]\u001b[0m"
      ]
     },
     "execution_count": 21,
     "metadata": {},
     "output_type": "execute_result"
    }
   ],
   "source": [
    "from baysic.lattice import system_groups\n",
    "from collections import Counter\n",
    "import pandas as pd\n",
    "\n",
    "group_df = []\n",
    "for k, v in system_groups.items():\n",
    "    for g in v:\n",
    "        group_df.append({\n",
    "            'system': k,\n",
    "            'number': g.number,\n",
    "            'hall': g.hall_number,\n",
    "            'symbol': g.symbol,\n",
    "            'cellsize': g.cellsize(),\n",
    "        })\n",
    "\n",
    "group_df = pd.DataFrame(group_df)\n",
    "group_df"
   ]
  },
  {
   "cell_type": "code",
   "execution_count": 22,
   "metadata": {},
   "outputs": [
    {
     "data": {
      "text/html": [
       "<pre style=\"white-space:pre;overflow-x:auto;line-height:normal;font-family:Menlo,'DejaVu Sans Mono',consolas,'Courier New',monospace\"></pre>\n"
      ],
      "text/plain": []
     },
     "metadata": {},
     "output_type": "display_data"
    },
    {
     "data": {
      "text/plain": [
       "\n",
       "\u001b[1m{\u001b[0m\n",
       "    \u001b[32m'number'\u001b[0m: \u001b[1;36m70\u001b[0m,\n",
       "    \u001b[32m'international_short'\u001b[0m: \u001b[32m'Fddd'\u001b[0m,\n",
       "    \u001b[32m'international_full'\u001b[0m: \u001b[32m'F 2/d 2/d 2/d'\u001b[0m,\n",
       "    \u001b[32m'international'\u001b[0m: \u001b[32m'F d d d'\u001b[0m,\n",
       "    \u001b[32m'schoenflies'\u001b[0m: \u001b[32m'D2h^24'\u001b[0m,\n",
       "    \u001b[32m'hall_number'\u001b[0m: \u001b[1;36m336\u001b[0m,\n",
       "    \u001b[32m'hall_symbol'\u001b[0m: \u001b[32m'-F 2uv 2vw'\u001b[0m,\n",
       "    \u001b[32m'choice'\u001b[0m: \u001b[32m'2'\u001b[0m,\n",
       "    \u001b[32m'pointgroup_international'\u001b[0m: \u001b[32m'mmm'\u001b[0m,\n",
       "    \u001b[32m'pointgroup_schoenflies'\u001b[0m: \u001b[32m'D2h'\u001b[0m,\n",
       "    \u001b[32m'arithmetic_crystal_class_number'\u001b[0m: \u001b[1;36m20\u001b[0m,\n",
       "    \u001b[32m'arithmetic_crystal_class_symbol'\u001b[0m: \u001b[32m'mmmF'\u001b[0m\n",
       "\u001b[1m}\u001b[0m"
      ]
     },
     "execution_count": 22,
     "metadata": {},
     "output_type": "execute_result"
    }
   ],
   "source": [
    "import spglib\n",
    "\n",
    "spglib.get_spacegroup_type(336)"
   ]
  },
  {
   "cell_type": "code",
   "execution_count": 9,
   "metadata": {},
   "outputs": [
    {
     "data": {
      "text/html": [
       "<pre style=\"white-space:pre;overflow-x:auto;line-height:normal;font-family:Menlo,'DejaVu Sans Mono',consolas,'Courier New',monospace\"></pre>\n"
      ],
      "text/plain": []
     },
     "metadata": {},
     "output_type": "display_data"
    },
    {
     "data": {
      "text/plain": [
       "\n",
       "\u001b[1m{\u001b[0m\n",
       "    \u001b[32m'No.'\u001b[0m: \u001b[1m[\u001b[0m\u001b[32m'1'\u001b[0m, \u001b[32m'2'\u001b[0m, \u001b[32m'3'\u001b[0m, \u001b[32m'4'\u001b[0m, \u001b[32m'5'\u001b[0m, \u001b[32m'6'\u001b[0m, \u001b[32m'7'\u001b[0m, \u001b[32m'8'\u001b[0m, \u001b[32m'9'\u001b[0m, \u001b[32m'10'\u001b[0m, \u001b[32m'11'\u001b[0m, \u001b[32m'12'\u001b[0m\u001b[1m]\u001b[0m,\n",
       "    \u001b[32m'Coset Representative'\u001b[0m: \u001b[1m[\u001b[0m\n",
       "        \u001b[32m'x,y,z'\u001b[0m,\n",
       "        \u001b[32m'z,x,y'\u001b[0m,\n",
       "        \u001b[32m'y,z,x'\u001b[0m,\n",
       "        \u001b[32m'y,x,z'\u001b[0m,\n",
       "        \u001b[32m'z,y,x'\u001b[0m,\n",
       "        \u001b[32m'x,z,y'\u001b[0m,\n",
       "        \u001b[32m'x+1/2,y,z'\u001b[0m,\n",
       "        \u001b[32m'z+1/2,x,y'\u001b[0m,\n",
       "        \u001b[32m'y+1/2,z,x'\u001b[0m,\n",
       "        \u001b[32m'y+1/2,x,z'\u001b[0m,\n",
       "        \u001b[32m'z+1/2,y,x'\u001b[0m,\n",
       "        \u001b[32m'x+1/2,z,y'\u001b[0m\n",
       "    \u001b[1m]\u001b[0m,\n",
       "    \u001b[32m'Geometrical Interpretation'\u001b[0m: \u001b[1m[\u001b[0m\n",
       "        \u001b[3;35mNone\u001b[0m,\n",
       "        \u001b[3;35mNone\u001b[0m,\n",
       "        \u001b[3;35mNone\u001b[0m,\n",
       "        \u001b[3;35mNone\u001b[0m,\n",
       "        \u001b[3;35mNone\u001b[0m,\n",
       "        \u001b[3;35mNone\u001b[0m,\n",
       "        \u001b[3;35mNone\u001b[0m,\n",
       "        \u001b[3;35mNone\u001b[0m,\n",
       "        \u001b[3;35mNone\u001b[0m,\n",
       "        \u001b[3;35mNone\u001b[0m,\n",
       "        \u001b[3;35mNone\u001b[0m,\n",
       "        \u001b[3;35mNone\u001b[0m\n",
       "    \u001b[1m]\u001b[0m,\n",
       "    \u001b[32m'Transformed WP'\u001b[0m: \u001b[1m[\u001b[0m\n",
       "        \u001b[32m'a b c d e f g h'\u001b[0m,\n",
       "        \u001b[32m'a b c d g e f h'\u001b[0m,\n",
       "        \u001b[32m'a b c d f g e h'\u001b[0m,\n",
       "        \u001b[32m'a b c d f e g h'\u001b[0m,\n",
       "        \u001b[32m'a b c d g f e h'\u001b[0m,\n",
       "        \u001b[32m'a b c d e g f h'\u001b[0m,\n",
       "        \u001b[32m'b a d c e f g h'\u001b[0m,\n",
       "        \u001b[32m'b a d c g e f h'\u001b[0m,\n",
       "        \u001b[32m'b a d c f g e h'\u001b[0m,\n",
       "        \u001b[32m'b a d c f e g h'\u001b[0m,\n",
       "        \u001b[32m'b a d c g f e h'\u001b[0m,\n",
       "        \u001b[32m'b a d c e g f h'\u001b[0m\n",
       "    \u001b[1m]\u001b[0m\n",
       "\u001b[1m}\u001b[0m"
      ]
     },
     "execution_count": 9,
     "metadata": {},
     "output_type": "execute_result"
    }
   ],
   "source": [
    "Group(336, use_hall=True).get_alternatives()"
   ]
  },
  {
   "cell_type": "code",
   "execution_count": 10,
   "metadata": {},
   "outputs": [
    {
     "name": "stdout",
     "output_type": "stream",
     "text": [
      "6660\n"
     ]
    },
    {
     "data": {
      "text/html": [
       "<pre style=\"white-space:pre;overflow-x:auto;line-height:normal;font-family:Menlo,'DejaVu Sans Mono',consolas,'Courier New',monospace\"></pre>\n"
      ],
      "text/plain": []
     },
     "metadata": {},
     "output_type": "display_data"
    },
    {
     "data": {
      "text/plain": [
       "\u001b[1m[\u001b[0m\u001b[1m[\u001b[0m\u001b[32m'1d'\u001b[0m, \u001b[32m'1c'\u001b[0m, \u001b[32m'1b'\u001b[0m, \u001b[32m'1a'\u001b[0m\u001b[1m]\u001b[0m, \u001b[1m[\u001b[0m\u001b[32m'2e'\u001b[0m\u001b[1m]\u001b[0m, \u001b[1m[\u001b[0m\u001b[32m'2e'\u001b[0m, \u001b[32m'2e'\u001b[0m, \u001b[32m'2e'\u001b[0m\u001b[1m]\u001b[0m\u001b[1m]\u001b[0m"
      ]
     },
     "execution_count": 10,
     "metadata": {},
     "output_type": "execute_result"
    }
   ],
   "source": [
    "import numpy as np\n",
    "from pymatgen.core import Lattice\n",
    "\n",
    "comp = Composition('Ag4C2O6')\n",
    "\n",
    "sg = Group(115)\n",
    "\n",
    "all_assignments = sg.list_wyckoff_combinations(list(comp.get_el_amt_dict().values()))[0]\n",
    "print(len(all_assignments))\n",
    "all_assignments[0]"
   ]
  },
  {
   "cell_type": "code",
   "execution_count": 24,
   "metadata": {},
   "outputs": [
    {
     "data": {
      "application/vnd.jupyter.widget-view+json": {
       "model_id": "86b2573758834d3ca00feaa78a071926",
       "version_major": 2,
       "version_minor": 0
      },
      "text/plain": [
       "Output()"
      ]
     },
     "metadata": {},
     "output_type": "display_data"
    },
    {
     "name": "stdout",
     "output_type": "stream",
     "text": [
      "tetragonal\n"
     ]
    },
    {
     "data": {
      "text/html": [
       "<pre style=\"white-space:pre;overflow-x:auto;line-height:normal;font-family:Menlo,'DejaVu Sans Mono',consolas,'Courier New',monospace\"></pre>\n"
      ],
      "text/plain": []
     },
     "metadata": {},
     "output_type": "display_data"
    },
    {
     "data": {
      "text/html": [
       "<pre style=\"white-space:pre;overflow-x:auto;line-height:normal;font-family:Menlo,'DejaVu Sans Mono',consolas,'Courier New',monospace\">\n",
       "</pre>\n"
      ],
      "text/plain": [
       "\n"
      ]
     },
     "metadata": {},
     "output_type": "display_data"
    }
   ],
   "source": [
    "from baysic.lattice import LATTICES, atomic_volume\n",
    "from baysic.wyckoff_span import is_nonzero\n",
    "from rich.progress import track\n",
    "\n",
    "lat_model = None\n",
    "for lat in LATTICES:\n",
    "    if sg.number in [g.number for g in lat.get_groups()]:\n",
    "        lat_model = lat(atomic_volume(comp))\n",
    "\n",
    "print(lat_model.lattice_type)\n",
    "\n",
    "dist_df = []\n",
    "lat_matrices = [lat_model.to_lattice() for _ in range(10)]\n",
    "\n",
    "for assignment_i, assignment in track(list(enumerate(all_assignments))):\n",
    "    spans = []\n",
    "    span_radii = []\n",
    "    for specie, wyckoffs in zip(comp.elements, assignment):\n",
    "        for wyckoff in wyckoffs:\n",
    "            wp = Wyckoff_position.from_group_and_letter(sg.number, wyckoff, style='spglib')\n",
    "            if wp.get_dof() != 3:\n",
    "                radius = CovalentRadius.radius[specie.symbol]\n",
    "                for op in wp.ops:\n",
    "                    n_dof = sum(is_nonzero(op.rotation_matrix, axis=0))\n",
    "                    span = (Point, Line, Plane)[n_dof](op)\n",
    "                    did_add = False\n",
    "                    for span_i, prev_span in enumerate(spans):\n",
    "                        if span.dim == prev_span.dim and span == prev_span:\n",
    "                            span_radii[span_i].append(radius)\n",
    "                            did_add = True\n",
    "                            break\n",
    "                    if not did_add:\n",
    "                        spans.append(span)\n",
    "                        span_radii.append([radius])\n",
    "\n",
    "    for lat_i, lat_matrix in enumerate(lat_matrices):\n",
    "        dist_ratios = []\n",
    "        for span, radii in zip(spans, span_radii):\n",
    "            min_dist_ratios = np.linspace(0, 1, 100)\n",
    "            prev_min = 0\n",
    "            for curr_min in min_dist_ratios[1:]:\n",
    "                if not span.fits(lat_matrix, np.array(radii) * curr_min):\n",
    "                    dist_ratios.append(prev_min)\n",
    "                    break\n",
    "                else:\n",
    "                    prev_min = curr_min\n",
    "\n",
    "            if prev_min == 1:\n",
    "                dist_ratios.append(prev_min)\n",
    "        dist_ratio = np.min(dist_ratios)\n",
    "        dist_df.append({\n",
    "            'lattice': f'l_{lat_i}',\n",
    "            'assignment': assignment,\n",
    "            'assignment_i': assignment_i,\n",
    "            'min_ratio': dist_ratio,\n",
    "        })"
   ]
  },
  {
   "cell_type": "code",
   "execution_count": 25,
   "metadata": {},
   "outputs": [],
   "source": [
    "import pandas as pd\n",
    "import seaborn as sns\n",
    "import rho_plus as rp\n",
    "from baysic.utils import quick_view, json_to_df\n",
    "IS_DARK = False\n",
    "theme, cs = rp.mpl_setup(IS_DARK)\n",
    "rp.plotly_setup(IS_DARK)\n",
    "\n",
    "dist_df = pd.DataFrame(dist_df)\n",
    "dist_df['feasible'] = dist_df.eval('min_ratio >= 0.7')\n",
    "dist_df['easy'] = dist_df.eval('min_ratio == 1')"
   ]
  },
  {
   "cell_type": "code",
   "execution_count": 26,
   "metadata": {},
   "outputs": [
    {
     "data": {
      "text/html": [
       "<pre style=\"white-space:pre;overflow-x:auto;line-height:normal;font-family:Menlo,'DejaVu Sans Mono',consolas,'Courier New',monospace\"></pre>\n"
      ],
      "text/plain": []
     },
     "metadata": {},
     "output_type": "display_data"
    },
    {
     "data": {
      "text/html": [
       "<div>\n",
       "<style scoped>\n",
       "    .dataframe tbody tr th:only-of-type {\n",
       "        vertical-align: middle;\n",
       "    }\n",
       "\n",
       "    .dataframe tbody tr th {\n",
       "        vertical-align: top;\n",
       "    }\n",
       "\n",
       "    .dataframe thead th {\n",
       "        text-align: right;\n",
       "    }\n",
       "</style>\n",
       "<table border=\"1\" class=\"dataframe\">\n",
       "  <thead>\n",
       "    <tr style=\"text-align: right;\">\n",
       "      <th></th>\n",
       "      <th>lattice</th>\n",
       "      <th>assignment</th>\n",
       "      <th>assignment_i</th>\n",
       "      <th>min_ratio</th>\n",
       "      <th>feasible</th>\n",
       "      <th>easy</th>\n",
       "    </tr>\n",
       "  </thead>\n",
       "  <tbody>\n",
       "    <tr>\n",
       "      <th>0</th>\n",
       "      <td>l_0</td>\n",
       "      <td>[[1d, 1c, 1b, 1a], [2e], [2e, 2e, 2e]]</td>\n",
       "      <td>0</td>\n",
       "      <td>0.353535</td>\n",
       "      <td>False</td>\n",
       "      <td>False</td>\n",
       "    </tr>\n",
       "    <tr>\n",
       "      <th>1</th>\n",
       "      <td>l_1</td>\n",
       "      <td>[[1d, 1c, 1b, 1a], [2e], [2e, 2e, 2e]]</td>\n",
       "      <td>0</td>\n",
       "      <td>0.484848</td>\n",
       "      <td>False</td>\n",
       "      <td>False</td>\n",
       "    </tr>\n",
       "    <tr>\n",
       "      <th>2</th>\n",
       "      <td>l_2</td>\n",
       "      <td>[[1d, 1c, 1b, 1a], [2e], [2e, 2e, 2e]]</td>\n",
       "      <td>0</td>\n",
       "      <td>0.292929</td>\n",
       "      <td>False</td>\n",
       "      <td>False</td>\n",
       "    </tr>\n",
       "    <tr>\n",
       "      <th>3</th>\n",
       "      <td>l_3</td>\n",
       "      <td>[[1d, 1c, 1b, 1a], [2e], [2e, 2e, 2e]]</td>\n",
       "      <td>0</td>\n",
       "      <td>0.212121</td>\n",
       "      <td>False</td>\n",
       "      <td>False</td>\n",
       "    </tr>\n",
       "    <tr>\n",
       "      <th>4</th>\n",
       "      <td>l_4</td>\n",
       "      <td>[[1d, 1c, 1b, 1a], [2e], [2e, 2e, 2e]]</td>\n",
       "      <td>0</td>\n",
       "      <td>0.515152</td>\n",
       "      <td>False</td>\n",
       "      <td>False</td>\n",
       "    </tr>\n",
       "  </tbody>\n",
       "</table>\n",
       "</div>"
      ],
      "text/plain": [
       "\n",
       "  lattice                              assignment  assignment_i  min_ratio  \\\n",
       "\u001b[1;36m0\u001b[0m     l_0  \u001b[1m[\u001b[0m\u001b[1m[\u001b[0m1d, 1c, 1b, 1a\u001b[1m]\u001b[0m, \u001b[1m[\u001b[0m2e\u001b[1m]\u001b[0m, \u001b[1m[\u001b[0m2e, 2e, 2e\u001b[1m]\u001b[0m\u001b[1m]\u001b[0m             \u001b[1;36m0\u001b[0m   \u001b[1;36m0.353535\u001b[0m   \n",
       "\u001b[1;36m1\u001b[0m     l_1  \u001b[1m[\u001b[0m\u001b[1m[\u001b[0m1d, 1c, 1b, 1a\u001b[1m]\u001b[0m, \u001b[1m[\u001b[0m2e\u001b[1m]\u001b[0m, \u001b[1m[\u001b[0m2e, 2e, 2e\u001b[1m]\u001b[0m\u001b[1m]\u001b[0m             \u001b[1;36m0\u001b[0m   \u001b[1;36m0.484848\u001b[0m   \n",
       "\u001b[1;36m2\u001b[0m     l_2  \u001b[1m[\u001b[0m\u001b[1m[\u001b[0m1d, 1c, 1b, 1a\u001b[1m]\u001b[0m, \u001b[1m[\u001b[0m2e\u001b[1m]\u001b[0m, \u001b[1m[\u001b[0m2e, 2e, 2e\u001b[1m]\u001b[0m\u001b[1m]\u001b[0m             \u001b[1;36m0\u001b[0m   \u001b[1;36m0.292929\u001b[0m   \n",
       "\u001b[1;36m3\u001b[0m     l_3  \u001b[1m[\u001b[0m\u001b[1m[\u001b[0m1d, 1c, 1b, 1a\u001b[1m]\u001b[0m, \u001b[1m[\u001b[0m2e\u001b[1m]\u001b[0m, \u001b[1m[\u001b[0m2e, 2e, 2e\u001b[1m]\u001b[0m\u001b[1m]\u001b[0m             \u001b[1;36m0\u001b[0m   \u001b[1;36m0.212121\u001b[0m   \n",
       "\u001b[1;36m4\u001b[0m     l_4  \u001b[1m[\u001b[0m\u001b[1m[\u001b[0m1d, 1c, 1b, 1a\u001b[1m]\u001b[0m, \u001b[1m[\u001b[0m2e\u001b[1m]\u001b[0m, \u001b[1m[\u001b[0m2e, 2e, 2e\u001b[1m]\u001b[0m\u001b[1m]\u001b[0m             \u001b[1;36m0\u001b[0m   \u001b[1;36m0.515152\u001b[0m   \n",
       "\n",
       "   feasible   easy  \n",
       "\u001b[1;36m0\u001b[0m     \u001b[3;91mFalse\u001b[0m  \u001b[3;91mFalse\u001b[0m  \n",
       "\u001b[1;36m1\u001b[0m     \u001b[3;91mFalse\u001b[0m  \u001b[3;91mFalse\u001b[0m  \n",
       "\u001b[1;36m2\u001b[0m     \u001b[3;91mFalse\u001b[0m  \u001b[3;91mFalse\u001b[0m  \n",
       "\u001b[1;36m3\u001b[0m     \u001b[3;91mFalse\u001b[0m  \u001b[3;91mFalse\u001b[0m  \n",
       "\u001b[1;36m4\u001b[0m     \u001b[3;91mFalse\u001b[0m  \u001b[3;91mFalse\u001b[0m  "
      ]
     },
     "execution_count": 26,
     "metadata": {},
     "output_type": "execute_result"
    }
   ],
   "source": [
    "dist_df.head()"
   ]
  },
  {
   "cell_type": "code",
   "execution_count": 35,
   "metadata": {},
   "outputs": [
    {
     "data": {
      "text/html": [
       "<pre style=\"white-space:pre;overflow-x:auto;line-height:normal;font-family:Menlo,'DejaVu Sans Mono',consolas,'Courier New',monospace\"></pre>\n"
      ],
      "text/plain": []
     },
     "metadata": {},
     "output_type": "display_data"
    },
    {
     "data": {
      "text/plain": [
       "\u001b[1m<\u001b[0m\u001b[1;95mseaborn.axisgrid.FacetGrid\u001b[0m\u001b[39m object at \u001b[0m\u001b[1;36m0x7f757b79bf70\u001b[0m\u001b[1m>\u001b[0m"
      ]
     },
     "execution_count": 35,
     "metadata": {},
     "output_type": "execute_result"
    },
    {
     "data": {
      "text/html": [
       "<pre style=\"white-space:pre;overflow-x:auto;line-height:normal;font-family:Menlo,'DejaVu Sans Mono',consolas,'Courier New',monospace\"></pre>\n"
      ],
      "text/plain": []
     },
     "metadata": {},
     "output_type": "display_data"
    },
    {
     "data": {
      "image/png": "[encoded data removed]",
      "text/plain": [
       "\u001b[1m<\u001b[0m\u001b[1;95mFigure\u001b[0m\u001b[39m size \u001b[0m\u001b[1;36m565.\u001b[0m\u001b[39m708x500 with \u001b[0m\u001b[1;36m1\u001b[0m\u001b[39m Axes\u001b[0m\u001b[1m>\u001b[0m"
      ]
     },
     "metadata": {},
     "output_type": "display_data"
    }
   ],
   "source": [
    "sns.catplot(dist_df, y='lattice', x='feasible', orient='h', kind='point', hue='lattice',\n",
    "            errorbar=('ci', 99), ms=5, lw=1)"
   ]
  },
  {
   "cell_type": "code",
   "execution_count": 43,
   "metadata": {},
   "outputs": [
    {
     "data": {
      "text/html": [
       "<pre style=\"white-space:pre;overflow-x:auto;line-height:normal;font-family:Menlo,'DejaVu Sans Mono',consolas,'Courier New',monospace\"></pre>\n"
      ],
      "text/plain": []
     },
     "metadata": {},
     "output_type": "display_data"
    },
    {
     "data": {
      "text/plain": [
       "\n",
       "assignment_i\n",
       "\u001b[1;36m2736\u001b[0m    \u001b[1;36m0.0\u001b[0m\n",
       "\u001b[1;36m2761\u001b[0m    \u001b[1;36m0.0\u001b[0m\n",
       "\u001b[1;36m5518\u001b[0m    \u001b[1;36m0.0\u001b[0m\n",
       "\u001b[1;36m5575\u001b[0m    \u001b[1;36m0.0\u001b[0m\n",
       "\u001b[1;36m5619\u001b[0m    \u001b[1;36m0.0\u001b[0m\n",
       "       \u001b[33m...\u001b[0m \n",
       "\u001b[1;36m2580\u001b[0m    \u001b[1;36m0.1\u001b[0m\n",
       "\u001b[1;36m2581\u001b[0m    \u001b[1;36m0.1\u001b[0m\n",
       "\u001b[1;36m2582\u001b[0m    \u001b[1;36m0.1\u001b[0m\n",
       "\u001b[1;36m686\u001b[0m     \u001b[1;36m0.1\u001b[0m\n",
       "\u001b[1;36m2583\u001b[0m    \u001b[1;36m0.1\u001b[0m\n",
       "Name: feasible, Length: \u001b[1;36m100\u001b[0m, dtype: float64"
      ]
     },
     "execution_count": 43,
     "metadata": {},
     "output_type": "execute_result"
    }
   ],
   "source": [
    "dist_df.groupby('assignment_i').mean(numeric_only=True)['feasible'].sort_values().head(100)"
   ]
  },
  {
   "cell_type": "code",
   "execution_count": null,
   "metadata": {},
   "outputs": [],
   "source": []
  }
 ],
 "metadata": {
  "kernelspec": {
   "display_name": "mleg",
   "language": "python",
   "name": "python3"
  },
  "language_info": {
   "codemirror_mode": {
    "name": "ipython",
    "version": 3
   },
   "file_extension": ".py",
   "mimetype": "text/x-python",
   "name": "python",
   "nbconvert_exporter": "python",
   "pygments_lexer": "ipython3",
   "version": "3.10.12"
  }
 },
 "nbformat": 4,
 "nbformat_minor": 2
}
