{
 "cells": [
  {
   "cell_type": "code",
   "execution_count": 1,
   "metadata": {},
   "outputs": [
    {
     "name": "stderr",
     "output_type": "stream",
     "text": [
      "BokehDeprecationWarning: \"Use of 'Figure' as a key in Theme attributes\" was deprecated in Bokeh 3.0.0 and will be removed, use \"'figure' (lower-case) as a key\" instead.\n",
      "BokehDeprecationWarning: \"Use of 'Figure' as a key in Theme attributes\" was deprecated in Bokeh 3.0.0 and will be removed, use \"'figure' (lower-case) as a key\" instead.\n"
     ]
    }
   ],
   "source": [
    "import matplotlib.pyplot as plt\n",
    "import seaborn as sns\n",
    "import rho_plus as rp\n",
    "import pandas as pd\n",
    "import numpy as np\n",
    "from tqdm import tqdm\n",
    "\n",
    "IS_DARK = True\n",
    "theme, cs = rp.mpl_setup(IS_DARK)"
   ]
  },
  {
   "cell_type": "code",
   "execution_count": 20,
   "metadata": {},
   "outputs": [
    {
     "data": {
      "text/html": [
       "<div>\n",
       "<style scoped>\n",
       "    .dataframe tbody tr th:only-of-type {\n",
       "        vertical-align: middle;\n",
       "    }\n",
       "\n",
       "    .dataframe tbody tr th {\n",
       "        vertical-align: top;\n",
       "    }\n",
       "\n",
       "    .dataframe thead th {\n",
       "        text-align: right;\n",
       "    }\n",
       "</style>\n",
       "<table border=\"1\" class=\"dataframe\">\n",
       "  <thead>\n",
       "    <tr style=\"text-align: right;\">\n",
       "      <th></th>\n",
       "      <th>0.01 P1̅</th>\n",
       "      <th>0.01 P2</th>\n",
       "      <th>0.01 P2₁</th>\n",
       "      <th>0.01 C2</th>\n",
       "      <th>0.01 Pm</th>\n",
       "      <th>0.01 Pc</th>\n",
       "      <th>0.01 Cm</th>\n",
       "      <th>0.01 Cc</th>\n",
       "      <th>0.01 P2/m</th>\n",
       "      <th>0.01 P2₁/m</th>\n",
       "      <th>...</th>\n",
       "      <th>0.8 F432</th>\n",
       "      <th>0.8 P4₃32</th>\n",
       "      <th>0.8 P4₁32</th>\n",
       "      <th>0.8 P4̅3m</th>\n",
       "      <th>0.8 F4̅3m</th>\n",
       "      <th>0.8 Pm3̅m</th>\n",
       "      <th>0.8 Pn3̅m</th>\n",
       "      <th>0.8 Fm3̅m</th>\n",
       "      <th>target</th>\n",
       "      <th>target_group</th>\n",
       "    </tr>\n",
       "    <tr>\n",
       "      <th>comp</th>\n",
       "      <th></th>\n",
       "      <th></th>\n",
       "      <th></th>\n",
       "      <th></th>\n",
       "      <th></th>\n",
       "      <th></th>\n",
       "      <th></th>\n",
       "      <th></th>\n",
       "      <th></th>\n",
       "      <th></th>\n",
       "      <th></th>\n",
       "      <th></th>\n",
       "      <th></th>\n",
       "      <th></th>\n",
       "      <th></th>\n",
       "      <th></th>\n",
       "      <th></th>\n",
       "      <th></th>\n",
       "      <th></th>\n",
       "      <th></th>\n",
       "      <th></th>\n",
       "    </tr>\n",
       "  </thead>\n",
       "  <tbody>\n",
       "    <tr>\n",
       "      <th>Cl1La1Nb2O7Rb2</th>\n",
       "      <td>-1.340319</td>\n",
       "      <td>-0.951660</td>\n",
       "      <td>-1.677232</td>\n",
       "      <td>-1.503362</td>\n",
       "      <td>-1.146215</td>\n",
       "      <td>-1.649305</td>\n",
       "      <td>-1.674835</td>\n",
       "      <td>-1.539697</td>\n",
       "      <td>-1.293930</td>\n",
       "      <td>-1.215899</td>\n",
       "      <td>...</td>\n",
       "      <td>-0.402550</td>\n",
       "      <td>0.446255</td>\n",
       "      <td>0.902092</td>\n",
       "      <td>1.810900</td>\n",
       "      <td>-0.182240</td>\n",
       "      <td>2.086147</td>\n",
       "      <td>0.957739</td>\n",
       "      <td>-0.260509</td>\n",
       "      <td>tetragonal</td>\n",
       "      <td>P4/mmm</td>\n",
       "    </tr>\n",
       "    <tr>\n",
       "      <th>Ag1In1Tm2</th>\n",
       "      <td>-1.539849</td>\n",
       "      <td>-1.056043</td>\n",
       "      <td>-1.964249</td>\n",
       "      <td>-0.961771</td>\n",
       "      <td>-1.831013</td>\n",
       "      <td>-1.712875</td>\n",
       "      <td>-1.344746</td>\n",
       "      <td>-1.537678</td>\n",
       "      <td>-1.195206</td>\n",
       "      <td>-1.615786</td>\n",
       "      <td>...</td>\n",
       "      <td>0.254177</td>\n",
       "      <td>1.205140</td>\n",
       "      <td>1.225780</td>\n",
       "      <td>1.361077</td>\n",
       "      <td>0.606943</td>\n",
       "      <td>1.377048</td>\n",
       "      <td>0.643496</td>\n",
       "      <td>0.449496</td>\n",
       "      <td>tetragonal</td>\n",
       "      <td>P4/mmm</td>\n",
       "    </tr>\n",
       "    <tr>\n",
       "      <th>Cu4Ga4Tm8</th>\n",
       "      <td>-1.411853</td>\n",
       "      <td>-1.531939</td>\n",
       "      <td>-1.710572</td>\n",
       "      <td>-1.915784</td>\n",
       "      <td>-1.347513</td>\n",
       "      <td>-1.835433</td>\n",
       "      <td>-1.367444</td>\n",
       "      <td>-2.043778</td>\n",
       "      <td>-0.889820</td>\n",
       "      <td>-1.038978</td>\n",
       "      <td>...</td>\n",
       "      <td>0.038048</td>\n",
       "      <td>1.375873</td>\n",
       "      <td>1.798933</td>\n",
       "      <td>0.917397</td>\n",
       "      <td>0.045727</td>\n",
       "      <td>1.334151</td>\n",
       "      <td>1.639385</td>\n",
       "      <td>-0.268927</td>\n",
       "      <td>cubic</td>\n",
       "      <td>Fm-3m</td>\n",
       "    </tr>\n",
       "    <tr>\n",
       "      <th>H2Mg1O2</th>\n",
       "      <td>-1.680889</td>\n",
       "      <td>-1.101837</td>\n",
       "      <td>-1.273495</td>\n",
       "      <td>-1.312378</td>\n",
       "      <td>-0.264650</td>\n",
       "      <td>-1.175820</td>\n",
       "      <td>-1.220675</td>\n",
       "      <td>-1.296318</td>\n",
       "      <td>-1.347580</td>\n",
       "      <td>-1.264068</td>\n",
       "      <td>...</td>\n",
       "      <td>0.258552</td>\n",
       "      <td>0.824782</td>\n",
       "      <td>1.047723</td>\n",
       "      <td>0.184767</td>\n",
       "      <td>0.565213</td>\n",
       "      <td>0.184767</td>\n",
       "      <td>0.951049</td>\n",
       "      <td>0.347286</td>\n",
       "      <td>hexagonal</td>\n",
       "      <td>P-3m1</td>\n",
       "    </tr>\n",
       "    <tr>\n",
       "      <th>Ru4Ta12</th>\n",
       "      <td>-1.076671</td>\n",
       "      <td>-1.211300</td>\n",
       "      <td>-1.872161</td>\n",
       "      <td>-0.955882</td>\n",
       "      <td>-1.601107</td>\n",
       "      <td>-1.698869</td>\n",
       "      <td>-1.570820</td>\n",
       "      <td>-1.695898</td>\n",
       "      <td>-0.533530</td>\n",
       "      <td>-1.156837</td>\n",
       "      <td>...</td>\n",
       "      <td>2.131669</td>\n",
       "      <td>1.417736</td>\n",
       "      <td>2.104666</td>\n",
       "      <td>0.727991</td>\n",
       "      <td>2.156136</td>\n",
       "      <td>1.029812</td>\n",
       "      <td>1.152635</td>\n",
       "      <td>2.100077</td>\n",
       "      <td>cubic</td>\n",
       "      <td>Fm-3m</td>\n",
       "    </tr>\n",
       "    <tr>\n",
       "      <th>...</th>\n",
       "      <td>...</td>\n",
       "      <td>...</td>\n",
       "      <td>...</td>\n",
       "      <td>...</td>\n",
       "      <td>...</td>\n",
       "      <td>...</td>\n",
       "      <td>...</td>\n",
       "      <td>...</td>\n",
       "      <td>...</td>\n",
       "      <td>...</td>\n",
       "      <td>...</td>\n",
       "      <td>...</td>\n",
       "      <td>...</td>\n",
       "      <td>...</td>\n",
       "      <td>...</td>\n",
       "      <td>...</td>\n",
       "      <td>...</td>\n",
       "      <td>...</td>\n",
       "      <td>...</td>\n",
       "      <td>...</td>\n",
       "      <td>...</td>\n",
       "    </tr>\n",
       "    <tr>\n",
       "      <th>B4Ba2Ir4</th>\n",
       "      <td>-1.551133</td>\n",
       "      <td>-1.711181</td>\n",
       "      <td>-2.209936</td>\n",
       "      <td>-1.661148</td>\n",
       "      <td>-1.230339</td>\n",
       "      <td>-1.919069</td>\n",
       "      <td>-1.273206</td>\n",
       "      <td>-1.793467</td>\n",
       "      <td>-1.204105</td>\n",
       "      <td>-1.925234</td>\n",
       "      <td>...</td>\n",
       "      <td>-0.127089</td>\n",
       "      <td>2.001295</td>\n",
       "      <td>2.331565</td>\n",
       "      <td>2.544536</td>\n",
       "      <td>0.616988</td>\n",
       "      <td>1.782391</td>\n",
       "      <td>1.847854</td>\n",
       "      <td>-0.022732</td>\n",
       "      <td>tetragonal</td>\n",
       "      <td>I4/mmm</td>\n",
       "    </tr>\n",
       "    <tr>\n",
       "      <th>Ge6Mn6Nd1</th>\n",
       "      <td>-1.526661</td>\n",
       "      <td>-1.577734</td>\n",
       "      <td>-1.533701</td>\n",
       "      <td>-1.432970</td>\n",
       "      <td>-1.492171</td>\n",
       "      <td>-1.638969</td>\n",
       "      <td>-1.543072</td>\n",
       "      <td>-1.660347</td>\n",
       "      <td>-1.153476</td>\n",
       "      <td>-0.845821</td>\n",
       "      <td>...</td>\n",
       "      <td>0.211583</td>\n",
       "      <td>1.146079</td>\n",
       "      <td>0.812570</td>\n",
       "      <td>1.315872</td>\n",
       "      <td>0.432586</td>\n",
       "      <td>1.200342</td>\n",
       "      <td>0.340111</td>\n",
       "      <td>0.232404</td>\n",
       "      <td>hexagonal</td>\n",
       "      <td>P6/mmm</td>\n",
       "    </tr>\n",
       "    <tr>\n",
       "      <th>Ge4Ru4Sm4</th>\n",
       "      <td>-1.688471</td>\n",
       "      <td>-1.144979</td>\n",
       "      <td>-1.792755</td>\n",
       "      <td>-1.129677</td>\n",
       "      <td>-0.965699</td>\n",
       "      <td>-1.769521</td>\n",
       "      <td>-1.048708</td>\n",
       "      <td>-2.185753</td>\n",
       "      <td>-0.775971</td>\n",
       "      <td>-1.560691</td>\n",
       "      <td>...</td>\n",
       "      <td>-0.042424</td>\n",
       "      <td>1.838860</td>\n",
       "      <td>1.862474</td>\n",
       "      <td>1.512341</td>\n",
       "      <td>0.084247</td>\n",
       "      <td>1.646614</td>\n",
       "      <td>0.077742</td>\n",
       "      <td>0.176110</td>\n",
       "      <td>orthorhombic</td>\n",
       "      <td>Pnma</td>\n",
       "    </tr>\n",
       "    <tr>\n",
       "      <th>Cd4In4Li8</th>\n",
       "      <td>-1.195845</td>\n",
       "      <td>-0.946040</td>\n",
       "      <td>-1.118253</td>\n",
       "      <td>-1.497321</td>\n",
       "      <td>-0.909757</td>\n",
       "      <td>-1.554842</td>\n",
       "      <td>-1.090495</td>\n",
       "      <td>-1.484801</td>\n",
       "      <td>-1.020161</td>\n",
       "      <td>-0.932968</td>\n",
       "      <td>...</td>\n",
       "      <td>-0.762595</td>\n",
       "      <td>0.219978</td>\n",
       "      <td>0.957162</td>\n",
       "      <td>0.797515</td>\n",
       "      <td>-0.823769</td>\n",
       "      <td>-0.258432</td>\n",
       "      <td>0.232193</td>\n",
       "      <td>-0.896696</td>\n",
       "      <td>cubic</td>\n",
       "      <td>F-43m</td>\n",
       "    </tr>\n",
       "    <tr>\n",
       "      <th>La4S12V4</th>\n",
       "      <td>-1.125911</td>\n",
       "      <td>-1.237958</td>\n",
       "      <td>-1.490077</td>\n",
       "      <td>-0.985501</td>\n",
       "      <td>-1.010193</td>\n",
       "      <td>-1.576015</td>\n",
       "      <td>-1.449782</td>\n",
       "      <td>-1.417489</td>\n",
       "      <td>-0.463811</td>\n",
       "      <td>-0.581008</td>\n",
       "      <td>...</td>\n",
       "      <td>-0.713504</td>\n",
       "      <td>-0.262290</td>\n",
       "      <td>-0.251051</td>\n",
       "      <td>1.109910</td>\n",
       "      <td>-0.742988</td>\n",
       "      <td>0.302384</td>\n",
       "      <td>0.408565</td>\n",
       "      <td>-0.728938</td>\n",
       "      <td>orthorhombic</td>\n",
       "      <td>Pnma</td>\n",
       "    </tr>\n",
       "  </tbody>\n",
       "</table>\n",
       "<p>1751 rows × 3130 columns</p>\n",
       "</div>"
      ],
      "text/plain": [
       "                0.01 P1̅   0.01 P2  0.01 P2₁   0.01 C2   0.01 Pm   0.01 Pc  \\\n",
       "comp                                                                         \n",
       "Cl1La1Nb2O7Rb2 -1.340319 -0.951660 -1.677232 -1.503362 -1.146215 -1.649305   \n",
       "Ag1In1Tm2      -1.539849 -1.056043 -1.964249 -0.961771 -1.831013 -1.712875   \n",
       "Cu4Ga4Tm8      -1.411853 -1.531939 -1.710572 -1.915784 -1.347513 -1.835433   \n",
       "H2Mg1O2        -1.680889 -1.101837 -1.273495 -1.312378 -0.264650 -1.175820   \n",
       "Ru4Ta12        -1.076671 -1.211300 -1.872161 -0.955882 -1.601107 -1.698869   \n",
       "...                  ...       ...       ...       ...       ...       ...   \n",
       "B4Ba2Ir4       -1.551133 -1.711181 -2.209936 -1.661148 -1.230339 -1.919069   \n",
       "Ge6Mn6Nd1      -1.526661 -1.577734 -1.533701 -1.432970 -1.492171 -1.638969   \n",
       "Ge4Ru4Sm4      -1.688471 -1.144979 -1.792755 -1.129677 -0.965699 -1.769521   \n",
       "Cd4In4Li8      -1.195845 -0.946040 -1.118253 -1.497321 -0.909757 -1.554842   \n",
       "La4S12V4       -1.125911 -1.237958 -1.490077 -0.985501 -1.010193 -1.576015   \n",
       "\n",
       "                 0.01 Cm   0.01 Cc  0.01 P2/m  0.01 P2₁/m  ...  0.8 F432  \\\n",
       "comp                                                       ...             \n",
       "Cl1La1Nb2O7Rb2 -1.674835 -1.539697  -1.293930   -1.215899  ... -0.402550   \n",
       "Ag1In1Tm2      -1.344746 -1.537678  -1.195206   -1.615786  ...  0.254177   \n",
       "Cu4Ga4Tm8      -1.367444 -2.043778  -0.889820   -1.038978  ...  0.038048   \n",
       "H2Mg1O2        -1.220675 -1.296318  -1.347580   -1.264068  ...  0.258552   \n",
       "Ru4Ta12        -1.570820 -1.695898  -0.533530   -1.156837  ...  2.131669   \n",
       "...                  ...       ...        ...         ...  ...       ...   \n",
       "B4Ba2Ir4       -1.273206 -1.793467  -1.204105   -1.925234  ... -0.127089   \n",
       "Ge6Mn6Nd1      -1.543072 -1.660347  -1.153476   -0.845821  ...  0.211583   \n",
       "Ge4Ru4Sm4      -1.048708 -2.185753  -0.775971   -1.560691  ... -0.042424   \n",
       "Cd4In4Li8      -1.090495 -1.484801  -1.020161   -0.932968  ... -0.762595   \n",
       "La4S12V4       -1.449782 -1.417489  -0.463811   -0.581008  ... -0.713504   \n",
       "\n",
       "                0.8 P4₃32  0.8 P4₁32  0.8 P4̅3m  0.8 F4̅3m  0.8 Pm3̅m  \\\n",
       "comp                                                                    \n",
       "Cl1La1Nb2O7Rb2   0.446255   0.902092   1.810900  -0.182240   2.086147   \n",
       "Ag1In1Tm2        1.205140   1.225780   1.361077   0.606943   1.377048   \n",
       "Cu4Ga4Tm8        1.375873   1.798933   0.917397   0.045727   1.334151   \n",
       "H2Mg1O2          0.824782   1.047723   0.184767   0.565213   0.184767   \n",
       "Ru4Ta12          1.417736   2.104666   0.727991   2.156136   1.029812   \n",
       "...                   ...        ...        ...        ...        ...   \n",
       "B4Ba2Ir4         2.001295   2.331565   2.544536   0.616988   1.782391   \n",
       "Ge6Mn6Nd1        1.146079   0.812570   1.315872   0.432586   1.200342   \n",
       "Ge4Ru4Sm4        1.838860   1.862474   1.512341   0.084247   1.646614   \n",
       "Cd4In4Li8        0.219978   0.957162   0.797515  -0.823769  -0.258432   \n",
       "La4S12V4        -0.262290  -0.251051   1.109910  -0.742988   0.302384   \n",
       "\n",
       "                0.8 Pn3̅m  0.8 Fm3̅m        target  target_group  \n",
       "comp                                                              \n",
       "Cl1La1Nb2O7Rb2   0.957739  -0.260509    tetragonal        P4/mmm  \n",
       "Ag1In1Tm2        0.643496   0.449496    tetragonal        P4/mmm  \n",
       "Cu4Ga4Tm8        1.639385  -0.268927         cubic         Fm-3m  \n",
       "H2Mg1O2          0.951049   0.347286     hexagonal         P-3m1  \n",
       "Ru4Ta12          1.152635   2.100077         cubic         Fm-3m  \n",
       "...                   ...        ...           ...           ...  \n",
       "B4Ba2Ir4         1.847854  -0.022732    tetragonal        I4/mmm  \n",
       "Ge6Mn6Nd1        0.340111   0.232404     hexagonal        P6/mmm  \n",
       "Ge4Ru4Sm4        0.077742   0.176110  orthorhombic          Pnma  \n",
       "Cd4In4Li8        0.232193  -0.896696         cubic         F-43m  \n",
       "La4S12V4         0.408565  -0.728938  orthorhombic          Pnma  \n",
       "\n",
       "[1751 rows x 3130 columns]"
      ]
     },
     "execution_count": 20,
     "metadata": {},
     "output_type": "execute_result"
    }
   ],
   "source": [
    "df = pd.read_feather('system_prediction.feather')\n",
    "\n",
    "inds = np.arange(len(df.index))\n",
    "np.random.default_rng(124).shuffle(inds)\n",
    "\n",
    "valid_size = 0.2\n",
    "test_size = 0.2\n",
    "train_inds = inds[:int(len(inds) * (1 - valid_size) * (1 - test_size))]\n",
    "test_inds = inds[int(len(inds) * (1 - valid_size) * (1 - test_size)):int(len(inds) * (1 - valid_size))]\n",
    "valid_inds = inds[int(len(inds) * (1 - valid_size)):]\n",
    "\n",
    "df_train = df.iloc[train_inds]\n",
    "df_test = df.iloc[test_inds]\n",
    "df_valid = df.iloc[valid_inds]\n",
    "df_train"
   ]
  },
  {
   "cell_type": "code",
   "execution_count": 40,
   "metadata": {},
   "outputs": [
    {
     "name": "stderr",
     "output_type": "stream",
     "text": [
      "/home/nicholas/anaconda3/envs/baysic/lib/python3.10/site-packages/pytorch_lightning/loggers/wandb.py:395: UserWarning: There is a wandb run already in progress and newly created instances of `WandbLogger` will reuse this run. If this is not desired, call `wandb.finish()` before instantiating `WandbLogger`.\n",
      "  rank_zero_warn(\n"
     ]
    }
   ],
   "source": [
    "from pytorch_tabular import TabularModel\n",
    "from pytorch_tabular.models import CategoryEmbeddingModelConfig\n",
    "from pytorch_tabular.config import DataConfig, OptimizerConfig, TrainerConfig, ExperimentConfig\n",
    "from pytorch_tabular.models.common.heads import LinearHeadConfig\n",
    "from pytorch_tabular.utils import get_balanced_sampler, get_class_weighted_cross_entropy\n",
    "\n",
    "\n",
    "data_config = DataConfig(\n",
    "    target=['target'], #target should always be a list. Multi-targets are only supported for regression. Multi-Task Classification is not implemented\n",
    "    continuous_cols=list(df_train.select_dtypes('number').columns),\n",
    "    continuous_feature_transform='quantile_uniform'\n",
    ")\n",
    "trainer_config = TrainerConfig(\n",
    "    auto_lr_find=True, # Runs the LRFinder to automatically derive a learning rate\n",
    "    batch_size=256,\n",
    "    max_epochs=500,\n",
    "    accelerator=\"auto\", # can be 'cpu','gpu', 'tpu', or 'ipu',\n",
    "    # checkpoints=False,\n",
    "    early_stopping_patience=10,\n",
    ")\n",
    "optimizer_config = OptimizerConfig()\n",
    "\n",
    "head_config = LinearHeadConfig(\n",
    "    layers=\"\", # No additional layer in head, just a mapping layer to output_dim\n",
    "    dropout=0.1,\n",
    "    initialization=\"kaiming\"\n",
    ").__dict__ # Convert to dict to pass to the model config (OmegaConf doesn't accept objects)\n",
    "\n",
    "model_config = CategoryEmbeddingModelConfig(\n",
    "    task=\"classification\",\n",
    "    layers=\"256-256\", # Number of nodes in each layer\n",
    "    activation=\"LeakyReLU\", # Activation between each layers\n",
    "    dropout=0.1,\n",
    "    initialization=\"kaiming\",\n",
    "    head = \"LinearHead\", #Linear Head\n",
    "    head_config = head_config, # Linear Head Config\n",
    "    learning_rate = 1e-3,\n",
    "    metrics=['matthews_corrcoef', 'f1_score', 'accuracy'],\n",
    ")\n",
    "\n",
    "experiment_config = ExperimentConfig(\n",
    "    project_name='System Prediction',\n",
    "    run_name='base_group',\n",
    "    exp_watch='all',\n",
    "    log_target='wandb',\n",
    ")\n",
    "\n",
    "sampler = get_balanced_sampler(df_train['target'].values.ravel())\n",
    "\n",
    "tabular_model = TabularModel(\n",
    "    data_config=data_config,\n",
    "    model_config=model_config,\n",
    "    optimizer_config=optimizer_config,\n",
    "    trainer_config=trainer_config,\n",
    "    experiment_config=experiment_config\n",
    ")\n",
    "\n",
    "use_resample = False"
   ]
  },
  {
   "cell_type": "code",
   "execution_count": 41,
   "metadata": {},
   "outputs": [
    {
     "name": "stderr",
     "output_type": "stream",
     "text": [
      "Global seed set to 42\n",
      "2023-10-29 00:48:00,373 - {pytorch_tabular.tabular_model:473} - INFO - Preparing the DataLoaders\n",
      "2023-10-29 00:48:00,378 - {pytorch_tabular.tabular_datamodule:290} - INFO - Setting up the datamodule for classification task\n",
      "2023-10-29 00:48:10,657 - {pytorch_tabular.tabular_model:521} - INFO - Preparing the Model: CategoryEmbeddingModel\n",
      "\u001b[34m\u001b[1mwandb\u001b[0m: logging graph, to disable use `wandb.watch(log_graph=False)`\n",
      "2023-10-29 00:48:10,810 - {pytorch_tabular.tabular_model:268} - INFO - Preparing the Trainer\n",
      "/home/nicholas/anaconda3/envs/baysic/lib/python3.10/site-packages/pytorch_lightning/trainer/connectors/accelerator_connector.py:589: LightningDeprecationWarning: The Trainer argument `auto_select_gpus` has been deprecated in v1.9.0 and will be removed in v2.0.0. Please use the function `pytorch_lightning.accelerators.find_usable_cuda_devices` instead.\n",
      "  rank_zero_deprecation(\n",
      "Auto select gpus: [0]\n",
      "GPU available: True (cuda), used: True\n",
      "TPU available: False, using: 0 TPU cores\n",
      "IPU available: False, using: 0 IPUs\n",
      "HPU available: False, using: 0 HPUs\n",
      "2023-10-29 00:48:10,864 - {pytorch_tabular.tabular_model:573} - INFO - Auto LR Find Started\n",
      "/home/nicholas/anaconda3/envs/baysic/lib/python3.10/site-packages/pytorch_lightning/callbacks/model_checkpoint.py:613: UserWarning: Checkpoint directory /home/nicholas/Dropbox/programs/baysic/saved_models exists and is not empty.\n",
      "  rank_zero_warn(f\"Checkpoint directory {dirpath} exists and is not empty.\")\n",
      "LOCAL_RANK: 0 - CUDA_VISIBLE_DEVICES: [0]\n",
      "/home/nicholas/anaconda3/envs/baysic/lib/python3.10/site-packages/pytorch_lightning/trainer/connectors/data_connector.py:224: PossibleUserWarning: The dataloader, train_dataloader, does not have many workers which may be a bottleneck. Consider increasing the value of the `num_workers` argument` (try 12 which is the number of cpus on this machine) in the `DataLoader` init to improve performance.\n",
      "  rank_zero_warn(\n",
      "/home/nicholas/anaconda3/envs/baysic/lib/python3.10/site-packages/pytorch_lightning/trainer/trainer.py:1609: PossibleUserWarning: The number of training batches (7) is smaller than the logging interval Trainer(log_every_n_steps=50). Set a lower value for log_every_n_steps if you want to see logs for the training epoch.\n",
      "  rank_zero_warn(\n",
      "/home/nicholas/anaconda3/envs/baysic/lib/python3.10/site-packages/pytorch_lightning/trainer/connectors/data_connector.py:224: PossibleUserWarning: The dataloader, val_dataloader 0, does not have many workers which may be a bottleneck. Consider increasing the value of the `num_workers` argument` (try 12 which is the number of cpus on this machine) in the `DataLoader` init to improve performance.\n",
      "  rank_zero_warn(\n"
     ]
    },
    {
     "data": {
      "application/vnd.jupyter.widget-view+json": {
       "model_id": "2848dcb8b7854bd89b687669f6f6bf83",
       "version_major": 2,
       "version_minor": 0
      },
      "text/plain": [
       "Finding best initial lr:   0%|          | 0/100 [00:00<?, ?it/s]"
      ]
     },
     "metadata": {},
     "output_type": "display_data"
    },
    {
     "name": "stderr",
     "output_type": "stream",
     "text": [
      "Trainer was signaled to stop but the required `min_epochs=50` or `min_steps=None` has not been met. Training will continue...\n",
      "`Trainer.fit` stopped: `max_steps=100` reached.\n",
      "Learning rate set to 0.0010964781961431851\n",
      "Restoring states from the checkpoint path at /home/nicholas/Dropbox/programs/baysic/.lr_find_4f991aeb-5e2e-442f-9ad4-d6b94bb4b1a9.ckpt\n",
      "Restored all states from the checkpoint file at /home/nicholas/Dropbox/programs/baysic/.lr_find_4f991aeb-5e2e-442f-9ad4-d6b94bb4b1a9.ckpt\n",
      "2023-10-29 00:48:11,978 - {pytorch_tabular.tabular_model:575} - INFO - Suggested LR: 0.0010964781961431851. For plot and detailed analysis, use `find_learning_rate` method.\n",
      "2023-10-29 00:48:11,978 - {pytorch_tabular.tabular_model:582} - INFO - Training Started\n",
      "LOCAL_RANK: 0 - CUDA_VISIBLE_DEVICES: [0]\n"
     ]
    },
    {
     "data": {
      "text/html": [
       "<pre style=\"white-space:pre;overflow-x:auto;line-height:normal;font-family:Menlo,'DejaVu Sans Mono',consolas,'Courier New',monospace\">┏━━━┳━━━━━━━━━━━━━━━━━━┳━━━━━━━━━━━━━━━━━━━━━━━━━━━┳━━━━━━━━┓\n",
       "┃<span style=\"color: #800080; text-decoration-color: #800080; font-weight: bold\">   </span>┃<span style=\"color: #800080; text-decoration-color: #800080; font-weight: bold\"> Name             </span>┃<span style=\"color: #800080; text-decoration-color: #800080; font-weight: bold\"> Type                      </span>┃<span style=\"color: #800080; text-decoration-color: #800080; font-weight: bold\"> Params </span>┃\n",
       "┡━━━╇━━━━━━━━━━━━━━━━━━╇━━━━━━━━━━━━━━━━━━━━━━━━━━━╇━━━━━━━━┩\n",
       "│<span style=\"color: #7f7f7f; text-decoration-color: #7f7f7f\"> 0 </span>│ _backbone        │ CategoryEmbeddingBackbone │  866 K │\n",
       "│<span style=\"color: #7f7f7f; text-decoration-color: #7f7f7f\"> 1 </span>│ _embedding_layer │ Embedding1dLayer          │  6.3 K │\n",
       "│<span style=\"color: #7f7f7f; text-decoration-color: #7f7f7f\"> 2 </span>│ head             │ LinearHead                │  1.5 K │\n",
       "│<span style=\"color: #7f7f7f; text-decoration-color: #7f7f7f\"> 3 </span>│ loss             │ CrossEntropyLoss          │      0 │\n",
       "└───┴──────────────────┴───────────────────────────┴────────┘\n",
       "</pre>\n"
      ],
      "text/plain": [
       "┏━━━┳━━━━━━━━━━━━━━━━━━┳━━━━━━━━━━━━━━━━━━━━━━━━━━━┳━━━━━━━━┓\n",
       "┃\u001b[1;35m \u001b[0m\u001b[1;35m \u001b[0m\u001b[1;35m \u001b[0m┃\u001b[1;35m \u001b[0m\u001b[1;35mName            \u001b[0m\u001b[1;35m \u001b[0m┃\u001b[1;35m \u001b[0m\u001b[1;35mType                     \u001b[0m\u001b[1;35m \u001b[0m┃\u001b[1;35m \u001b[0m\u001b[1;35mParams\u001b[0m\u001b[1;35m \u001b[0m┃\n",
       "┡━━━╇━━━━━━━━━━━━━━━━━━╇━━━━━━━━━━━━━━━━━━━━━━━━━━━╇━━━━━━━━┩\n",
       "│\u001b[2m \u001b[0m\u001b[2m0\u001b[0m\u001b[2m \u001b[0m│ _backbone        │ CategoryEmbeddingBackbone │  866 K │\n",
       "│\u001b[2m \u001b[0m\u001b[2m1\u001b[0m\u001b[2m \u001b[0m│ _embedding_layer │ Embedding1dLayer          │  6.3 K │\n",
       "│\u001b[2m \u001b[0m\u001b[2m2\u001b[0m\u001b[2m \u001b[0m│ head             │ LinearHead                │  1.5 K │\n",
       "│\u001b[2m \u001b[0m\u001b[2m3\u001b[0m\u001b[2m \u001b[0m│ loss             │ CrossEntropyLoss          │      0 │\n",
       "└───┴──────────────────┴───────────────────────────┴────────┘\n"
      ]
     },
     "metadata": {},
     "output_type": "display_data"
    },
    {
     "data": {
      "text/html": [
       "<pre style=\"white-space:pre;overflow-x:auto;line-height:normal;font-family:Menlo,'DejaVu Sans Mono',consolas,'Courier New',monospace\"><span style=\"font-weight: bold\">Trainable params</span>: 874 K                                                                                            \n",
       "<span style=\"font-weight: bold\">Non-trainable params</span>: 0                                                                                            \n",
       "<span style=\"font-weight: bold\">Total params</span>: 874 K                                                                                                \n",
       "<span style=\"font-weight: bold\">Total estimated model params size (MB)</span>: 3                                                                          \n",
       "</pre>\n"
      ],
      "text/plain": [
       "\u001b[1mTrainable params\u001b[0m: 874 K                                                                                            \n",
       "\u001b[1mNon-trainable params\u001b[0m: 0                                                                                            \n",
       "\u001b[1mTotal params\u001b[0m: 874 K                                                                                                \n",
       "\u001b[1mTotal estimated model params size (MB)\u001b[0m: 3                                                                          \n"
      ]
     },
     "metadata": {},
     "output_type": "display_data"
    },
    {
     "data": {
      "application/vnd.jupyter.widget-view+json": {
       "model_id": "4999fb37e9474b35ae1a44487f1590b8",
       "version_major": 2,
       "version_minor": 0
      },
      "text/plain": [
       "Output()"
      ]
     },
     "metadata": {},
     "output_type": "display_data"
    },
    {
     "data": {
      "text/html": [
       "<pre style=\"white-space:pre;overflow-x:auto;line-height:normal;font-family:Menlo,'DejaVu Sans Mono',consolas,'Courier New',monospace\"></pre>\n"
      ],
      "text/plain": []
     },
     "metadata": {},
     "output_type": "display_data"
    },
    {
     "data": {
      "text/html": [
       "<pre style=\"white-space:pre;overflow-x:auto;line-height:normal;font-family:Menlo,'DejaVu Sans Mono',consolas,'Courier New',monospace\">\n",
       "</pre>\n"
      ],
      "text/plain": [
       "\n"
      ]
     },
     "metadata": {},
     "output_type": "display_data"
    },
    {
     "name": "stderr",
     "output_type": "stream",
     "text": [
      "2023-10-29 00:48:19,398 - {pytorch_tabular.tabular_model:584} - INFO - Training the model completed\n",
      "2023-10-29 00:48:19,399 - {pytorch_tabular.tabular_model:1258} - INFO - Loading the best model\n",
      "/home/nicholas/anaconda3/envs/baysic/lib/python3.10/site-packages/pytorch_lightning/utilities/cloud_io.py:33: LightningDeprecationWarning: `pytorch_lightning.utilities.cloud_io.get_filesystem` has been deprecated in v1.8.0 and will be removed in v2.0.0. Please use `lightning_fabric.utilities.cloud_io.get_filesystem` instead.\n",
      "  rank_zero_deprecation(\n"
     ]
    },
    {
     "data": {
      "text/plain": [
       "<pytorch_lightning.trainer.trainer.Trainer at 0x7f4e7230af20>"
      ]
     },
     "execution_count": 41,
     "metadata": {},
     "output_type": "execute_result"
    }
   ],
   "source": [
    "# test = df_test['target_group'].isin(df_train['target_group'])\n",
    "# mask = df_valid['target_group'].isin(df_test['target_group'])\n",
    "\n",
    "tabular_model.fit(\n",
    "    train=df_train,\n",
    "    validation=df_test,\n",
    "    train_sampler=sampler if use_resample else None,\n",
    "    min_epochs=50,\n",
    ")"
   ]
  },
  {
   "cell_type": "code",
   "execution_count": 42,
   "metadata": {},
   "outputs": [
    {
     "data": {
      "application/vnd.jupyter.widget-view+json": {
       "model_id": "3b2b655f7d504451b91aca2f146378a5",
       "version_major": 2,
       "version_minor": 0
      },
      "text/plain": [
       "Output()"
      ]
     },
     "metadata": {},
     "output_type": "display_data"
    },
    {
     "data": {
      "text/html": [
       "<pre style=\"white-space:pre;overflow-x:auto;line-height:normal;font-family:Menlo,'DejaVu Sans Mono',consolas,'Courier New',monospace\"></pre>\n"
      ],
      "text/plain": []
     },
     "metadata": {},
     "output_type": "display_data"
    },
    {
     "data": {
      "text/html": [
       "<pre style=\"white-space:pre;overflow-x:auto;line-height:normal;font-family:Menlo,'DejaVu Sans Mono',consolas,'Courier New',monospace\">\n",
       "</pre>\n"
      ],
      "text/plain": [
       "\n"
      ]
     },
     "metadata": {},
     "output_type": "display_data"
    },
    {
     "data": {
      "text/plain": [
       "Text(0.5, 1.0, 'MCC: 0.431\\nF1: 0.546\\nAccuracy: 0.542')"
      ]
     },
     "execution_count": 42,
     "metadata": {},
     "output_type": "execute_result"
    },
    {
     "data": {
      "image/png": "[encoded data removed]",
      "text/plain": [
       "<Figure size 800x600 with 2 Axes>"
      ]
     },
     "metadata": {},
     "output_type": "display_data"
    }
   ],
   "source": [
    "import seaborn as sns\n",
    "\n",
    "palette = sns.color_palette('dark:#730aff', as_cmap=True)\n",
    "pred_df = tabular_model.predict(df_valid, include_input_features=False)\n",
    "import sklearn.metrics as metrics\n",
    "y = df_valid['target']\n",
    "preds = pred_df['prediction']\n",
    "\n",
    "sample_weight = 1 / y.value_counts().loc[y] if use_resample else np.ones_like(y)\n",
    "sample_weight /= np.sum(sample_weight)\n",
    "\n",
    "order = ['triclinic', 'monoclinic', 'orthorhombic', 'tetragonal', 'hexagonal', 'cubic']\n",
    "conf_mat = metrics.confusion_matrix(y, preds, labels=order, normalize='true').astype(float)\n",
    "sns.heatmap(conf_mat, annot=True, xticklabels=order, yticklabels=order, cmap=palette, fmt='.0%')\n",
    "plt.title('\\n'.join([\n",
    "    'MCC: {:.3f}'.format(metrics.matthews_corrcoef(y, preds, sample_weight=sample_weight)),\n",
    "    'F1: {:.3f}'.format(metrics.f1_score(y, preds, average='weighted')),\n",
    "    'Accuracy: {:.3f}'.format(metrics.accuracy_score(y, preds, sample_weight=sample_weight))\n",
    "]))"
   ]
  },
  {
   "cell_type": "code",
   "execution_count": null,
   "metadata": {},
   "outputs": [
    {
     "data": {
      "application/vnd.jupyter.widget-view+json": {
       "model_id": "018068af9ebd40f8b7731a4a2adbd659",
       "version_major": 2,
       "version_minor": 0
      },
      "text/plain": [
       "Output()"
      ]
     },
     "metadata": {},
     "output_type": "display_data"
    },
    {
     "data": {
      "text/html": [
       "<pre style=\"white-space:pre;overflow-x:auto;line-height:normal;font-family:Menlo,'DejaVu Sans Mono',consolas,'Courier New',monospace\"></pre>\n"
      ],
      "text/plain": []
     },
     "metadata": {},
     "output_type": "display_data"
    },
    {
     "data": {
      "text/html": [
       "<pre style=\"white-space:pre;overflow-x:auto;line-height:normal;font-family:Menlo,'DejaVu Sans Mono',consolas,'Courier New',monospace\">\n",
       "</pre>\n"
      ],
      "text/plain": [
       "\n"
      ]
     },
     "metadata": {},
     "output_type": "display_data"
    },
    {
     "name": "stdout",
     "output_type": "stream",
     "text": [
      "MCC: 0.377\n",
      "F1: 0.357\n",
      "Accuracy: 0.411\n"
     ]
    },
    {
     "name": "stderr",
     "output_type": "stream",
     "text": [
      "/home/nicholas/anaconda3/envs/baysic/lib/python3.10/site-packages/pytorch_tabular/tabular_model.py:1239: PerformanceWarning: DataFrame is highly fragmented.  This is usually the result of calling `frame.insert` many times, which has poor performance.  Consider joining all columns at once using pd.concat(axis=1) instead. To get a de-fragmented frame, use `newframe = frame.copy()`\n",
      "  pred_df[f\"{class_}_probability\"] = point_predictions[:, i]\n",
      "/home/nicholas/anaconda3/envs/baysic/lib/python3.10/site-packages/pytorch_tabular/tabular_model.py:1239: PerformanceWarning: DataFrame is highly fragmented.  This is usually the result of calling `frame.insert` many times, which has poor performance.  Consider joining all columns at once using pd.concat(axis=1) instead. To get a de-fragmented frame, use `newframe = frame.copy()`\n",
      "  pred_df[f\"{class_}_probability\"] = point_predictions[:, i]\n",
      "/home/nicholas/anaconda3/envs/baysic/lib/python3.10/site-packages/pytorch_tabular/tabular_model.py:1239: PerformanceWarning: DataFrame is highly fragmented.  This is usually the result of calling `frame.insert` many times, which has poor performance.  Consider joining all columns at once using pd.concat(axis=1) instead. To get a de-fragmented frame, use `newframe = frame.copy()`\n",
      "  pred_df[f\"{class_}_probability\"] = point_predictions[:, i]\n",
      "/home/nicholas/anaconda3/envs/baysic/lib/python3.10/site-packages/pytorch_tabular/tabular_model.py:1239: PerformanceWarning: DataFrame is highly fragmented.  This is usually the result of calling `frame.insert` many times, which has poor performance.  Consider joining all columns at once using pd.concat(axis=1) instead. To get a de-fragmented frame, use `newframe = frame.copy()`\n",
      "  pred_df[f\"{class_}_probability\"] = point_predictions[:, i]\n",
      "/home/nicholas/anaconda3/envs/baysic/lib/python3.10/site-packages/pytorch_tabular/tabular_model.py:1240: PerformanceWarning: DataFrame is highly fragmented.  This is usually the result of calling `frame.insert` many times, which has poor performance.  Consider joining all columns at once using pd.concat(axis=1) instead. To get a de-fragmented frame, use `newframe = frame.copy()`\n",
      "  pred_df[\"prediction\"] = self.datamodule.label_encoder.inverse_transform(\n"
     ]
    }
   ],
   "source": [
    "# import seaborn as sns\n",
    "# palette = sns.color_palette('dark:#730aff', as_cmap=True)\n",
    "# valid = df_valid[df_valid['target_group'].isin(df_train['target_group'])]\n",
    "# pred_df = tabular_model.predict(valid, include_input_features=False)\n",
    "# import sklearn.metrics as metrics\n",
    "# y = valid['target_group']\n",
    "# preds = pred_df['prediction']\n",
    "\n",
    "# print('\\n'.join([\n",
    "#     'MCC: {:.3f}'.format(metrics.matthews_corrcoef(y, preds, sample_weight=sample_weight)),\n",
    "#     'F1: {:.3f}'.format(metrics.f1_score(y, preds, average='weighted')),\n",
    "#     'Accuracy: {:.3f}'.format(metrics.accuracy_score(y, preds, sample_weight=sample_weight))\n",
    "# ]))"
   ]
  },
  {
   "cell_type": "code",
   "execution_count": null,
   "metadata": {},
   "outputs": [],
   "source": []
  }
 ],
 "metadata": {
  "kernelspec": {
   "display_name": "baysic",
   "language": "python",
   "name": "python3"
  },
  "language_info": {
   "codemirror_mode": {
    "name": "ipython",
    "version": 3
   },
   "file_extension": ".py",
   "mimetype": "text/x-python",
   "name": "python",
   "nbconvert_exporter": "python",
   "pygments_lexer": "ipython3",
   "version": "3.10.12"
  }
 },
 "nbformat": 4,
 "nbformat_minor": 2
}
