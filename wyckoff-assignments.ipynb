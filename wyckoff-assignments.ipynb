{
 "cells": [
  {
   "cell_type": "code",
   "execution_count": 1,
   "metadata": {},
   "outputs": [],
   "source": [
    "import seaborn as sns\n",
    "from pathlib import Path\n",
    "from baysic.utils import quick_view, json_to_df\n",
    "import pandas as pd\n",
    "from pymatgen.symmetry.analyzer import SpacegroupAnalyzer\n",
    "\n",
    "df = pd.read_pickle('merged_test_data3.pkl')"
   ]
  },
  {
   "cell_type": "code",
   "execution_count": 2,
   "metadata": {},
   "outputs": [],
   "source": [
    "from baysic.utils import get_group\n",
    "from pyxtal import Group\n",
    "from collections import defaultdict\n",
    "import numpy as np\n",
    "import itertools\n",
    "from pymatgen.core import Composition\n",
    "\n",
    "class Wyckoffs:\n",
    "    def __init__(self, group: int | str | Group, n_max: int = 32) -> None:\n",
    "        self.group = get_group(group)        \n",
    "        self.general = set()\n",
    "        special_counts = defaultdict(int)\n",
    "        for wp in self.group.Wyckoff_positions:\n",
    "            if wp.get_dof() == 0:\n",
    "                special_counts[wp.multiplicity] += 1\n",
    "            else:\n",
    "                self.general.add(wp.multiplicity)\n",
    "\n",
    "        self.special_counts = []\n",
    "        self.special_mults = []\n",
    "        for k in sorted(special_counts.keys()):\n",
    "            self.special_mults.append(k)\n",
    "            self.special_counts.append(special_counts[k])\n",
    "\n",
    "        self.n_max = n_max\n",
    "        self._build(self.n_max)\n",
    "\n",
    "    def __repr__(self):\n",
    "        return f'''    \n",
    "Group {self.group.number}\n",
    "General: {\" \".join(map(str, self.general))}\n",
    "Special:\n",
    "Mult. | {\" | \".join(map(str, self.special_mults))}\n",
    "# WPs | {\" | \".join(map(str, self.special_counts))}\n",
    "'''    \n",
    "\n",
    "    @staticmethod\n",
    "    def pareto_front(pts: np.array) -> np.array:\n",
    "        front = []\n",
    "        for pt in pts:\n",
    "            if not any(all(pt >= front_pt) for front_pt in front):\n",
    "                front.append(pt)\n",
    "\n",
    "        return np.array(front, dtype=int)\n",
    "    \n",
    "    def _build(self, n_max: int):   \n",
    "        ndim = len(self.special_mults)        \n",
    "        def zero() -> np.array:\n",
    "            return np.zeros((1, ndim), dtype=int)\n",
    "\n",
    "        all_counts = [zero()]\n",
    "\n",
    "        self.limit = np.array(self.special_counts)\n",
    "\n",
    "        costs = []\n",
    "        mults = []\n",
    "        for j_vec, j_mult in zip(np.eye(ndim), self.special_mults):\n",
    "            if j_mult not in self.general:\n",
    "                costs.append(j_vec)\n",
    "                mults.append(j_mult)\n",
    "\n",
    "        for mult in self.general:\n",
    "            costs.append(zero())\n",
    "            mults.append(mult)\n",
    "\n",
    "        O = tuple(np.zeros(ndim))\n",
    "        for k in range(1, n_max + 1):\n",
    "            all_vecs = set()\n",
    "            for cost, mult in zip(costs, mults):        \n",
    "                if mult <= k and all_counts[k - mult] is not None:        \n",
    "                    vecs = all_counts[k - mult] + cost\n",
    "                    all_vecs.update(tuple(vec) for vec in vecs[np.all(vecs <= self.limit, axis=1)])\n",
    "            \n",
    "            if O in all_vecs:\n",
    "                all_counts.append(zero())\n",
    "            elif all_vecs:\n",
    "                all_counts.append(self.pareto_front(np.array(list(all_vecs))))\n",
    "            else:\n",
    "                all_counts.append(None)\n",
    "\n",
    "        \n",
    "        self.frontiers = {}        \n",
    "\n",
    "        for i, counts in enumerate(all_counts):\n",
    "            if i == 0 or counts is None:\n",
    "                continue\n",
    "            else:\n",
    "                self.frontiers[i] = counts                \n",
    "        \n",
    "        self.n_dim = ndim        \n",
    "\n",
    "    def _can_make_single(self, card: int) -> bool:\n",
    "        if card > self.n_max:\n",
    "            raise ValueError(f'Only computed values up to {self.n_max}, not {card}')\n",
    "        \n",
    "        return card in self.frontiers\n",
    "        \n",
    "    def can_make(self, num_atoms: list[int] | Composition) -> bool:\n",
    "        if isinstance(num_atoms, Composition):\n",
    "            num_atoms = list(num_atoms.values())\n",
    "\n",
    "        int_num_atoms = np.array(num_atoms).astype(int)\n",
    "        if not np.allclose(int_num_atoms, num_atoms):\n",
    "            raise ValueError(f'Does not support fractional composition {num_atoms}')\n",
    "\n",
    "        # also checks for too many atoms\n",
    "        if not all(self._can_make_single(card) for card in int_num_atoms):\n",
    "            return False\n",
    "                \n",
    "        # can we choose vectors v from self.frontiers[c], for each\n",
    "        # c in num_atoms, such that the sum of all v <= self.limit?\n",
    "        choices = [range(len(self.frontiers[c])) for c in int_num_atoms]\n",
    "        frontiers = [self.frontiers[c] for c in num_atoms]\n",
    "        for choice in itertools.product(*choices):\n",
    "            if np.all(sum(vec[i] for vec, i in zip(frontiers, choice)) <= self.limit):\n",
    "                return True\n",
    "            \n",
    "        return False"
   ]
  },
  {
   "cell_type": "code",
   "execution_count": 202,
   "metadata": {},
   "outputs": [],
   "source": [
    "from pymatgen.symmetry.analyzer import SpacegroupAnalyzer\n",
    "symms = []\n",
    "sgas = []\n",
    "for struct in df['struct']:\n",
    "    sga = SpacegroupAnalyzer(struct)\n",
    "    symm = sga.get_conventional_standard_structure()    \n",
    "    sgas.append(sga)\n",
    "    symms.append(symm)    \n"
   ]
  },
  {
   "cell_type": "code",
   "execution_count": 206,
   "metadata": {},
   "outputs": [],
   "source": [
    "all_wycks = []\n",
    "for sga, symm in zip(sgas, symms):\n",
    "    all_wycks.append(Wyckoffs(sga.get_space_group_number(), 256))"
   ]
  },
  {
   "cell_type": "code",
   "execution_count": 207,
   "metadata": {},
   "outputs": [],
   "source": [
    "frontiers = []\n",
    "for wycks, symm in zip(all_wycks, symms):\n",
    "    comp = symm.composition\n",
    "\n",
    "    frontiers.append(np.prod([len(x) for x in wycks.frontiers.values()]))\n",
    "    for num_atoms in comp.values():\n",
    "        assert wycks._can_make_single(int(num_atoms))\n",
    "\n",
    "    assert wycks.can_make(comp)"
   ]
  },
  {
   "cell_type": "code",
   "execution_count": 197,
   "metadata": {},
   "outputs": [
    {
     "data": {
      "text/plain": [
       "1"
      ]
     },
     "execution_count": 197,
     "metadata": {},
     "output_type": "execute_result"
    }
   ],
   "source": [
    "len(list(wycks.frontiers.values())[0])"
   ]
  },
  {
   "cell_type": "code",
   "execution_count": 1,
   "metadata": {},
   "outputs": [
    {
     "name": "stderr",
     "output_type": "stream",
     "text": [
      "/home/nicholas/anaconda3/envs/baysic/lib/python3.10/site-packages/mp_api/client/mprester.py:227: UserWarning: mpcontribs-client not installed. Install the package to query MPContribs data, or construct pourbaix diagrams: 'pip install mpcontribs-client'\n",
      "  warnings.warn(\n"
     ]
    },
    {
     "data": {
      "text/plain": [
       "MainConfig(log=LogConfig(use_wandb=False, wandb_api_key=None, wandb_project='baysic', use_directory=True, log_directory=PosixPath('logs'), log_dir_mode=<FileLoggingMode.overwrite: 'overwrite'>), search=SearchConfig(rng_seed=16274, n_parallel_structs=500, n_grid=12, wyckoff_strategy=<WyckoffSelectionStrategy.sample_distinct: 'sample_distinct'>, smoke_test=False, num_generations=200, max_gens_at_once=10, allowed_attempts_per_gen=10.0, lattice_scale_factor_mu=1.1, lattice_scale_factor_sigma=0.47, order_positions_by_radius=False, groups_to_search=[47, 77, 16, 194, 131, 2, 10, 223, 71, 195, 89]), target=TargetStructureConfig(mp_id='mp-11251', api_key=None), cli=CliConfig(verbosity=<LoggingLevel.info: 20>, show_progress=True))"
      ]
     },
     "execution_count": 1,
     "metadata": {},
     "output_type": "execute_result"
    }
   ],
   "source": [
    "from baysic.pyro_generator import SystemStructureModel\n",
    "from baysic.config import MainConfig\n",
    "import pyrallis\n",
    "\n",
    "with open('configs/perf_test.toml', 'r') as infile:\n",
    "    conf = pyrallis.load(MainConfig, infile)\n",
    "\n",
    "conf"
   ]
  },
  {
   "cell_type": "code",
   "execution_count": 3,
   "metadata": {},
   "outputs": [
    {
     "data": {
      "text/plain": [
       "{'num_assignments': 0}"
      ]
     },
     "execution_count": 3,
     "metadata": {},
     "output_type": "execute_result"
    }
   ],
   "source": [
    "from baysic.lattice import CubicLattice\n",
    "model = SystemStructureModel(conf.log, conf.search, conf.target.composition, CubicLattice, force_group=195)\n",
    "model.log_info"
   ]
  },
  {
   "cell_type": "code",
   "execution_count": 8,
   "metadata": {},
   "outputs": [
    {
     "ename": "WyckoffAssignmentFailed",
     "evalue": "(Composition('Mg6 Au2'), <class 'baysic.lattice.CubicLattice'>, [-- Spacegroup --# 195 (P23)--\n12j\tsite symm: 1\n6i\tsite symm: 2 . .\n6h\tsite symm: 2 . .\n6g\tsite symm: 2 . .\n6f\tsite symm: 2 . .\n4e\tsite symm: . 3 .\n3d\tsite symm: 222 . .\n3c\tsite symm: 22 . .\n1b\tsite symm: 2 33 .\n1a\tsite symm: 2 3 .], 'Could not find valid Wyckoff assignment')",
     "output_type": "error",
     "traceback": [
      "\u001b[0;31m---------------------------------------------------------------------------\u001b[0m",
      "\u001b[0;31mWyckoffAssignmentFailed\u001b[0m                   Traceback (most recent call last)",
      "\u001b[1;32m/home/nicholas/Dropbox/programs/baysic/wyckoff-assignments.ipynb Cell 9\u001b[0m line \u001b[0;36m1\n\u001b[0;32m----> <a href='vscode-notebook-cell:/home/nicholas/Dropbox/programs/baysic/wyckoff-assignments.ipynb#X30sZmlsZQ%3D%3D?line=0'>1</a>\u001b[0m model\u001b[39m.\u001b[39;49mforward()\n",
      "File \u001b[0;32m~/Dropbox/programs/baysic/baysic/pyro_generator.py:172\u001b[0m, in \u001b[0;36mSystemStructureModel.forward\u001b[0;34m(self)\u001b[0m\n\u001b[1;32m    168\u001b[0m     \u001b[39mself\u001b[39m\u001b[39m.\u001b[39mlog_info[\u001b[39m'\u001b[39m\u001b[39mnum_assignments\u001b[39m\u001b[39m'\u001b[39m] \u001b[39m=\u001b[39m \u001b[39m-\u001b[39mtries\n\u001b[1;32m    169\u001b[0m     \u001b[39mif\u001b[39;00m comb \u001b[39mis\u001b[39;00m \u001b[39mNone\u001b[39;00m:\n\u001b[1;32m    170\u001b[0m         \u001b[39m# note the difference from WyckoffAssignmentImpossible: this should \u001b[39;00m\n\u001b[1;32m    171\u001b[0m         \u001b[39m# (hopefully) never happen and is a problem with the model\u001b[39;00m\n\u001b[0;32m--> 172\u001b[0m         \u001b[39mraise\u001b[39;00m WyckoffAssignmentFailed(\n\u001b[1;32m    173\u001b[0m             \u001b[39mself\u001b[39m\u001b[39m.\u001b[39mcomp,\n\u001b[1;32m    174\u001b[0m             \u001b[39mself\u001b[39m\u001b[39m.\u001b[39mlattice_model,\n\u001b[1;32m    175\u001b[0m             [group],\n\u001b[1;32m    176\u001b[0m             \u001b[39m'\u001b[39m\u001b[39mCould not find valid Wyckoff assignment\u001b[39m\u001b[39m'\u001b[39m)\n\u001b[1;32m    178\u001b[0m     \u001b[39mself\u001b[39m\u001b[39m.\u001b[39msg \u001b[39m=\u001b[39m group\u001b[39m.\u001b[39mnumber\n\u001b[1;32m    179\u001b[0m \u001b[39melse\u001b[39;00m:\n",
      "\u001b[0;31mWyckoffAssignmentFailed\u001b[0m: (Composition('Mg6 Au2'), <class 'baysic.lattice.CubicLattice'>, [-- Spacegroup --# 195 (P23)--\n12j\tsite symm: 1\n6i\tsite symm: 2 . .\n6h\tsite symm: 2 . .\n6g\tsite symm: 2 . .\n6f\tsite symm: 2 . .\n4e\tsite symm: . 3 .\n3d\tsite symm: 222 . .\n3c\tsite symm: 22 . .\n1b\tsite symm: 2 33 .\n1a\tsite symm: 2 3 .], 'Could not find valid Wyckoff assignment')"
     ]
    }
   ],
   "source": [
    "model.forward()"
   ]
  },
  {
   "cell_type": "code",
   "execution_count": 31,
   "metadata": {},
   "outputs": [
    {
     "name": "stdout",
     "output_type": "stream",
     "text": [
      "[0.11 0.11 0.11 0.11 0.29 0.11 0.11 0.04 0.04] i h g f e d c b a\n",
      "[0.75 0.12 0.12] d b a\n",
      "[1.] b\n",
      "[0.11 0.11 0.11 0.11 0.29 0.11 0.11 0.04 0.04] i h g f e d c b a\n",
      "[0.75 0.12 0.12] c b a\n",
      "[0.5 0.5] b a\n",
      "[1.] a\n"
     ]
    },
    {
     "name": "stderr",
     "output_type": "stream",
     "text": [
      "/tmp/ipykernel_142294/3318111791.py:11: DeprecationWarning: In future, it will be an error for 'np.bool_' scalars to be interpreted as an index\n",
      "  has_freedom = torch.tensor([wp.get_dof() != 0 for wp in all_wps])\n"
     ]
    }
   ],
   "source": [
    "import torch\n",
    "import pyro.distributions as dist\n",
    "from baysic.errors import WyckoffAssignmentFailed\n",
    "\n",
    "self = model\n",
    "\n",
    "group = self.group_options[self.group_opt]            \n",
    "num_atoms = list(self.comp.values())            \n",
    "all_wps = group.Wyckoff_positions                            \n",
    "mults = torch.tensor([wp.multiplicity for wp in all_wps]).float()\n",
    "has_freedom = torch.tensor([wp.get_dof() != 0 for wp in all_wps])\n",
    "def try_assignment():\n",
    "    complete_assignment = []\n",
    "    for count in num_atoms:    \n",
    "        removed = torch.zeros_like(has_freedom)\n",
    "        assignment = []\n",
    "        curr_count = count\n",
    "        while curr_count != 0:\n",
    "            is_possible = torch.where(~removed & (mults <= curr_count))[0]\n",
    "            if len(is_possible) == 0:\n",
    "                return None\n",
    "            weights = mults[is_possible] * 5            \n",
    "            _uniq, inv, counts = torch.unique(mults[is_possible], return_inverse=True, return_counts=True)\n",
    "            weights /= counts[inv]\n",
    "            weights /= weights.sum()            \n",
    "            selection = is_possible[dist.Categorical(probs=weights).sample()].item()        \n",
    "            print(weights.numpy().round(2), ' '.join([all_wps[i].letter for i in is_possible]))\n",
    "            assignment.append(all_wps[selection].letter)\n",
    "            curr_count -= mults[selection].item()\n",
    "            if not has_freedom[selection]:\n",
    "                removed[selection] = True                            \n",
    "\n",
    "        complete_assignment.append(assignment)\n",
    "    return complete_assignment\n",
    "\n",
    "tries = 0\n",
    "comb = None\n",
    "while tries < 100 and comb is None:\n",
    "    tries += 1\n",
    "    comb = try_assignment()\n",
    "\n",
    "self.log_info['num_assignments'] = -tries\n",
    "if comb is None:\n",
    "    # note the difference from WyckoffAssignmentImpossible: this should \n",
    "    # (hopefully) never happen and is a problem with the model\n",
    "    raise WyckoffAssignmentFailed(\n",
    "        self.comp,\n",
    "        self.lattice_model,\n",
    "        [group],\n",
    "        'Could not find valid Wyckoff assignment')"
   ]
  },
  {
   "cell_type": "code",
   "execution_count": 3,
   "metadata": {},
   "outputs": [
    {
     "data": {
      "text/plain": [
       "torch.return_types.topk(\n",
       "values=tensor([-1.6375, -1.4772, -1.0596, -0.5137]),\n",
       "indices=tensor([ 8,  7, 11,  0]))"
      ]
     },
     "execution_count": 3,
     "metadata": {},
     "output_type": "execute_result"
    }
   ],
   "source": [
    "import torch\n",
    "\n",
    "v = torch.randn(3, 4).flatten()\n",
    "\n",
    "v.topk(4, largest=False)"
   ]
  },
  {
   "cell_type": "code",
   "execution_count": null,
   "metadata": {},
   "outputs": [],
   "source": []
  }
 ],
 "metadata": {
  "kernelspec": {
   "display_name": "baysic",
   "language": "python",
   "name": "python3"
  },
  "language_info": {
   "codemirror_mode": {
    "name": "ipython",
    "version": 3
   },
   "file_extension": ".py",
   "mimetype": "text/x-python",
   "name": "python",
   "nbconvert_exporter": "python",
   "pygments_lexer": "ipython3",
   "version": "3.10.12"
  }
 },
 "nbformat": 4,
 "nbformat_minor": 2
}
